{
 "nbformat": 4,
 "nbformat_minor": 0,
 "metadata": {
  "colab": {
   "provenance": []
  },
  "kernelspec": {
   "name": "python3",
   "language": "python",
   "display_name": "Python 3 (ipykernel)"
  },
  "language_info": {
   "name": "python"
  }
 },
 "cells": [
  {
   "cell_type": "markdown",
   "source": [
    "2. For SMS Spam Collection Dataset build a Naive Bayes Classifer. The files\n",
    "contain one message per line. Each line is composed by two columns: v1\n",
    "contains the label (ham or spam) and v2 contains the raw text. Divide data\n",
    "to test and train. Calculate the error on test data"
   ],
   "metadata": {
    "id": "pcXxxl2GoOxx"
   }
  },
  {
   "cell_type": "code",
   "source": [
    "import pandas as pd\n",
    "from sklearn.model_selection import train_test_split"
   ],
   "metadata": {
    "id": "SyBDoxrxoTR1",
    "ExecuteTime": {
     "start_time": "2023-04-23T12:22:32.271934Z",
     "end_time": "2023-04-23T12:22:32.288042Z"
    }
   },
   "execution_count": 21,
   "outputs": []
  },
  {
   "cell_type": "code",
   "source": [
    "df = pd.read_csv('spam.csv', encoding = \"ISO-8859-1\")[['v1', 'v2']].rename({'v1':'class', 'v2':'message'}, axis=1)\n",
    "df"
   ],
   "metadata": {
    "id": "ANjTX0T4ohFi",
    "outputId": "4f1fc456-3698-4cb2-9458-eb19187dff00",
    "colab": {
     "base_uri": "https://localhost:8080/",
     "height": 311
    },
    "ExecuteTime": {
     "start_time": "2023-04-23T12:37:55.966068Z",
     "end_time": "2023-04-23T12:37:56.006261Z"
    }
   },
   "execution_count": 37,
   "outputs": [
    {
     "data": {
      "text/plain": "     class                                            message\n0      ham  Go until jurong point, crazy.. Available only ...\n1      ham                      Ok lar... Joking wif u oni...\n2     spam  Free entry in 2 a wkly comp to win FA Cup fina...\n3      ham  U dun say so early hor... U c already then say...\n4      ham  Nah I don't think he goes to usf, he lives aro...\n...    ...                                                ...\n5567  spam  This is the 2nd time we have tried 2 contact u...\n5568   ham              Will Ì_ b going to esplanade fr home?\n5569   ham  Pity, * was in mood for that. So...any other s...\n5570   ham  The guy did some bitching but I acted like i'd...\n5571   ham                         Rofl. Its true to its name\n\n[5572 rows x 2 columns]",
      "text/html": "<div>\n<style scoped>\n    .dataframe tbody tr th:only-of-type {\n        vertical-align: middle;\n    }\n\n    .dataframe tbody tr th {\n        vertical-align: top;\n    }\n\n    .dataframe thead th {\n        text-align: right;\n    }\n</style>\n<table border=\"1\" class=\"dataframe\">\n  <thead>\n    <tr style=\"text-align: right;\">\n      <th></th>\n      <th>class</th>\n      <th>message</th>\n    </tr>\n  </thead>\n  <tbody>\n    <tr>\n      <th>0</th>\n      <td>ham</td>\n      <td>Go until jurong point, crazy.. Available only ...</td>\n    </tr>\n    <tr>\n      <th>1</th>\n      <td>ham</td>\n      <td>Ok lar... Joking wif u oni...</td>\n    </tr>\n    <tr>\n      <th>2</th>\n      <td>spam</td>\n      <td>Free entry in 2 a wkly comp to win FA Cup fina...</td>\n    </tr>\n    <tr>\n      <th>3</th>\n      <td>ham</td>\n      <td>U dun say so early hor... U c already then say...</td>\n    </tr>\n    <tr>\n      <th>4</th>\n      <td>ham</td>\n      <td>Nah I don't think he goes to usf, he lives aro...</td>\n    </tr>\n    <tr>\n      <th>...</th>\n      <td>...</td>\n      <td>...</td>\n    </tr>\n    <tr>\n      <th>5567</th>\n      <td>spam</td>\n      <td>This is the 2nd time we have tried 2 contact u...</td>\n    </tr>\n    <tr>\n      <th>5568</th>\n      <td>ham</td>\n      <td>Will Ì_ b going to esplanade fr home?</td>\n    </tr>\n    <tr>\n      <th>5569</th>\n      <td>ham</td>\n      <td>Pity, * was in mood for that. So...any other s...</td>\n    </tr>\n    <tr>\n      <th>5570</th>\n      <td>ham</td>\n      <td>The guy did some bitching but I acted like i'd...</td>\n    </tr>\n    <tr>\n      <th>5571</th>\n      <td>ham</td>\n      <td>Rofl. Its true to its name</td>\n    </tr>\n  </tbody>\n</table>\n<p>5572 rows × 2 columns</p>\n</div>"
     },
     "execution_count": 37,
     "metadata": {},
     "output_type": "execute_result"
    }
   ]
  },
  {
   "cell_type": "markdown",
   "source": [
    "Препоцессинг данных"
   ],
   "metadata": {
    "id": "jD_omuMErczF"
   }
  },
  {
   "cell_type": "code",
   "source": [
    "df['class_num'] = df['class'].apply(lambda x: int(x == 'spam')) # 1 - spam, 0 - not spam\n",
    "bad_sample = df.query('class_num == 1')['message'].to_list()\n",
    "good_sample = df.query('class_num == 0')['message'].to_list()\n",
    "df"
   ],
   "metadata": {
    "id": "wJFkgiQ7rcIx",
    "ExecuteTime": {
     "start_time": "2023-04-23T12:49:27.760072Z",
     "end_time": "2023-04-23T12:49:27.790570Z"
    }
   },
   "execution_count": 38,
   "outputs": [
    {
     "data": {
      "text/plain": "     class                                            message  class_num\n0      ham  Go until jurong point, crazy.. Available only ...          0\n1      ham                      Ok lar... Joking wif u oni...          0\n2     spam  Free entry in 2 a wkly comp to win FA Cup fina...          1\n3      ham  U dun say so early hor... U c already then say...          0\n4      ham  Nah I don't think he goes to usf, he lives aro...          0\n...    ...                                                ...        ...\n5567  spam  This is the 2nd time we have tried 2 contact u...          1\n5568   ham              Will Ì_ b going to esplanade fr home?          0\n5569   ham  Pity, * was in mood for that. So...any other s...          0\n5570   ham  The guy did some bitching but I acted like i'd...          0\n5571   ham                         Rofl. Its true to its name          0\n\n[5572 rows x 3 columns]",
      "text/html": "<div>\n<style scoped>\n    .dataframe tbody tr th:only-of-type {\n        vertical-align: middle;\n    }\n\n    .dataframe tbody tr th {\n        vertical-align: top;\n    }\n\n    .dataframe thead th {\n        text-align: right;\n    }\n</style>\n<table border=\"1\" class=\"dataframe\">\n  <thead>\n    <tr style=\"text-align: right;\">\n      <th></th>\n      <th>class</th>\n      <th>message</th>\n      <th>class_num</th>\n    </tr>\n  </thead>\n  <tbody>\n    <tr>\n      <th>0</th>\n      <td>ham</td>\n      <td>Go until jurong point, crazy.. Available only ...</td>\n      <td>0</td>\n    </tr>\n    <tr>\n      <th>1</th>\n      <td>ham</td>\n      <td>Ok lar... Joking wif u oni...</td>\n      <td>0</td>\n    </tr>\n    <tr>\n      <th>2</th>\n      <td>spam</td>\n      <td>Free entry in 2 a wkly comp to win FA Cup fina...</td>\n      <td>1</td>\n    </tr>\n    <tr>\n      <th>3</th>\n      <td>ham</td>\n      <td>U dun say so early hor... U c already then say...</td>\n      <td>0</td>\n    </tr>\n    <tr>\n      <th>4</th>\n      <td>ham</td>\n      <td>Nah I don't think he goes to usf, he lives aro...</td>\n      <td>0</td>\n    </tr>\n    <tr>\n      <th>...</th>\n      <td>...</td>\n      <td>...</td>\n      <td>...</td>\n    </tr>\n    <tr>\n      <th>5567</th>\n      <td>spam</td>\n      <td>This is the 2nd time we have tried 2 contact u...</td>\n      <td>1</td>\n    </tr>\n    <tr>\n      <th>5568</th>\n      <td>ham</td>\n      <td>Will Ì_ b going to esplanade fr home?</td>\n      <td>0</td>\n    </tr>\n    <tr>\n      <th>5569</th>\n      <td>ham</td>\n      <td>Pity, * was in mood for that. So...any other s...</td>\n      <td>0</td>\n    </tr>\n    <tr>\n      <th>5570</th>\n      <td>ham</td>\n      <td>The guy did some bitching but I acted like i'd...</td>\n      <td>0</td>\n    </tr>\n    <tr>\n      <th>5571</th>\n      <td>ham</td>\n      <td>Rofl. Its true to its name</td>\n      <td>0</td>\n    </tr>\n  </tbody>\n</table>\n<p>5572 rows × 3 columns</p>\n</div>"
     },
     "execution_count": 38,
     "metadata": {},
     "output_type": "execute_result"
    }
   ]
  },
  {
   "cell_type": "code",
   "source": [
    "import nltk.corpus\n",
    "nltk.download('stopwords')\n",
    "from nltk.corpus import stopwords\n",
    "import re\n",
    "\n",
    "\n",
    "stop = stopwords.words('english')\n",
    "\n",
    "def clean_text(text):\n",
    "  # Приводим к нижнему регистру\n",
    "  text = text.lower()\n",
    "  # Удаляем ссылки знаки препинания\n",
    "  text = re.sub(r\"/(@\\[A-Za-z0-9]+)|([^0-9A-Za-z \\t])|(\\w+:\\/\\/\\S+)|www\\S+|http\\S+/g\", \"\", text)\n",
    "  # Удаляем стоп-слова\n",
    "  text = \" \".join([word for word in text.split() if word not in (stop)])\n",
    "  return text"
   ],
   "metadata": {
    "colab": {
     "base_uri": "https://localhost:8080/"
    },
    "id": "GvaEDHJVo25_",
    "outputId": "11538238-3b00-46af-c963-c5a43c88dedc",
    "ExecuteTime": {
     "start_time": "2023-04-23T13:21:47.183389Z",
     "end_time": "2023-04-23T13:21:47.467310Z"
    }
   },
   "execution_count": 39,
   "outputs": [
    {
     "name": "stderr",
     "output_type": "stream",
     "text": [
      "[nltk_data] Downloading package stopwords to\n",
      "[nltk_data]     C:\\Users\\vital\\AppData\\Roaming\\nltk_data...\n",
      "[nltk_data]   Package stopwords is already up-to-date!\n"
     ]
    }
   ]
  },
  {
   "cell_type": "code",
   "source": [
    "print(bad_sample[5])\n",
    "print(clean_text(bad_sample[5]))"
   ],
   "metadata": {
    "colab": {
     "base_uri": "https://localhost:8080/"
    },
    "id": "rmHfhRrgszGh",
    "outputId": "abc5e99e-fd35-4cf8-be95-1e87187518c9",
    "ExecuteTime": {
     "start_time": "2023-04-23T12:22:35.740081Z",
     "end_time": "2023-04-23T12:22:35.767173Z"
    }
   },
   "execution_count": 25,
   "outputs": [
    {
     "name": "stdout",
     "output_type": "stream",
     "text": [
      "URGENT! You have won a 1 week FREE membership in our å£100,000 Prize Jackpot! Txt the word: CLAIM to No: 81010 T&C www.dbuk.net LCCLTD POBOX 4403LDNW1A7RW18\n",
      "urgent 1 week free membership 100000 prize jackpot txt word claim 81010 tc lccltd pobox 4403ldnw1a7rw18\n"
     ]
    }
   ]
  },
  {
   "cell_type": "code",
   "source": [
    "print(good_sample[5])\n",
    "print(clean_text(good_sample[5]))"
   ],
   "metadata": {
    "colab": {
     "base_uri": "https://localhost:8080/"
    },
    "id": "bzupxxPgs2eg",
    "outputId": "40b0f344-62b4-4097-9264-c31b2a6a2a85",
    "ExecuteTime": {
     "start_time": "2023-04-23T12:23:48.711644Z",
     "end_time": "2023-04-23T12:23:48.740599Z"
    }
   },
   "execution_count": 26,
   "outputs": [
    {
     "name": "stdout",
     "output_type": "stream",
     "text": [
      "As per your request 'Melle Melle (Oru Minnaminunginte Nurungu Vettam)' has been set as your callertune for all Callers. Press *9 to copy your friends Callertune\n",
      "per request melle melle oru minnaminunginte nurungu vettam set callertune callers press 9 copy friends callertune\n"
     ]
    }
   ]
  },
  {
   "cell_type": "code",
   "source": [
    "df['message'] = df['message'].apply(clean_text)"
   ],
   "metadata": {
    "id": "AF9CdVyF0JsI",
    "ExecuteTime": {
     "start_time": "2023-04-23T12:23:53.769783Z",
     "end_time": "2023-04-23T12:23:53.870045Z"
    }
   },
   "execution_count": 27,
   "outputs": []
  },
  {
   "cell_type": "markdown",
   "source": [
    "<h3> Деление на тестовую и обучающую выборку\n",
    "\n",
    "Разделим выборку на обучающую и тестовую так, чтобы пропорции классов сохранились"
   ],
   "metadata": {
    "id": "vIzUqMzoyV_8"
   }
  },
  {
   "cell_type": "markdown",
   "source": [],
   "metadata": {
    "collapsed": false
   }
  },
  {
   "cell_type": "code",
   "source": [
    "df.class_num.value_counts(normalize=True)*100"
   ],
   "metadata": {
    "colab": {
     "base_uri": "https://localhost:8080/"
    },
    "id": "ieEMDRqXyZyl",
    "outputId": "b367ae77-8660-4ce0-9ce6-106d4e0cbf70",
    "ExecuteTime": {
     "start_time": "2023-04-23T13:24:30.901715Z",
     "end_time": "2023-04-23T13:24:30.911830Z"
    }
   },
   "execution_count": 40,
   "outputs": [
    {
     "data": {
      "text/plain": "class_num\n0    86.593683\n1    13.406317\nName: proportion, dtype: float64"
     },
     "execution_count": 40,
     "metadata": {},
     "output_type": "execute_result"
    }
   ]
  },
  {
   "cell_type": "code",
   "source": [
    "X_train, X_test, y_train, y_test = train_test_split(df['message'].values, df['class_num'].values, test_size=0.20, stratify=df['class_num'], random_state=42)"
   ],
   "metadata": {
    "id": "S39l5yITok_m",
    "ExecuteTime": {
     "start_time": "2023-04-23T12:27:08.898819Z",
     "end_time": "2023-04-23T12:27:08.913247Z"
    }
   },
   "execution_count": 30,
   "outputs": []
  },
  {
   "cell_type": "code",
   "source": [
    "print(\"TRAIN Class 0: {:.3f}%\".format((y_train == 0).sum()/(y_train.shape[0])*100))\n",
    "print(\"TRAIN Class 1: {:.3f}%\".format(y_train.sum()/(y_train.shape[0])*100))\n",
    "print(\"TEST Class 0: {:.3f}%\".format((y_test == 0).sum()/(y_test.shape[0])*100))\n",
    "print(\"TEST Class 1: {:.3f}%\".format(y_test.sum()/(y_test.shape[0])*100))"
   ],
   "metadata": {
    "colab": {
     "base_uri": "https://localhost:8080/"
    },
    "id": "haEPaJydxs9Z",
    "outputId": "70da3368-cf14-4fb3-8db6-71bbe2105ff3",
    "ExecuteTime": {
     "start_time": "2023-04-23T12:27:09.841286Z",
     "end_time": "2023-04-23T12:27:09.849109Z"
    }
   },
   "execution_count": 31,
   "outputs": [
    {
     "name": "stdout",
     "output_type": "stream",
     "text": [
      "TRAIN Class 0: 86.583%\n",
      "TRAIN Class 1: 13.417%\n",
      "TEST Class 0: 86.637%\n",
      "TEST Class 1: 13.363%\n"
     ]
    }
   ]
  },
  {
   "cell_type": "code",
   "source": [
    "def make_dataset(goods: list, bads: list):\n",
    "    dataset = []\n",
    "    for text in goods:\n",
    "        words = text.split(sep=' ')\n",
    "        temp = []\n",
    "        for word in words:\n",
    "          if len(word) > 3:\n",
    "            temp += [word]\n",
    "        dataset += [[temp, 0]]\n",
    "        \n",
    "    for text in bads:\n",
    "        words = text.split(sep=' ')\n",
    "        temp = []\n",
    "        for word in words:\n",
    "          if len(word) > 3:\n",
    "            temp += [word]\n",
    "        dataset += [[temp, 1]]\n",
    "    return dataset"
   ],
   "metadata": {
    "id": "wxgc3g_N1u89",
    "ExecuteTime": {
     "start_time": "2023-04-23T12:27:46.968673Z",
     "end_time": "2023-04-23T12:27:46.971698Z"
    }
   },
   "execution_count": 32,
   "outputs": []
  },
  {
   "cell_type": "code",
   "source": [
    "good_train = X_train[y_train == 0]\n",
    "bad_train = X_train[y_train == 1]\n",
    "good_test = X_test[y_test == 0]\n",
    "bad_test = X_test[y_test == 1]"
   ],
   "metadata": {
    "id": "-euyoaAd2pRA",
    "ExecuteTime": {
     "start_time": "2023-04-23T12:21:39.976988Z",
     "end_time": "2023-04-23T12:21:39.982659Z"
    }
   },
   "execution_count": 14,
   "outputs": []
  },
  {
   "cell_type": "code",
   "source": [
    "train_dataset = make_dataset(good_train, bad_train)\n",
    "test_dataset = make_dataset(good_test, bad_test)"
   ],
   "metadata": {
    "id": "4CaN-tpl3ALJ",
    "ExecuteTime": {
     "start_time": "2023-04-23T13:54:13.877637Z",
     "end_time": "2023-04-23T13:54:14.092640Z"
    }
   },
   "execution_count": 41,
   "outputs": [
    {
     "data": {
      "text/plain": "[[['going', 'nothing', 'greatbye'], 0],\n [['wont', 'wats', 'guys'], 0],\n [['ksry', 'sivatats', 'askd'], 0],\n [['stand',\n   'away',\n   'doesnt',\n   'heart',\n   'ache',\n   'without',\n   'dont',\n   'wonder',\n   'dont',\n   'crave'],\n  0],\n [['finished', 'work', 'something'], 0],\n [['hhahhaahahah', 'rofl', 'leonardo', 'room', 'something'], 0],\n [[], 0],\n [['hiya',\n   'sorry',\n   'didnt',\n   'signal',\n   'havent',\n   'seen',\n   'heard',\n   'neither',\n   'unusual',\n   'case',\n   'sort',\n   'hugs',\n   'snogs'],\n  0],\n [['outside', 'already'], 0],\n [['schedule', 'next', 'week', 'town', 'weekend'], 0],\n [['goodmorning', 'today', 'late'], 0],\n [['dizzamn', 'aight', 'suitemates', 'back'], 0],\n [['must',\n   'around',\n   'wait',\n   'summer',\n   'days',\n   'celebrate',\n   'magical',\n   'sight',\n   'worlds',\n   'dressed',\n   'white',\n   'oooooh',\n   'snow'],\n  0],\n [['call', 'happen'], 0],\n [['awake', 'snow'], 0],\n [['nope', 'since', 'travelled', 'forgotten'], 0],\n [['friendship',\n   'game',\n   'play',\n   'word',\n   'doesnt',\n   'start',\n   'march',\n   'ends',\n   'tomorrow',\n   'yesterday',\n   'today'],\n  0],\n [['right', 'diet', 'everyday', 'cheat', 'anyway', 'meant', 'fatty'], 0],\n [['haha', 'really', 'deduct', 'lesson'], 0],\n [['hows',\n   'going',\n   'exciting',\n   'karaoke',\n   'type',\n   'activities',\n   'planned',\n   'debating',\n   'whether',\n   'play',\n   'football',\n   'feeling',\n   'lazy',\n   'though'],\n  0],\n [['great',\n   'getting',\n   'worried',\n   'know',\n   'wonderful',\n   'caring',\n   'person',\n   'like',\n   'best',\n   'life',\n   'know',\n   'wonderful',\n   'gods',\n   'love'],\n  0],\n [['find', 'didnt', 'include', 'details'], 0],\n [['well', 'know', 'mean', 'texting'], 0],\n [['sunny', 'california', 'weathers', 'cool'], 0],\n [['ummmmmaah',\n   'many',\n   'many',\n   'happy',\n   'returns',\n   'dear',\n   'sweet',\n   'heart',\n   'happy',\n   'birthday',\n   'dear'],\n  0],\n [['went', 'oredi'], 0],\n [['short', 'cute', 'good', 'person'], 0],\n [['going', 'esplanade', 'home'], 0],\n [['moji', 'love', 'words', 'rich'], 0],\n [['outside', 'office', 'take'], 0],\n [['week', 'leave', 'know', 'time'], 0],\n [['yeah',\n   'sure',\n   'thing',\n   'mate',\n   'haunt',\n   'stuff',\n   'sorted',\n   'going',\n   'sound',\n   'anyway',\n   'promoting',\n   'dont',\n   'know',\n   'number',\n   'joke'],\n  0],\n [['cant', 'house', 'empty', 'handed', 'right'], 0],\n [['watching', 'movie', 'already', 'wants', 'shop', 'shopping'], 0],\n [['thought', 'back'], 0],\n [['know', 'ltgt', 'around'], 0],\n [['want', 'sent', 'ltgt', 'mesages', 'today', 'thats', 'sorry', 'hurts'], 0],\n [['baby',\n   'back',\n   'work',\n   'wanting',\n   'allday',\n   'hope',\n   'didnt',\n   'piss',\n   'phone',\n   'today',\n   'give',\n   'call'],\n  0],\n [['neva',\n   'grumble',\n   'lunch',\n   'still',\n   'meetin',\n   'lunch',\n   'neva',\n   'hear',\n   'work'],\n  0],\n [['yessura', 'tvlol'], 0],\n [['thought', 'slide', 'enough'], 0],\n [['nice', 'today', 'love', 'dearly'], 0],\n [['email', 'address', 'changed'], 0],\n [['life', 'alle', 'moneeppolum', 'pole', 'allalo'], 0],\n [['another',\n   'hospital',\n   'data',\n   'analysis',\n   'something',\n   'starts',\n   'monday',\n   'sure',\n   'thesis',\n   'finished'],\n  0],\n [['time', 'meet', 'later'], 0],\n [['drug', 'able'], 0],\n [['request',\n   'maangalyam',\n   'alaipayuthe',\n   'callertune',\n   'callers',\n   'press',\n   'copy',\n   'friends',\n   'callertune'],\n  0],\n [['tell', 'dear', 'happen', 'talking', 'like', 'alian'], 0],\n [[], 0],\n [['gibbs', 'unsoldmike', 'hussey'], 0],\n [['thought', 'praps', 'meant', 'another', 'goodo', 'look', 'tomorrow'], 0],\n [['lets',\n   'pool',\n   'money',\n   'together',\n   'bunch',\n   'lotto',\n   'tickets',\n   'ltgt',\n   'ltgt',\n   'deal'],\n  0],\n [['wheres', 'boytoy', 'miss', 'happened'], 0],\n [['dont', 'know', 'hopefully', 'month'], 0],\n [['enjoy', 'role', 'playing', 'much'], 0],\n [['outside',\n   'darren',\n   'come',\n   'shopping',\n   'course',\n   'nice',\n   'went',\n   'look',\n   'player'],\n  0],\n [['texted', 'finished', 'long', 'time', 'showered', 'erything'], 0],\n [['fact',\n   'youre',\n   'cleaning',\n   'shows',\n   'know',\n   'upset',\n   'priority',\n   'constantly',\n   'want'],\n  0],\n [['joking', 'seriously', 'told'], 0],\n [['still'], 0],\n [['reach', 'mins'], 0],\n [['exam', 'february', 'wish', 'great'], 0],\n [['good', 'good', 'billy', 'mates', 'gone', 'jogging', 'enjoy', 'concert'],\n  0],\n [['sorry',\n   'missed',\n   'babe',\n   'late',\n   'slept',\n   'hope',\n   'enjoy',\n   'driving',\n   'lesson',\n   'boytoy',\n   'miss',\n   'teasing',\n   'kiss'],\n  0],\n [['weekend', 'fine', 'excuse', 'much', 'decorating'], 0],\n [['really', 'sorry', 'hair', 'fire'], 0],\n [['course', 'guess', 'gods', 'hold', 'right'], 0],\n [['thanks', 'looking', 'really', 'appreciate'], 0],\n [['think', 'find', 'check', 'google', 'maps', 'place', 'dorm'], 0],\n [['good', 'movie', 'leave', 'hourish'], 0],\n [['howz', 'girls', 'never', 'rang', 'india'], 0],\n [['opposite', 'side', 'dropped'], 0],\n [['anything', 'specific', 'regards', 'jaklin', 'fuck'], 0],\n [['going', 'dinner', 'soon'], 0],\n [['dear', 'train', 'seat', 'mine', 'lower', 'seat'], 0],\n [['babe',\n   'fucking',\n   'love',\n   'know',\n   'fuck',\n   'good',\n   'hear',\n   'voice',\n   'need',\n   'crave',\n   'cant',\n   'enough',\n   'adore',\n   'ahmad',\n   'kisses'],\n  0],\n [['howz', 'painit', 'come', 'todaydo', 'said', 'ystrdayice', 'medicine'], 0],\n [['come', 'home', 'half', 'hour'], 0],\n [['ambrithmaduraimet', 'arun', 'marrgeremembr'], 0],\n [['good',\n   'afternoon',\n   'boytoy',\n   'goes',\n   'walking',\n   'police',\n   'abstract',\n   'still',\n   'wake',\n   'miss',\n   'babe'],\n  0],\n [['horrible', 'knew', 'going', 'yest', 'still', 'come'], 0],\n [['askd', 'question', 'hours', 'answer'], 0],\n [['especially',\n   'since',\n   'talk',\n   'boston',\n   'personal',\n   'statement',\n   'woulda',\n   'changed',\n   'realized',\n   'said',\n   'says',\n   'boston'],\n  0],\n [['hows',\n   'scotland',\n   'hope',\n   'showing',\n   'tendencies',\n   'take',\n   'care',\n   'live',\n   'dream'],\n  0],\n [['nice',\n   'line',\n   'said',\n   'broken',\n   'heart',\n   'dont',\n   'times',\n   'infront',\n   'wise',\n   'trust',\n   'good'],\n  0],\n [['come', 'room', 'point', 'iron', 'plan', 'weekend'], 0],\n [['gonna',\n   'call',\n   'sporadically',\n   'starting',\n   'like',\n   'ltgt',\n   'doin',\n   'shit'],\n  0],\n [['work', 'plus', 'workin', 'rite', 'orchard', 'place', 'liao'], 0],\n [['aathiwhere', 'dear'], 0],\n [['mark',\n   'taking',\n   'forever',\n   'pick',\n   'prescription',\n   'pain',\n   'coming',\n   'back'],\n  0],\n [['lets', 'make', 'saturday', 'monday', 'convenience'], 0],\n [['persons', 'story'], 0],\n [['haha', 'dont', 'angry', 'take', 'practice', 'real', 'thing'], 0],\n [['plural', 'noun', 'research'], 0],\n [['walked', 'hour', 'doesnt', 'show', 'care', 'wont', 'believe', 'serious'],\n  0],\n [['talking'], 0],\n [['sister', 'hope', 'great', 'month', 'saying', 'abiola'], 0],\n [['yeah', 'unlimited'], 0],\n [['give', 'breaking', 'ltgt', 'cstore'], 0],\n [['good', 'thinking'], 0],\n [['princess', 'want', 'please', 'every', 'night', 'wish', 'command'], 0],\n [['almost'], 0],\n [['wont', 'belive', 'godnot', 'jesus'], 0],\n [['think', 'move', 'ltgt', 'week'], 0],\n [['want', 'mapquest', 'something', 'look', 'dogwood', 'drive'], 0],\n [['sweet', 'meet', 'carlos', 'gauge', 'pattys', 'interest'], 0],\n [['late', 'said', 'website', 'didnt', 'dont', 'slippers'], 0],\n [['missed',\n   'havent',\n   'much',\n   'bored',\n   'holiday',\n   'want',\n   'college',\n   'isnt',\n   'itxx'],\n  0],\n [['anything', 'decide'], 0],\n [['taking', 'italian', 'food', 'pretty', 'dress', 'panties'], 0],\n [['think', 'make', 'oreo', 'truffles'], 0],\n [['alright', 'babe'], 0],\n [['dont', 'worry', 'easy', 'ingredients'], 0],\n [['messageit'], 0],\n [['home'], 0],\n [['food'], 0],\n [['living',\n   'simple',\n   'loving',\n   'also',\n   'simple',\n   'laughing',\n   'simple',\n   'winning',\n   'tooo',\n   'simple',\n   'simple',\n   'difficult'],\n  0],\n [['efficient', 'thanx'], 0],\n [['really', 'gooddhanush', 'rocks'], 0],\n [['dear',\n   'call',\n   'urgnt',\n   'dont',\n   'know',\n   'whats',\n   'problem',\n   'dont',\n   'want',\n   'work',\n   'problem',\n   'least',\n   'tell',\n   'wating',\n   'reply'],\n  0],\n [['told', 'going', 'drunk'], 0],\n [['hate',\n   'call',\n   'didnt',\n   'accept',\n   'even',\n   'single',\n   'call',\n   'mine',\n   'even',\n   'messaged'],\n  0],\n [['convince', 'possible', 'witot', 'hurting', 'feeling', 'main'], 0],\n [['amazing',\n   'quote',\n   'sometimes',\n   'life',\n   'difficult',\n   'decide',\n   'whats',\n   'wrong',\n   'brings',\n   'smile',\n   'truth',\n   'brings',\n   'tear'],\n  0],\n [['like', 'sweater', 'mango', 'size', 'already', 'irritating'], 0],\n [['said', 'ding', 'feng', 'cant', 'make', 'reservations', 'said', 'wait'], 0],\n [['send', 'files', 'computers'], 0],\n [['sweet', 'well', 'princess', 'please', 'tell', 'likes', 'dislikes'], 0],\n [['watching', 'telugu', 'moviewat'], 0],\n [['haha', 'awesome', 'minute'], 0],\n [['tiime', 'dont', 'dont', 'break', 'tears'], 0],\n [['want', 'house'], 0],\n [['wait', 'need', 'feel'], 0],\n [['kinda',\n   'flaky',\n   'friend',\n   'interested',\n   'picking',\n   'ltgt',\n   'worth',\n   'tonight',\n   'possible'],\n  0],\n [['wonders',\n   'world',\n   'style',\n   'smile',\n   'personality',\n   'nature',\n   'lovely',\n   'friendship',\n   'good',\n   'morning',\n   'dear'],\n  0],\n [['total', 'disappointment', 'texted', 'craziest', 'shit'], 0],\n [['well', 'done', 'blimey', 'exercise', 'yeah', 'kinda', 'remember'], 0],\n [['love',\n   'know',\n   'feel',\n   'make',\n   'belly',\n   'warm',\n   'wish',\n   'love',\n   'shall',\n   'meet',\n   'dreams',\n   'ahmad',\n   'adoring',\n   'kiss'],\n  0],\n [['entered',\n   'cabin',\n   'said',\n   'happy',\n   'bday',\n   'boss',\n   'felt',\n   'special',\n   'askd',\n   'lunch',\n   'lunch',\n   'invited',\n   'apartment',\n   'went'],\n  0],\n [['messagesome',\n   'text',\n   'missing',\n   'sendername',\n   'missing',\n   'number',\n   'missing',\n   'sentdate',\n   'missing',\n   'missing',\n   'thats',\n   'everything',\n   'missing',\n   'sent',\n   'fullonsmscom'],\n  0],\n [['parents', 'gettin', 'cash', 'good', 'news', 'picked', 'downstem'], 0],\n [['parchi', 'kicchu', 'kaaj', 'korte', 'iccha', 'korche', 'phone'], 0],\n [['minimum', 'walk', '3miles'], 0],\n [['normally', 'drink', 'water', 'daily'], 0],\n [['sure', 'driving', 'reach', 'destination', 'soon'], 0],\n [['neva', 'mind'], 0],\n [['wearing'], 0],\n [['thought', 'king', 'hill', 'thing'], 0],\n [['class', 'ltgt', 'reunion'], 0],\n [['years', 'went', 'party', 'boyfriend'], 0],\n [['esplanade', 'else'], 0],\n [['taking', 'half', 'leave', 'well'], 0],\n [['telling',\n   'coulda',\n   'real',\n   'valentine',\n   'wasnt',\n   'never',\n   'pick',\n   'nothing'],\n  0],\n [['dont',\n   'give',\n   'flying',\n   'monkeys',\n   'think',\n   'certainly',\n   'dont',\n   'mind',\n   'friend',\n   'mine'],\n  0],\n [['planned', 'going', 'join', 'company', 'onlydon', 'know', 'happen'], 0],\n [['going', 'months', 'joking'], 0],\n [['paper', 'morn'], 0],\n [['didnt', 'second', 'half', 'message'], 0],\n [['tell', 'friend', 'come', 'round', 'like', 'ltgt'], 0],\n [['kkim', 'also', 'finewhen', 'complete', 'course'], 0],\n [['found', 'feel', 'stupid', 'working'], 0],\n [['todaysundaysunday', 'holidayso', 'work'], 0],\n [['yeah',\n   'apologetic',\n   'fallen',\n   'actin',\n   'like',\n   'spoilt',\n   'child',\n   'caught',\n   'till',\n   'wont',\n   'badly',\n   'cheers'],\n  0],\n [['forgot',\n   'smth',\n   'theres',\n   'card',\n   'present',\n   'want',\n   'write',\n   'smth',\n   'sign'],\n  0],\n [['pete', 'please', 'ring', 'meive', 'hardly', 'gotany', 'credit'], 0],\n [['haha', 'cant', 'forfeit', 'haha'], 0],\n [['nothing',\n   'smsing',\n   'sorry',\n   'guys',\n   'neva',\n   'person',\n   'sort',\n   'know',\n   'meet',\n   'bring',\n   'along',\n   'next',\n   'meeting'],\n  0],\n [['know', 'called'], 0],\n [['missed',\n   'call',\n   'cause',\n   'yelling',\n   'scrappy',\n   'miss',\n   'cant',\n   'wait',\n   'come',\n   'home',\n   'lonely',\n   'today'],\n  0],\n [['yeah',\n   'think',\n   'register',\n   'sure',\n   'theres',\n   'anyway',\n   'help',\n   'know',\n   'sure',\n   'ready'],\n  0],\n [['hello',\n   'hello',\n   'sorry',\n   'took',\n   'long',\n   'reply',\n   'left',\n   'mobile',\n   'friends',\n   'lancaster',\n   'neway',\n   'sorry',\n   'couldnt',\n   'make',\n   'bday'],\n  0],\n [['dont', 'care', 'need', 'princess'], 0],\n [['take', 'ltgt'], 0],\n [['wont', 'christmas', 'enjoy', 'merry', 'xmas'], 0],\n [['latebut', 'kwish'], 0],\n [['ahead', 'watts', 'wanted', 'sure', 'great', 'weekend', 'abiola'], 0],\n [['guess', 'screwd'], 0],\n [['edison',\n   'rightly',\n   'said',\n   'fool',\n   'questions',\n   'wise',\n   'answer',\n   'know',\n   'speechless',\n   'viva'],\n  0],\n [['hope',\n   'true',\n   'missin',\n   'really',\n   'missin',\n   'havent',\n   'done',\n   'anything',\n   'feel',\n   'guilty'],\n  0],\n [['ohas', 'usual', 'vijay', 'film', 'different'], 0],\n [['sister',\n   'belongs',\n   'family',\n   'hope',\n   'tomorrow',\n   'pray',\n   'herwho',\n   'fated',\n   'shoranur',\n   'train',\n   'incident',\n   'lets',\n   'hold',\n   'hands',\n   'together',\n   'fuelled',\n   'love',\n   'concern',\n   'prior',\n   'grief',\n   'pain',\n   'join',\n   'chain',\n   'pass',\n   'stop',\n   'violence',\n   'women'],\n  0],\n [['know', 'open', 'back'], 0],\n [['driving',\n   'even',\n   'many',\n   'reasons',\n   'called',\n   'bbdthts',\n   'chikku',\n   'coldheard',\n   'vinobanagar',\n   'violence',\n   'conditionand',\n   'problem'],\n  0],\n [['right', 'okay', 'thanks'], 0],\n [['dont',\n   'know',\n   'either',\n   'clever',\n   'simple',\n   'thing',\n   'pears',\n   'perfect',\n   'christmas'],\n  0],\n [['didt',\n   'play',\n   'last',\n   'year',\n   'know',\n   'even',\n   'though',\n   'good',\n   'team',\n   'like',\n   'india'],\n  0],\n [['reached', 'already'], 0],\n [['well',\n   'wasnt',\n   'available',\n   'washob',\n   'nobbing',\n   'last',\n   'night',\n   'nickey',\n   'platt',\n   'instead'],\n  0],\n [['fine', 'hope', 'good', 'take', 'care'], 0],\n [['good', 'morning', 'repair', 'shopthe', 'reason', 'hour'], 0],\n [['possession', 'especially', 'first', 'offense'], 0],\n [['thats', 'rude', 'campus'], 0],\n [['youre', 'sure', 'dont', 'consent', 'forms'], 0],\n [['good', 'trip', 'watch', 'remember', 'back', 'must', 'decide', 'easter'],\n  0],\n [['prob'], 0],\n [['hello',\n   'sort',\n   'town',\n   'already',\n   'dont',\n   'rush',\n   'home',\n   'eating',\n   'nachos',\n   'know'],\n  0],\n [['near', 'kalainar', 'officethenampet'], 0],\n [['kate', 'jackson', 'center', '7ish', 'right'], 0],\n [['could', 'kiss', 'feel', 'next'], 0],\n [['dear', 'good', 'morning'], 0],\n [['amazing',\n   'rearrange',\n   'letters',\n   'gives',\n   'meaning',\n   'dormitory',\n   'dirty',\n   'room',\n   'astronomer',\n   'moon',\n   'starer',\n   'eyes',\n   'election',\n   'results',\n   'lies',\n   'lets',\n   'recount',\n   'motherinlaw',\n   'woman',\n   'hitler',\n   'eleven',\n   'plus',\n   'twelve',\n   'plus',\n   'amazing'],\n  0],\n [['thanks', 'loti', 'already', 'bought', 'eggs'], 0],\n [['cheers',\n   'callin',\n   'babesozi',\n   'culdnt',\n   'talkbut',\n   'wannatell',\n   'details',\n   'later',\n   'wenwecan',\n   'chat',\n   'properly'],\n  0],\n [['done'], 0],\n [['yavnt', 'tried', 'never', 'played', 'original', 'either'], 0],\n [['bugis', 'walking', 'home', 'oredi', 'late', 'reply', 'like'], 0],\n [['hungry'], 0],\n [['ever', 'easier'], 0],\n [['actor',\n   'work',\n   'work',\n   'evening',\n   'sleep',\n   'late',\n   'since',\n   'unemployed',\n   'moment',\n   'always',\n   'sleep',\n   'late',\n   'youre',\n   'unemployed',\n   'every',\n   'saturday'],\n  0],\n [['sitting', 'nothing', 'busy', 'work'], 0],\n [['plans', 'family', 'stone'], 0],\n [['aight', 'dats', 'straight', 'dogg'], 0],\n [['yesterday', 'going', 'home'], 0],\n [['details', 'later'], 0],\n [['serving', 'staying', 'alone'], 0],\n [['heygreat', 'dealfarm', 'tour', '95pax', 'deposit'], 0],\n [['happened', 'cruise', 'thing'], 0],\n [['please', 'send', 'auntys', 'number'], 0],\n [['nothing', 'splwat'], 0],\n [['yeah',\n   'bored',\n   'depressed',\n   'sittin',\n   'waitin',\n   'phone',\n   'ring',\n   'hope',\n   'wind',\n   'drops',\n   'though',\n   'scary'],\n  0],\n [['beauty',\n   'life',\n   'next',\n   'second',\n   'hides',\n   'thousands',\n   'secrets',\n   'wish',\n   'every',\n   'second',\n   'wonderful',\n   'life'],\n  0],\n [['nope', 'work'], 0],\n [['woodland',\n   'avenue',\n   'somewhere',\n   'parish',\n   'magazine',\n   'telephone',\n   'number'],\n  0],\n [['leave', 'house'], 0],\n [['look', 'fuckin', 'time', 'fuck', 'think'], 0],\n [['aight', 'chillin', 'friends', 'room', 'text', 'youre'], 0],\n [['heart',\n   'empty',\n   'without',\n   'love',\n   'mind',\n   'empty',\n   'without',\n   'wisdom',\n   'eyes',\n   'empty',\n   'without',\n   'dreams',\n   'life',\n   'empty',\n   'without',\n   'frnds',\n   'alwys',\n   'touch',\n   'good',\n   'night',\n   'sweet',\n   'dreams'],\n  0],\n [['finish', 'lunch', 'smth', 'finish', 'lunch', 'already'], 0],\n [['saturday', 'sunday', 'holiday', 'difficult'], 0],\n [['sorry', 'thought', 'calling', 'timeslil', 'busyi', 'call', 'noon'], 0],\n [['late'], 0],\n [['kadeem',\n   'hasnt',\n   'selling',\n   'since',\n   'break',\n   'know',\n   'paranoid',\n   'fuck',\n   'doesnt',\n   'like',\n   'selling',\n   'without',\n   'cant',\n   'late',\n   'tonight'],\n  0],\n [['imagine',\n   'life',\n   'without',\n   'fast',\n   'searching',\n   'medont',\n   'worry',\n   'always',\n   'disturb',\n   'goodnoon'],\n  0],\n [['height',\n   'shit',\n   'situation',\n   'throws',\n   'letter',\n   'falls',\n   'brothers',\n   'head',\n   'whos'],\n  0],\n [['outta', 'class', 'gonna'], 0],\n [['loosu', 'hospital', 'dont', 'careless'], 0],\n [['means', 'still', 'think', 'teju'], 0],\n [['dude', 'guess', 'arrested'], 0],\n [['dahow', 'many', 'page', 'want'], 0],\n [['thanks',\n   'wishes',\n   'birthday',\n   'thanks',\n   'making',\n   'birthday',\n   'truly',\n   'memorable'],\n  0],\n [['purity',\n   'friendship',\n   'smiling',\n   'reading',\n   'forwarded',\n   'messageits',\n   'smiling',\n   'seeing',\n   'name',\n   'evng',\n   'musthu'],\n  0],\n [['random', 'roomate', 'campus', 'graduated'], 0],\n [['best', 'watch', 'cause', 'drunk', 'motherfucker'], 0],\n [['studying', 'going', 'home', 'anyway', 'going', 'later'], 0],\n [['good', 'joke', 'girls', 'situation', 'seekers'], 0],\n [['requirements', 'please'], 0],\n [['meeting'], 0],\n [['think', 'mentor', 'percent', 'sure'], 0],\n [['tell', 'happen', 'dont', 'behave', 'like', 'need'], 0],\n [['released', 'another', 'italian', 'today', 'cosign', 'option'], 0],\n [['babe', 'lost'], 0],\n [['time', 'dont', 'like'], 0],\n [['like', 'made', 'throw', 'smoking', 'friends', 'time', 'awesome'], 0],\n [['tomarrow', 'want', 'court', 'ltdecimalgt', 'come', 'stand'], 0],\n [['home', 'went', 'change', 'batt', 'watch', 'shop'], 0],\n [['aiyo', 'scared', 'become', 'better', 'lookin', 'oredi'], 0],\n [['google', 'search'], 0],\n [['registered',\n   'sinco',\n   'payee',\n   'icicibankcom',\n   'enter',\n   'ltgt',\n   'confirm',\n   'beware',\n   'frauds',\n   'share',\n   'disclose',\n   'anyone'],\n  0],\n [['sure', 'time', 'sure', 'library', 'class', 'point', 'good'], 0],\n [['nimbomsons', 'phone', 'knows', 'obviously', 'thats', 'real', 'word'], 0],\n [['film', 'call', 'later'], 0],\n [['call', '1010', 'make', 'sure', 'woken'], 0],\n [['tacos', 'rajas', 'burrito', 'right'], 0],\n [['want', 'send', 'something', 'sell', 'fast', 'ltgt', 'easy', 'money'], 0],\n [['specify', 'domain', 'nusstu', 'still'], 0],\n [['babe',\n   'sorry',\n   'didnt',\n   'sooner',\n   'gary',\n   'come',\n   'cause',\n   'thinks',\n   'knows',\n   'doesnt',\n   'ptbo',\n   'says',\n   'cost',\n   'ltgt',\n   'bucks',\n   'dont',\n   'know',\n   'might',\n   'cheaper',\n   'find',\n   'someone',\n   'dont',\n   'second',\n   'hand',\n   'machines',\n   'right',\n   'know',\n   'want',\n   'babe'],\n  0],\n [['sleeping', 'feeling', 'well'], 0],\n [['prof',\n   'passed',\n   'papers',\n   'congrats',\n   'student',\n   'enna',\n   'kalaachutaarama',\n   'prof',\n   'mrng'],\n  0],\n [['absolutely',\n   'love',\n   'south',\n   'park',\n   'recently',\n   'started',\n   'watching',\n   'office'],\n  0],\n [['mean',\n   'almost',\n   'done',\n   'done',\n   'sleeping',\n   'going',\n   'take',\n   'send',\n   'liao',\n   'picking',\n   'smth'],\n  0],\n [['yeah',\n   'theres',\n   'barely',\n   'enough',\n   'room',\n   'many',\n   'fucking',\n   'shoes',\n   'sorry',\n   'later'],\n  0],\n [['please', 'leave', 'topicsorry', 'telling'], 0],\n [['come', 'alivebetter', 'correct', 'good', 'looking', 'figure'], 0],\n [['baaaaaaaabe', 'wake', 'miss', 'crave', 'need'], 0],\n [['always', 'convincing'], 0],\n [['cooked', 'rather', 'nice', 'salmon'], 0],\n [['serious', 'like', 'proper', 'tongued'], 0],\n [['tell', 'gona', 'buses', 'past', 'full', 'still', 'waitin', 'pete'], 0],\n [['cool', 'ltgt', 'inches', 'long', 'hope', 'like'], 0],\n [['didt', 'youkwhere'], 0],\n [['house', 'quite', 'dark', 'liao', 'raining', 'excuse', 'already', 'rite'],\n  0],\n [['want', 'show', 'world', 'princess', 'europe'], 0],\n [['free', 'call'], 0],\n [['rite',\n   'well',\n   'best',\n   'mate',\n   'pete',\n   'went',\n   'week',\n   '2geva',\n   'longer',\n   'week'],\n  0],\n [['finished', 'work'], 0],\n [['booked', 'ticket', 'pongal'], 0],\n [['speak', 'wont', 'anything', 'friendship'], 0],\n [['dropped', 'back'], 0],\n [['long', 'take'], 0],\n [['kkgoodstudy', 'well'], 0],\n [['comin', 'fetch', 'oredi'], 0],\n [['1appledayno',\n   'doctor',\n   '1tulsi',\n   'leafdayno',\n   'cancer',\n   '1lemondayno',\n   '1cup',\n   'milkdayno',\n   'bone',\n   'problms',\n   'litres',\n   'watrdayno',\n   'diseases',\n   'care'],\n  0],\n [['shall', 'thing', 'dont', 'mistake'], 0],\n [['wrong', 'phone', 'phone', 'answer', 'assume', 'people', 'dont', 'well'],\n  0],\n [['sure', 'relatives', 'home'], 0],\n [['sweet', 'heart'], 0],\n [['spoil', 'well'], 0],\n [['know',\n   'hows',\n   'anthony',\n   'bringing',\n   'money',\n   'school',\n   'fees',\n   'rent',\n   'stuff',\n   'like',\n   'thats',\n   'need',\n   'help',\n   'friend',\n   'need'],\n  0],\n [['sexy', 'buns', 'word', 'morning', 'think'], 0],\n [['several'], 0],\n [['well',\n   'theres',\n   'things',\n   'happening',\n   'lindsay',\n   'years',\n   'sighs',\n   'bars',\n   'ptbo',\n   'blue',\n   'heron',\n   'something',\n   'going'],\n  0],\n [[], 0],\n [['deleted', 'contact'], 0],\n [['misplaced',\n   'number',\n   'sending',\n   'texts',\n   'number',\n   'wondering',\n   'heard',\n   'year',\n   'best',\n   'mcat',\n   'number',\n   'atlanta',\n   'friends'],\n  0],\n [['tell', 'said', 'shit'], 0],\n [['sure', 'neighbors', 'didnt', 'pick'], 0],\n [['online', 'transaction'], 0],\n [['done', 'oredi'], 0],\n [['also', 'knows', 'lunch', 'menu', 'know'], 0],\n [['yeah', 'open', 'chat', 'click', 'friend', 'lists', 'make', 'list', 'easy'],\n  0],\n [['send', 'password'], 0],\n [['dont',\n   'anybodys',\n   'number',\n   'still',\n   'havent',\n   'thought',\n   'tactful',\n   'alex'],\n  0],\n [['dont', 'play', 'others', 'life'], 0],\n [['think',\n   'might',\n   'give',\n   'miss',\n   'teaching',\n   'twelve',\n   'lecture',\n   'damn',\n   'working',\n   'thing'],\n  0],\n [['oooh', 'plenty'], 0],\n [['thats',\n   'good',\n   'sign',\n   'well',\n   'know',\n   'track',\n   'record',\n   'reading',\n   'women'],\n  0],\n [['vote', 'wherever', 'heart', 'guides'], 0],\n [['remember'], 0],\n [['shall', 'call', 'dear', 'food'], 0],\n [['sorry', 'mates', 'phone', 'didnt', 'write', 'love', 'kate'], 0],\n [['senthil', 'group', 'company', 'apnt'], 0],\n [['wishing', 'family', 'merry', 'happy', 'year', 'advance'], 0],\n [['take',\n   'post',\n   'come',\n   'must',\n   '1000s',\n   'texts',\n   'happy',\n   'reading',\n   'hello',\n   'caroline',\n   'favourite',\n   'bless'],\n  0],\n [['reaching', 'another', 'stops'], 0],\n [['went'], 0],\n [['kkhow', 'much', 'cost'], 0],\n [['could', 'starve', 'lose', 'pound'], 0],\n [['sdryb8i'], 0],\n [['home'], 0],\n [['remains', 'amongst', 'bros'], 0],\n [['used', 'route'], 0],\n [['give', 'miss', 'number', 'please'], 0],\n [['much', 'textin', 'bout'], 0],\n [[], 0],\n [['annoying', 'isnt'], 0],\n [['know',\n   'changes',\n   'next',\n   '6hrs',\n   'even',\n   'appendix',\n   'range',\n   'however',\n   'impossible',\n   'chill',\n   'know',\n   '6hrs'],\n  0],\n [['leave', 'start', 'prepare', 'next'], 0],\n [['problem',\n   'walk',\n   'around',\n   'julianaland',\n   'oblivious',\n   'going',\n   'around',\n   'things',\n   'constantly',\n   'whatever',\n   'want',\n   'dont',\n   'know',\n   'upsetits',\n   'dont',\n   'listen',\n   'tell',\n   'going',\n   'upset',\n   'want',\n   'surprised'],\n  0],\n [['haha',\n   'shld',\n   'went',\n   'today',\n   'kaiez',\n   'mind',\n   'goin',\n   'jazz',\n   'scared',\n   'hiphop',\n   'open',\n   'cant',\n   'catch'],\n  0],\n [['wake', 'already', 'thanx', 'piah', 'quite', 'nice'], 0],\n [['movie', 'call'], 0],\n [['project', 'come'], 0],\n [['single', 'line', 'meaning', 'miss', 'anything', 'best', 'life'], 0],\n [['cocksuckers',\n   'makes',\n   'feel',\n   'better',\n   'ipads',\n   'worthless',\n   'garbage',\n   'novelty',\n   'items',\n   'feel',\n   'even',\n   'wanting'],\n  0],\n [['anyone',\n   'calls',\n   'treadmill',\n   'youll',\n   'make',\n   'sure',\n   'working',\n   'found',\n   'craigslist',\n   'selling',\n   'ltgt'],\n  0],\n [['byatch', 'whassup'], 0],\n [['haha', 'okay', 'today', 'weekend'], 0],\n [['normally', 'mail'], 0],\n [['sorry',\n   'cant',\n   'take',\n   'call',\n   'right',\n   'happens',\n   '2waxsto',\n   'want',\n   'come',\n   'medical',\n   'insurance',\n   'shell',\n   'able',\n   'deliver',\n   'basic',\n   'care',\n   'currently',\n   'shopping',\n   'right',\n   'medical',\n   'insurance',\n   'give',\n   'friday',\n   'morning',\n   'thats',\n   'major',\n   'person',\n   'guide',\n   'right',\n   'insurance'],\n  0],\n [['pick', 'another', 'youre', 'done'], 0],\n [[], 0],\n [['good', 'night', 'dear', 'sleepwellamptake', 'care'], 0],\n [['dont', 'know', 'brother', 'nothing', 'problem', 'thing', 'told'], 0],\n [['chillaxin'], 0],\n [['food', 'home'], 0],\n [[], 0],\n [['forgot', 'tell', 'smth', 'like', 'number', 'sections', 'clearer'], 0],\n [['busy',\n   'trying',\n   'finish',\n   'year',\n   'looking',\n   'forward',\n   'finally',\n   'meeting'],\n  0],\n [['picked', 'receipt', 'something', 'earlier'], 0],\n [['small', 'boost', 'secret', 'energy'], 0],\n [['geeee',\n   'miss',\n   'already',\n   'know',\n   'think',\n   'fuck',\n   'cant',\n   'wait',\n   'till',\n   'next',\n   'year',\n   'together',\n   'loving',\n   'kiss'],\n  0],\n [['every',\n   'night',\n   'take',\n   'warm',\n   'bath',\n   'drink',\n   'milk',\n   'youll',\n   'work',\n   'magic',\n   'still',\n   'need',\n   'loose',\n   'weight',\n   'know'],\n  0],\n [['dont', 'message', 'offer'], 0],\n [['lunch', 'senor'], 0],\n [['thank', 'like', 'well'], 0],\n [['around', 'enough', 'half'], 0],\n [['okay', 'well', 'thanks', 'clarification'], 0],\n [['even', 'friend', 'priest', 'call'], 0],\n [['yeah', 'jays', 'sort', 'fucking', 'retard'], 0],\n [['sign',\n   'maturity',\n   'start',\n   'saying',\n   'things',\n   'actually',\n   'start',\n   'understanding',\n   'small',\n   'things',\n   'nice',\n   'evening',\n   'bslvyl'],\n  0],\n [[], 0],\n [['fuck', 'merry', 'christmas'], 0],\n [['woke', 'yeesh', 'late', 'didnt', 'fall', 'asleep', 'ltgt'], 0],\n [['office'], 0],\n [['love', 'aathilove'], 0],\n [['friend',\n   'shes',\n   'studying',\n   'warwick',\n   'weve',\n   'planned',\n   'shopping',\n   'concert',\n   'canceled',\n   'havnt',\n   'seen',\n   'ages',\n   'yeah',\n   'together',\n   'sometime'],\n  0],\n [['princess', 'want', 'catch', 'strong', 'hands'], 0],\n [['youll', 'headache', 'trying', 'figure', 'trust', 'math', 'promise'], 0],\n [['nope', 'waiting', 'daddy'], 0],\n [['okie', 'thanx'], 0],\n [['operate', 'ltgt'], 0],\n [['hows', 'feel', 'real', 'valentine', 'valentine', 'even', 'hardly', 'play'],\n  0],\n [['want', 'lick', 'pussy'], 0],\n [['cant', 'display', 'internal', 'subs', 'gotta', 'extract'], 0],\n [['good', 'morning', 'call'], 0],\n [['type', 'stuff', 'sing'], 0],\n [['remembered', 'gotta', 'bathe', 'today'], 0],\n [['cant', 'talk', 'nowi', 'call', 'candont', 'keep', 'calling'], 0],\n [['give', 'details'], 0],\n [['late', 'meet'], 0],\n [['couldnt',\n   'dying',\n   'feel',\n   'wanted',\n   'know',\n   'would',\n   'probably',\n   'gone',\n   'late',\n   'night'],\n  0],\n [['boring'], 0],\n [['stay', 'like', 'hour', 'really', 'sore'], 0],\n [['lick', 'every', 'drop', 'ready', 'mouth', 'well'], 0],\n [['thats', 'said', 'gals', 'know'], 0],\n [['shes', 'good', 'working'], 0],\n [['missed', 'call', 'mumhas', 'beendropping', 'wine', 'theplace', 'adress'],\n  0],\n [['dont', 'know', 'bring', 'food'], 0],\n [['chief', 'give', 'bell', 'need', 'talk', 'royal', 'visit', 'june'], 0],\n [['wants', 'work', 'first', 'hows', 'sound'], 0],\n [['farm', 'open'], 0],\n [['hmmmkbut',\n   'want',\n   'change',\n   'field',\n   'quickly',\n   'wanna',\n   'system',\n   'administrator',\n   'network',\n   'administrator'],\n  0],\n [['place', 'points', 'cultures', 'module', 'already'], 0],\n [['correct', 'work', 'today'], 0],\n [['happy', 'birthday', 'dreams', 'come', 'true'], 0],\n [['actual', 'exam', 'harder', 'nbme'], 0],\n [['chikkusimple', 'habbahw'], 0],\n [['sonathaya', 'soladha', 'boss'], 0],\n [['says', 'back', 'south', 'tampa', 'preferably', 'kegger'], 0],\n [['lovable',\n   'bcums',\n   'angry',\n   'take',\n   'seriously',\n   'angry',\n   'childish',\n   'true',\n   'showing',\n   'deep',\n   'affection',\n   'care',\n   'kettoda',\n   'manda',\n   'nice'],\n  0],\n [['town', 'important'], 0],\n [['sorry', 'call', 'later'], 0],\n [['going', 'write', 'ccna', 'exam', 'week'], 0],\n [['home', 'long', 'spell', 'season', 'would'], 0],\n [['lifted',\n   'hopes',\n   'offer',\n   'money',\n   'need',\n   'especially',\n   'month',\n   'approaches',\n   'hurts',\n   'studying',\n   'anyways',\n   'weekend'],\n  0],\n [['many'], 0],\n [['rest', 'leastwhich', 'price', 'bedrm'], 0],\n [['sent',\n   'scores',\n   'sophas',\n   'secondary',\n   'application',\n   'schools',\n   'think',\n   'thinking',\n   'applying',\n   'research',\n   'cost',\n   'also',\n   'contact',\n   'joke',\n   'ogunrinde',\n   'school',\n   'less',\n   'expensive',\n   'ones'],\n  0],\n [['nottel', 'software', 'name'], 0],\n [['dont', 'pick', 'call', 'something', 'important', 'tell', 'hrishi'], 0],\n [['come', 'pick', 'come', 'immediately', 'lesson'], 0],\n [['wasted', 'chiong', 'liao'], 0],\n [['also'], 0],\n [['dont', 'want', 'hear', 'anything'], 0],\n [['phone'], 0],\n [['also',\n   'north',\n   'carolina',\n   'texas',\n   'would',\n   'site',\n   'test',\n   'results',\n   'sent'],\n  0],\n [['chat'], 0],\n [['wiskey',\n   'brandy',\n   'beer',\n   'vodka',\n   'scotch',\n   'shampain',\n   'wine',\n   'kudiyarasu',\n   'dhina',\n   'vaazhthukkal'],\n  0],\n [['would', 'would', 'tell', 'whole', 'family', 'crazy', 'terrible'], 0],\n [['teams', 'waiting', 'players'], 0],\n [['yesmum', 'lookin', 'strong'], 0],\n [['sindu', 'birla', 'soft'], 0],\n [['want', 'come'], 0],\n [['night',\n   'ended',\n   'another',\n   'morning',\n   'come',\n   'special',\n   'smile',\n   'like',\n   'sunny',\n   'rays',\n   'leaves',\n   'worries',\n   'blue',\n   'blue',\n   'mrng'],\n  0],\n [['tell', 'need', 'investigate', 'anywhere'], 0],\n [['home', 'work'], 0],\n [['wish', 'many', 'many', 'returns', 'happy', 'birthday', 'vikky'], 0],\n [['kkcongratulation'], 0],\n [['coming', 'home', 'dinner'], 0],\n [['naughty',\n   'little',\n   'thought',\n   'better',\n   'flirt',\n   'flirt',\n   'flirt',\n   'rather',\n   'loving',\n   'someone',\n   'gettin',\n   'hurt',\n   'hurt',\n   'hurt'],\n  0],\n [['sorry', 'sent', 'blank', 'trying', 'serious', 'studying'], 0],\n [['nooooooo', 'gonna', 'bored', 'death', 'cable', 'internet', 'outage'], 0],\n [['nope', 'going', 'quite', 'early', 'paper', 'morn'], 0],\n [['seeing', 'missed', 'call', 'dear', 'brother'], 0],\n [['actually',\n   'sleeping',\n   'still',\n   'might',\n   'call',\n   'back',\n   'text',\n   'rock',\n   'send',\n   'text',\n   'wake'],\n  0],\n [['call',\n   'number',\n   'shows',\n   'coveragd',\n   'area',\n   'urgnt',\n   'call',\n   'vasai',\n   'reach',\n   'clock',\n   'call'],\n  0],\n [['come', 'tomorrow'], 0],\n [['calicut'], 0],\n [['gentle',\n   'baby',\n   'soon',\n   'taking',\n   'ltgt',\n   'inches',\n   'deep',\n   'inside',\n   'tight',\n   'pussy'],\n  0],\n [['sorry', 'cant', 'text', 'drive', 'coherently', 'twenty'], 0],\n [['would', 'smoking', 'help', 'work', 'difficult', 'time'], 0],\n [['company', 'elama', 'mudyadhu'], 0],\n [['okie'], 0],\n [['love', 'give', 'massages', 'lots', 'baby', 'fave', 'position'], 0],\n [['wait', 'ltgt'], 0],\n [['step', 'outta', 'congrats'], 0],\n [['thought'], 0],\n [[], 0],\n [['wearing', 'blue', 'shirt', 'black', 'pants'], 0],\n [['asked', 'come', 'chennai', 'search'], 0],\n [['start',\n   'sending',\n   'blackberry',\n   'torch',\n   'nigeria',\n   'find',\n   'buyer',\n   'melike',\n   'month',\n   'tell',\n   'anyone'],\n  0],\n [['forget',\n   'tell',\n   'want',\n   'need',\n   'crave',\n   'love',\n   'sweet',\n   'arabian',\n   'steed',\n   'mmmmmm',\n   'yummy'],\n  0],\n [['reaching', 'message'], 0],\n [['made', 'great'], 0],\n [['haha', 'think'], 0],\n [['either', 'works', 'ltgt', 'years', 'hope', 'doesnt', 'bother'], 0],\n [['calls',\n   'later',\n   'afternoon',\n   'onwords',\n   'mtnl',\n   'service',\n   'problem',\n   'south',\n   'mumbai',\n   'hear',\n   'cannt',\n   'listen'],\n  0],\n [['takin', 'shower', 'yeah', 'leave', 'done'], 0],\n [['wlcome',\n   'back',\n   'wonder',\n   'eaten',\n   'lion',\n   'something',\n   'nothing',\n   'much'],\n  0],\n [['still', 'attending', 'talks'], 0],\n [['sending', 'greetings', 'happiness', 'evening'], 0],\n [['girl', 'hope', 'well', 'long', 'time', 'give', 'call', 'time', 'lucyxx'],\n  0],\n [['people',\n   'msgs',\n   'think',\n   'addicted',\n   'msging',\n   'wrong',\n   'bcoz',\n   'dont',\n   'know',\n   'addicted',\n   'sweet',\n   'friends',\n   'bslvyl'],\n  0],\n [['cheers',\n   'mecause',\n   'werebored',\n   'yeah',\n   'okden',\n   'hunny',\n   'satsounds',\n   'likeyour',\n   'havin',\n   'gr8fun',\n   'keep',\n   'updat',\n   'countinlots',\n   'loveme',\n   'xxxxx'],\n  0],\n [['xmas',\n   'story',\n   'peace',\n   'xmas',\n   'love',\n   'xmas',\n   'miracle',\n   'jesus',\n   'blessed',\n   'month',\n   'ahead',\n   'wish',\n   'merry',\n   'xmas'],\n  0],\n [['come', 'guoyang', 'tell', 'told'], 0],\n [['noits', 'song', 'lyrics'], 0],\n [['kbut', 'hitteranyway', 'good'], 0],\n [['sorry',\n   'accidentally',\n   'left',\n   'phone',\n   'silent',\n   'last',\n   'night',\n   'didnt',\n   'check'],\n  0],\n [['yeah',\n   'imagine',\n   'would',\n   'really',\n   'gentle',\n   'unlike',\n   'docs',\n   'treat',\n   'patients',\n   'like',\n   'turkeys'],\n  0],\n [['sorry', 'stash', 'last', 'night', 'cant', 'pick', 'sunday'], 0],\n [['bognor', 'splendid', 'time', 'year'], 0],\n [['blank', 'blank', 'blank'], 0],\n [['watching', 'cartoon', 'listening', 'music', 'temple', 'church'], 0],\n [['masters', 'sale', 'hows'], 0],\n [['usualiam', 'fine', 'happy', 'well'], 0],\n [['castor', 'need', 'something'], 0],\n [['thanks', 'picking', 'trash'], 0],\n [['dunno', 'tickets'], 0],\n [['slept', 'timeyou'], 0],\n [['arms', 'fine', 'hows', 'cardiff'], 0],\n [['think', 'tantrums', 'finished', 'yeah', 'point'], 0],\n [[], 0],\n [['leaving', 'elsewhere'], 0],\n [['arrived', 'couple', 'days'], 0],\n [['thing', 'interesting', 'good', 'birthday', 'wrking', 'started', 'today'],\n  0],\n [['responding'], 0],\n [['aight', 'rush'], 0],\n [['shanilrakhesh',\n   'herethanksi',\n   'exchanged',\n   'uncut',\n   'diamond',\n   'stuffleaving',\n   'back',\n   'excellent',\n   'service',\n   'dino',\n   'prem'],\n  0],\n [[], 0],\n [['vikky', 'come', 'around', 'lttimegt'], 0],\n [['career',\n   'added',\n   'contact',\n   'indyarockscom',\n   'send',\n   'free',\n   'remove',\n   'phonebook',\n   'ltgt'],\n  0],\n [['good',\n   'afternoon',\n   'glorious',\n   'anniversary',\n   'sweet',\n   'hope',\n   'finds',\n   'happy',\n   'content',\n   'prey',\n   'think',\n   'send',\n   'teasing',\n   'kiss',\n   'across',\n   'coaxing',\n   'images',\n   'fond',\n   'souveniers',\n   'cougarpen'],\n  0],\n [['went', 'rent', 'bank', 'authorise', 'payment'], 0],\n [['first', 'answer', 'question'], 0],\n [['went', 'project', 'centre'], 0],\n [['whenevr',\n   'whenevr',\n   'gray',\n   'remembr',\n   'listn',\n   'watevr',\n   'wanna',\n   'walk',\n   'little',\n   'whileamp',\n   'promise',\n   'bring',\n   'back',\n   'smile'],\n  0],\n [['spoke',\n   'maneesha',\n   'like',\n   'know',\n   'satisfied',\n   'experience',\n   'reply',\n   'toll',\n   'free'],\n  0],\n [['thnx', 'dude', 'guys', '2nite'], 0],\n [['slave',\n   'want',\n   'take',\n   'pictures',\n   'today',\n   'bright',\n   'light',\n   'cell',\n   'phone',\n   'bright',\n   'light'],\n  0],\n [['mmmm',\n   'fuck',\n   'fair',\n   'know',\n   'weaknesses',\n   'grins',\n   'pushes',\n   'knees',\n   'exposes',\n   'belly',\n   'pulls',\n   'head',\n   'dont',\n   'forget',\n   'know',\n   'wicked',\n   'smile'],\n  0],\n [['send', 'ltdecimalgt'], 0],\n [['asking', 'like'], 0],\n [['problem',\n   'taxi',\n   'tomorrow',\n   'tuesday',\n   'tuesday',\n   'think',\n   'going',\n   'cinema'],\n  0],\n [['office', 'call', 'ltgt'], 0],\n [['must', 'come', 'later', 'normally', 'bathe', 'afternoon'], 0],\n [['wait', 'ltgt'], 0],\n [['campus', 'library'], 0],\n [['worryuse', 'pieces', 'cloth', 'packalso', 'take', 'tablets'], 0],\n [['otherwise', 'part', 'time', 'natuition'], 0],\n [['thats',\n   'cool',\n   'either',\n   'raglan',\n   'edward',\n   'behind',\n   'cricket',\n   'ground',\n   'gimme',\n   'ring',\n   'closeby',\n   'tuesday'],\n  0],\n [['change', 'also'], 0],\n [[], 0],\n [['small', 'prestige', 'problem'], 0],\n [['love',\n   'isnt',\n   'decision',\n   'feeling',\n   'could',\n   'decide',\n   'love',\n   'life',\n   'would',\n   'much',\n   'simpler',\n   'less',\n   'magical'],\n  0],\n [['know',\n   'grumpy',\n   'people',\n   'like',\n   'better',\n   'lying',\n   'always',\n   'play',\n   'jokes'],\n  0],\n [['hows', 'things', 'back', 'home', 'little', 'bored', 'already'], 0],\n [['looks',\n   'like',\n   'wrong',\n   'kappa',\n   'guys',\n   'numbers',\n   'still',\n   'phone',\n   'want',\n   'text',\n   'around'],\n  0],\n [['sounds',\n   'like',\n   'many',\n   'talents',\n   'would',\n   'like',\n   'dinner',\n   'date',\n   'next',\n   'week'],\n  0],\n [['ever',\n   'song',\n   'stuck',\n   'head',\n   'reason',\n   'wont',\n   'away',\n   'listen',\n   'like',\n   'times'],\n  0],\n [['take', 'shopping', 'paid'], 0],\n [['except', 'theres', 'chick', 'huge', 'boobs'], 0],\n [['years', 'plans'], 0],\n [['lateso',\n   'call',\n   'tomorrow',\n   'morningtake',\n   'care',\n   'sweet',\n   'dreamsu',\n   'meummifyingbye'],\n  0],\n [['used',\n   'hope',\n   'agents',\n   'dont',\n   'drop',\n   'since',\n   'booked',\n   'things',\n   'year',\n   'whole',\n   'boston',\n   'experiment'],\n  0],\n [['peteis', 'phone', 'still', 'jenny', 'college', 'leannewhat'], 0],\n [['fuck', 'resubbing'], 0],\n [['program', 'youre', 'slacking'], 0],\n [['surprised', 'still', 'guess', 'right'], 0],\n [['please', 'charge', 'mobile', 'morning'], 0],\n [['free'], 0],\n [['needs', 'slowly', 'vomit'], 0],\n [['thkin', 'goin', 'yogasana', 'rush', 'parco', 'okie', 'call', 'ready'], 0],\n [['seems',\n   'like',\n   'weird',\n   'timing',\n   'night',\n   'want',\n   'come',\n   'smoke',\n   'shitstorm',\n   'attributed',\n   'always',\n   'coming',\n   'making',\n   'everyone',\n   'smoke'],\n  0],\n [['lost', 'fact'], 0],\n [['aight',\n   'free',\n   'think',\n   'could',\n   'text',\n   'blakes',\n   'address',\n   'occurs',\n   'quite',\n   'sure',\n   'thought'],\n  0],\n [['dear', 'good', 'morning', 'feeling', 'dear'], 0],\n [['awesome', 'think', 'time', 'tonight'], 0],\n [['come', 'hair'], 0],\n [['sorry', 'cant', 'help'], 0],\n [['dont',\n   'respond',\n   'imma',\n   'assume',\n   'youre',\n   'still',\n   'asleep',\n   'imma',\n   'start',\n   'calling',\n   'shit'],\n  0],\n [['show', 'could', 'dust'], 0],\n [['meeting'], 0],\n [['fucking',\n   'chickened',\n   'messaged',\n   'would',\n   'late',\n   'woould',\n   'buzz',\n   'didnt',\n   'hear',\n   'word'],\n  0],\n [['sent', 'like'], 0],\n [['back', 'urself'], 0],\n [['laid', 'airtel', 'line', 'rest'], 0],\n [['nite',\n   'nite',\n   'pocay',\n   'wocay',\n   'thing',\n   '4eva',\n   'promise',\n   'ring',\n   '2morrowxxxx'],\n  0],\n [['really', 'hope', 'work', 'doesnt', 'stressful'], 0],\n [['aight', 'roommates'], 0],\n [['6times'], 0],\n [['toshiba', 'portege', 'm100'], 0],\n [['sorry', 'call', 'later'], 0],\n [['well', 'glad', 'wasted', 'night', 'applebees', 'nothing'], 0],\n [['please', 'tell', 'special', 'stock', 'talking'], 0],\n [['godtaken', 'teethis', 'paining'], 0],\n [[], 0],\n [['babe', 'doin', '2nite', 'love', 'annie'], 0],\n [['alright', 'hooked', 'guys'], 0],\n [['later',\n   'showing',\n   'around',\n   '8830',\n   'want',\n   'drink',\n   'prefer',\n   'spend',\n   'money',\n   'nosh',\n   'dont',\n   'mind'],\n  0],\n [['nice', 'ready', 'thursday'], 0],\n [['joys',\n   'lifeis',\n   'waking',\n   'daywith',\n   'thoughts',\n   'somewheresomeone',\n   'cares',\n   'enough',\n   'tosend',\n   'warm',\n   'morning',\n   'greeting'],\n  0],\n [['shoot', 'docs', 'waiting', 'room'], 0],\n [['wiproyou', 'every', 'thing', 'life', 'years'], 0],\n [['know', 'serving', 'mean'], 0],\n [['dahow', 'todays', 'class'], 0],\n [['dont',\n   'fret',\n   'ovulation',\n   'test',\n   'strips',\n   'send',\n   'wont',\n   'like',\n   'march',\n   'send',\n   'postal',\n   'addressull',\n   'alrightokay'],\n  0],\n [['going', 'ikea'], 0],\n [['predict', 'time', 'finish', 'buying'], 0],\n [['outside', 'islands', 'head', 'towards', 'hard', 'rock', 'youll'], 0],\n [['dint', 'tell', 'anything', 'angry', 'told'], 0],\n [['need', 'bored', 'izzit', 'suddenly'], 0],\n [['keep',\n   'saying',\n   'youre',\n   'since',\n   'moved',\n   'keep',\n   'butting',\n   'heads',\n   'freedom',\n   'responsibility',\n   'tired',\n   'much',\n   'shit',\n   'deal',\n   'barely',\n   'keeping',\n   'together',\n   'gets',\n   'added'],\n  0],\n [['watching', 'surya', 'movie', 'vijay', 'movie', 'pokkiri'], 0],\n [['aight', 'cash'], 0],\n [['university', 'southern', 'california'], 0],\n [['dont', 'forget', 'study'], 0],\n [['nice', 'ready', 'thursday'], 0],\n [['money', 'steve', 'mate'], 0],\n [['didnt', 'call', 'lunch'], 0],\n [['carlos', 'definitely', 'coming', 'tonight', 'excuses'], 0],\n [['said', 'plus', 'minus', 'leave', 'line', 'paragraphs'], 0],\n [['well',\n   'officially',\n   'philosophical',\n   'hole',\n   'wanna',\n   'call',\n   'home',\n   'ready',\n   'saved'],\n  0],\n [['dump', 'heap', 'decided', 'come', 'lowes', 'boring'], 0],\n [['eatin', 'lunch'], 0],\n [['spare', 'power', 'supplies'], 0],\n [['messageno', 'responcewhat', 'happend'], 0],\n [['love', 'girls', 'office', 'wonder', 'smiling', 'sore'], 0],\n [['record', 'night'], 0],\n [['back', 'tampa', 'west', 'palm', 'hear', 'happened'], 0],\n [['making', 'pics', 'bigger'], 0],\n [['heard',\n   'going',\n   'wildlife',\n   'talk',\n   'tonight',\n   'want2come',\n   'that2worzels',\n   'wizzle',\n   'whatever'],\n  0],\n [['lovely', 'night'], 0],\n [['always',\n   'yahoo',\n   'messenger',\n   'send',\n   'message',\n   'send',\n   'mobile',\n   'mode',\n   'reply'],\n  0],\n [['flippin', 'shit'], 0],\n [['please', 'come', 'imin', 'towndontmatter', 'urgoin', 'outl8r'], 0],\n [['alright', 'gotta', 'change', 'order', 'half8th'], 0],\n [['alright', 'goal'], 0],\n [['also',\n   'fuck',\n   'family',\n   'going',\n   'rhode',\n   'island',\n   'wherever',\n   'fuck',\n   'leaving',\n   'alone',\n   'week',\n   'bong'],\n  0],\n [['date', 'sunday'], 0],\n [['plane', 'give', 'month'], 0],\n [['library'], 0],\n [['gain', 'rights', 'wifedont', 'demand', 'trying', 'husband', 'toolets'], 0],\n [['know',\n   'lacking',\n   'particular',\n   'dramastorms',\n   'details',\n   'part',\n   'worried'],\n  0],\n [['accidentally', 'deleted', 'message', 'resend', 'please'], 0],\n [['days', 'making', 'dinner', 'tonite', 'invited'], 0],\n [['hello',\n   'bored',\n   'inever',\n   'thought',\n   'bored',\n   'tell',\n   'something',\n   'exciting',\n   'happened',\n   'anything'],\n  0],\n [['asked', 'hahatake', 'care'], 0],\n [['tagged', 'friends', 'seemed', 'count', 'friends'], 0],\n [['gudnitetcpractice', 'going'], 0],\n [['hows', 'paper'], 0],\n [['cant', 'laptop', 'matric', 'card'], 0],\n [['pick', 'drop', 'carso', 'problem'], 0],\n [['time'], 0],\n [['somebody', 'andros', 'steal'], 0],\n [['gonna',\n   'sorry',\n   'would',\n   'normal',\n   'starting',\n   'panic',\n   'time',\n   'sorry',\n   'seeing',\n   'tuesday'],\n  0],\n [['iouri', 'gave', 'number', 'wylie', 'ryans', 'friend'], 0],\n [['youre', 'thinking', 'lifting'], 0],\n [['know', 'complain', 'onlybettr', 'directly', 'bsnl', 'offc', 'apply'], 0],\n [['lecture', 'cheery'], 0],\n [['anything',\n   'valuable',\n   'situations',\n   'first',\n   'getting',\n   'second',\n   'loosing'],\n  0],\n [['aight', 'tomorrow', 'around', 'ltgt'], 0],\n [['jade', 'paul', 'didnt', 'remember', 'barmed', 'want', 'talk'], 0],\n [['replied',\n   'mail',\n   'going',\n   'management',\n   'office',\n   'later',\n   'plus',\n   'bank',\n   'later',\n   'alsoor',\n   'wednesday'],\n  0],\n [['walmart', 'stay'], 0],\n [['thanx'], 0],\n [['hurt',\n   'prsn',\n   'close',\n   'fight',\n   'somtimes',\n   'fight',\n   'saves',\n   'relation',\n   'quiet',\n   'leaves',\n   'nothin',\n   'relation',\n   'eveb'],\n  0],\n [['aight', 'text', 'youre', 'back', 'swing', 'need', 'somebody', 'door'], 0],\n [['trying', 'find', 'chinese', 'food', 'place', 'around'], 0],\n [['darlin',\n   'supose',\n   'worry',\n   'muchi',\n   'film',\n   'stuff',\n   'mate',\n   'babysit',\n   'call',\n   'therexx'],\n  0],\n [['make', 'wedding', 'chapel', 'frontierville', 'good', 'stuff'], 0],\n [['class', 'like', 'ltgt', 'minutes', 'know', 'advising'], 0],\n [['eyes', 'philosophy'], 0],\n [['come', 'tomorrow'], 0],\n [['awesome', 'text', 'youre', 'restocked'], 0],\n [['sorry', 'roommates', 'took', 'forever', 'come'], 0],\n [['happened', 'date'], 0],\n [['needs', 'stop', 'going', 'make', 'fucking', 'dealing'], 0],\n [['orchard', 'near', 'univ'], 0],\n [['cant',\n   'give',\n   'everything',\n   'want',\n   'need',\n   'actually',\n   'could',\n   'better',\n   'ownyouve',\n   'money',\n   'cant',\n   'work',\n   'cant',\n   'cant',\n   'rent',\n   'cant',\n   'even',\n   'fill',\n   'fucking',\n   'tank',\n   'stressed',\n   'depressed',\n   'didnt',\n   'even',\n   'call',\n   'home',\n   'thanksgiving',\n   'tell',\n   'nothing'],\n  0],\n [['ssnervous', 'ltgt'], 0],\n [['thanx', 'birthday', 'already'], 0],\n [['reading', 'text', 'sent', 'meant', 'joke', 'read', 'light'], 0],\n [['family', 'booking', 'tour', 'package'], 0],\n [['callsmessagesmissed', 'calls'], 0],\n [['pick', 'stay'], 0],\n [['awesome', 'gonna', 'soon', 'later', 'tonight'], 0],\n [['lovable',\n   'bcums',\n   'angry',\n   'take',\n   'seriously',\n   'angry',\n   'childish',\n   'true',\n   'showing',\n   'deep',\n   'affection',\n   'care',\n   'kettoda',\n   'manda',\n   'nice'],\n  0],\n [['shun', 'bian', 'watch', 'glass', 'exhibition'], 0],\n [['half', 'hour'], 0],\n [[], 0],\n [['cant', 'pick', 'phone', 'right', 'send', 'message'], 0],\n [['sian', 'meeting', 'supervisor', 'work', 'liao', 'working'], 0],\n [['understand', 'loss', 'gain', 'work', 'school'], 0],\n [['cant',\n   'wait',\n   'cornwall',\n   'hope',\n   'tonight',\n   'isnt',\n   'well',\n   'rock',\n   'night',\n   'shite',\n   'anyway',\n   'going',\n   'good',\n   'night',\n   'speak',\n   'soon'],\n  0],\n [['entered',\n   'cabin',\n   'said',\n   'happy',\n   'bday',\n   'boss',\n   'felt',\n   'special',\n   'askd',\n   'lunch',\n   'lunch',\n   'invited',\n   'apartment',\n   'went'],\n  0],\n [['sorry', 'call', 'later'], 0],\n [['think', 'still', 'need', 'cash', 'ready'], 0],\n [['yeah', 'confirmed', 'staying', 'weekend'], 0],\n [['normal'], 0],\n [[], 0],\n [[], 0],\n [['remind'], 0],\n [['call'], 0],\n [['thanks',\n   'honey',\n   'still',\n   'havent',\n   'heard',\n   'anything',\n   'leave',\n   'longer',\n   'crowd',\n   'later',\n   'great',\n   'advice',\n   'thanks',\n   'hope',\n   'cardiff',\n   'still'],\n  0],\n [['thanks',\n   'talk',\n   'saturday',\n   'dear',\n   'cherish',\n   'brother',\n   'role',\n   'model'],\n  0],\n [['whats', 'want', 'come', 'online'], 0],\n [['good',\n   'afternoon',\n   'sunshine',\n   'dawns',\n   'refreshed',\n   'happy',\n   'alive',\n   'breathe',\n   'smile',\n   'think',\n   'love',\n   'always'],\n  0],\n [['also', 'cannot', 'many', 'mistakes'], 0],\n [['neva',\n   'worry',\n   'bout',\n   'truth',\n   'truth',\n   'lead',\n   'heart',\n   'least',\n   'unique',\n   'person',\n   'like',\n   'deserve',\n   'sleep',\n   'tight',\n   'morning'],\n  0],\n [['kate'], 0],\n [['move'], 0],\n [['things', 'later'], 0],\n [['many',\n   'people',\n   'seems',\n   'special',\n   'first',\n   'sight',\n   'remain',\n   'special',\n   'till',\n   'last',\n   'sight',\n   'maintain',\n   'till',\n   'life',\n   'ends',\n   'take'],\n  0],\n [['park'], 0],\n [['cant', 'help', 'never', 'iphone'], 0],\n [['prefer', 'free', 'days', 'tues', 'workin'], 0],\n [['sorry',\n   'left',\n   'phone',\n   'upstairs',\n   'might',\n   'hectic',\n   'would',\n   'birds',\n   'fell',\n   'swoop',\n   'date'],\n  0],\n [['leave'], 0],\n [['hiya', 'probably', 'coming', 'home', 'weekend', 'next'], 0],\n [['relaxing',\n   'time',\n   'ever',\n   'every',\n   'party',\n   'good',\n   'night',\n   'home',\n   'tomorrow',\n   '5ish'],\n  0],\n [['didnt', 'know', 'meant', 'baby', 'jontin'], 0],\n [['everywhere',\n   'dirt',\n   'floor',\n   'windows',\n   'even',\n   'shirt',\n   'sometimes',\n   'open',\n   'mouth',\n   'comes',\n   'flowing',\n   'dream',\n   'world',\n   'without',\n   'half',\n   'chores',\n   'time',\n   'lots',\n   'shows',\n   'guess',\n   'like',\n   'things',\n   'must',\n   'exist',\n   'like',\n   'rain',\n   'hail',\n   'mist',\n   'time',\n   'done',\n   'become'],\n  0],\n [['ready', 'call'], 0],\n [['yesterday', 'already', 'fireplace', 'another', 'icon', 'sitting'], 0],\n [['hurry', 'weeddeficient', 'like', 'three', 'days'], 0],\n [['might', 'back', 'later', 'ltgt'], 0],\n [['much', 'dirty', 'fellow'], 0],\n [['tyler', 'getting', 'leave', 'long', 'like', 'hour'], 0],\n [['donno', 'scorable'], 0],\n [['aight', 'still', 'want', 'money'], 0],\n [['arestaurant', 'eating', 'squid', '1030', 'wanna', 'dosomething', 'late'],\n  0],\n [['youre', 'hour', 'half', 'going', 'apeshit'], 0],\n [['cant',\n   'keep',\n   'talking',\n   'people',\n   'sure',\n   'agree',\n   'price',\n   'tell',\n   'want',\n   'really',\n   'much',\n   'willing'],\n  0],\n [['hmmm', 'mayb', 'shoppin', 'area', 'forgot', 'name', 'hotel'], 0],\n [['desires',\n   'going',\n   'doctor',\n   'liver',\n   'stylish',\n   'hair',\n   'managed',\n   'thats'],\n  0],\n [['olowoyey',\n   'uscedu',\n   'great',\n   'time',\n   'argentina',\n   'secretary',\n   'everything',\n   'blessing'],\n  0],\n [['really', 'hows', 'masters'], 0],\n [['mean', 'come', 'chase', 'stated', 'watch', 'many', 'movies', 'want'], 0],\n [['alright'], 0],\n [['yoyyooo', 'know', 'change', 'permissions', 'drive', 'flash', 'drive'], 0],\n [['wait', 'finish'], 0],\n [['busy', 'come', 'point', 'figure', 'tomorrow'], 0],\n [['download', 'fring'], 0],\n [['dont', 'phone', 'silent', 'mode'], 0],\n [['yeah', 'dont', 'back', 'midnight'], 0],\n [['parents',\n   'kidz',\n   'friends',\n   'colleagues',\n   'screaming',\n   'surprise',\n   'waiting',\n   'sofa',\n   'naked'],\n  0],\n [['whatever',\n   'want',\n   'know',\n   'rules',\n   'talk',\n   'earlier',\n   'week',\n   'start',\n   'happening',\n   'showing',\n   'responsibility',\n   'every',\n   'week',\n   'bend',\n   'rule',\n   'whatever',\n   'tired',\n   'thia',\n   'argument',\n   'every',\n   'week',\n   'ltgt',\n   'movie',\n   'doesnt',\n   'inlude',\n   'previews',\n   'youre',\n   'still',\n   'getting'],\n  0],\n [['scratching'], 0],\n [['right', 'meanwhile', 'hows', 'project', 'twins', 'comin'], 0],\n [['princess',\n   'like',\n   'make',\n   'love',\n   'ltgt',\n   'times',\n   'night',\n   'hope',\n   'thats',\n   'problem'],\n  0],\n [['says', 'back', 'south', 'tampa', 'preferably', 'kegger'], 0],\n [['chinese', 'food', 'youre', 'paying', 'lipo'], 0],\n [['honeybee',\n   'said',\n   'sweetest',\n   'world',\n   'laughed',\n   'said',\n   'waitu',\n   'havnt',\n   'person',\n   'reading',\n   'moral',\n   'even',\n   'crack',\n   'jokes',\n   'gmgngegn'],\n  0],\n [['better', 'wont', 'wife', 'doctor'], 0],\n [['call', 'cost', 'guess', 'isnt', 'miss', 'need', 'want', 'love'], 0],\n [['still', 'area', 'restaurant', 'come', 'back', 'soon'], 0],\n [['asked', 'money'], 0],\n [['rounderso', 'required'], 0],\n [['4got',\n   'gonna',\n   'start',\n   'belly',\n   'dancing',\n   'moseley',\n   'weds',\n   'want',\n   'join',\n   'cafe'],\n  0],\n [['today', 'going', 'college', 'able', 'atten', 'class'], 0],\n [['snow',\n   'snow',\n   'kind',\n   'weather',\n   'brings',\n   'together',\n   'friendships',\n   'grow'],\n  0],\n [['total',\n   'video',\n   'converter',\n   'free',\n   'download',\n   'type',\n   'google',\n   'search'],\n  0],\n [['fuck',\n   'babe',\n   'miss',\n   'already',\n   'know',\n   'cant',\n   'send',\n   'money',\n   'towards',\n   'need',\n   'want',\n   'crave'],\n  0],\n [['single',\n   'single',\n   'answers',\n   'fighting',\n   'plus',\n   'said',\n   'broke',\n   'didnt',\n   'reply'],\n  0],\n [['tell', 'mack', 'theater'], 0],\n [['taking',\n   'derek',\n   'taylor',\n   'walmart',\n   'back',\n   'time',\n   'youre',\n   'done',\n   'leave',\n   'mouse',\n   'desk',\n   'text',\n   'priscillas',\n   'ready'],\n  0],\n [['mean', 'confirmed'], 0],\n [['simply', 'sitting', 'watching', 'match', 'office'], 0],\n [['cool', 'practicing', 'making', 'babies'], 0],\n [['gloucesterroad', 'later'], 0],\n [['dear',\n   'sirsalam',\n   'alaikkumpride',\n   'pleasure',\n   'meeting',\n   'today',\n   'shopwe',\n   'pleased',\n   'send',\n   'contact',\n   'number',\n   'qatarrakhesh',\n   'indianpls',\n   'save',\n   'numberrespectful',\n   'regards'],\n  0],\n [['ahnow', 'wherebtw', 'wana', 'specialise'], 0],\n [['yijuehotmailcom'], 0],\n [['hope', 'know', 'still'], 0],\n [['2marrow', 'coming', 'class'], 0],\n [['many',\n   'modelsony',\n   'ericson',\n   'also',\n   'ltgt',\n   'luks',\n   'good',\n   'forgot',\n   'modl'],\n  0],\n [['entered',\n   'cabin',\n   'said',\n   'happy',\n   'bday',\n   'boss',\n   'felt',\n   'special',\n   'askd',\n   'lunch',\n   'lunch',\n   'invited',\n   'apartment',\n   'went'],\n  0],\n [['didnt', 'decided', 'head'], 0],\n [['sure', 'theyll', 'understand', 'wine', 'good', 'idea', 'slurp'], 0],\n [[], 0],\n [['management', 'puzzeles'], 0],\n [['shop',\n   'flirting',\n   'phone',\n   'number',\n   'paperwork',\n   'called',\n   'texted',\n   'nervous',\n   'course',\n   'address',\n   'call',\n   'boss',\n   'tell',\n   'knowing',\n   'fired'],\n  0],\n [['meet', 'combine', 'parts', 'hows', 'rest', 'project', 'going'], 0],\n [['love', 'aathilove'], 0],\n [['kkwhat', 'detail', 'want', 'transferacc', 'enough'], 0],\n [['frnd',\n   'wordnot',\n   'merely',\n   'relationshipits',\n   'silent',\n   'promise',\n   'says',\n   'wherevr',\n   'whenevr',\n   'forevr',\n   'gudnyt',\n   'dear'],\n  0],\n [['isnt',\n   'frnd',\n   'necesity',\n   'life',\n   'imagine',\n   'urself',\n   'witout',\n   'frnd',\n   'feel',\n   'colleg',\n   'watll',\n   'cell',\n   'functions',\n   'thnk',\n   'events',\n   'espell',\n   'cared',\n   'missed',\n   'irritated',\n   '4wrd',\n   'dearloving',\n   'frnds',\n   'wthout',\n   'cant',\n   'live',\n   'takecare',\n   'goodmorning'],\n  0],\n [['said', 'went', 'back', 'cant', 'sleep', 'anything'], 0],\n [['spoke',\n   'uncle',\n   'john',\n   'today',\n   'strongly',\n   'feels',\n   'need',\n   'sacrifice',\n   'keep',\n   'going',\n   'call',\n   'listen',\n   'dont',\n   'make',\n   'promises',\n   'make',\n   'clear',\n   'things',\n   'easy',\n   'need',\n   'please',\n   'work',\n   'things',\n   'long',\n   'keep',\n   'expecting',\n   'help',\n   'creativity',\n   'stifled',\n   'keep',\n   'happy',\n   'promises',\n   'part'],\n  0],\n [['send', 'address'], 0],\n [['merry', 'christmas', 'babe', 'love', 'kisses'], 0],\n [['accordin',\n   'discussed',\n   'yest',\n   'except',\n   'theres',\n   'much',\n   'lesson',\n   'attend'],\n  0],\n [['happy', 'year', 'princess'], 0],\n [['railway'], 0],\n [['cancelled',\n   'yeah',\n   'baby',\n   'well',\n   'sounds',\n   'important',\n   'understand',\n   'darlin',\n   'give',\n   'ring',\n   'later',\n   'fone',\n   'love',\n   'kate'],\n  0],\n [['solve',\n   'case',\n   'found',\n   'murdered',\n   'ltdecimalgt',\n   'ltgt',\n   'afternoon',\n   '1his',\n   'wife',\n   'called',\n   'police',\n   '2police',\n   'questioned',\n   'everyone',\n   '3wife',\n   'siri',\n   'sleeping',\n   'murder',\n   'took',\n   'place',\n   '4cook',\n   'cooking',\n   '5gardener',\n   'picking',\n   'vegetables',\n   '6housemaid',\n   'went',\n   'post',\n   'office',\n   '7children',\n   'went',\n   'play',\n   '8neighbour',\n   'went',\n   'marriage',\n   'police',\n   'arrested',\n   'murderer',\n   'immediately',\n   'whos',\n   'reply',\n   'reason',\n   'brilliant'],\n  0],\n [['simple', 'arithmetic', 'percentages'], 0],\n [['youve',\n   'already',\n   'flaky',\n   'parent',\n   'itsnot',\n   'supposed',\n   'childs',\n   'support',\n   'parentnot',\n   'theyre',\n   'ride',\n   'anyway',\n   'supposed',\n   'support',\n   'hurt',\n   'unintentional',\n   'hurt',\n   'nonetheless'],\n  0],\n [['diet', 'many', 'slices', 'pizza', 'yesterday', 'always', 'diet'], 0],\n [['dear', 'take', 'care', 'reaching', 'homelove'], 0],\n [['staff', 'placement', 'training', 'amrita', 'college'], 0],\n [['text', 'youre'], 0],\n [['good', 'morning', 'pookie', 'hope', 'didnt', 'wake'], 0],\n [['lousy', 'already', 'come', 'back', 'half', 'dead'], 0],\n [['sick',\n   'needy',\n   'want',\n   'pouts',\n   'stomps',\n   'feet',\n   'pouts',\n   'stomps',\n   'feet',\n   'want',\n   'slave',\n   'want'],\n  0],\n [['wonders',\n   'world',\n   'style',\n   'smile',\n   'personality',\n   'nature',\n   'lovely',\n   'friendship',\n   'good',\n   'morning',\n   'dear'],\n  0],\n [['really', 'need', 'shit', 'tomorrow', 'know', 'wont', 'awake', 'like'], 0],\n [['almost', 'home'], 0],\n [['came', 'hostel'], 0],\n [['knowwait', 'check'], 0],\n [['real', 'sucks', 'cant', 'even', 'cook', 'whole', 'electricity', 'hungry'],\n  0],\n [['fine', 'love', 'safe'], 0],\n [['thanks', 'honey', 'great'], 0],\n [['thats', 'good', 'need', 'drugs'], 0],\n [['dont', 'know'], 0],\n [['wishing',\n   'great',\n   'moji',\n   'told',\n   'offer',\n   'always',\n   'speechless',\n   'offer',\n   'easily',\n   'great',\n   'lengths',\n   'behalf',\n   'stunning',\n   'exam',\n   'next',\n   'friday',\n   'keep',\n   'touch',\n   'sorry'],\n  0],\n [['sorry', 'call', 'later', 'meeting'], 0],\n [['tell', 'headache', 'want', 'hour', 'sick', 'time'], 0],\n [['uncles', 'atlanta', 'wish', 'guys', 'great', 'semester'], 0],\n [['late', 'home', 'father', 'power', 'frndship'], 0],\n [['today', 'system', 'readyall', 'well', 'also', 'deep', 'well'], 0],\n [['much',\n   'though',\n   'friday',\n   'cant',\n   'wait',\n   'dunno',\n   'hell',\n   'gonna',\n   'another',\n   'weeks',\n   'become',\n   'slob',\n   'wait',\n   'already',\n   'done'],\n  0],\n [['wewa', 'iriver'], 0],\n [['wear', 'jeans'], 0],\n [['late', 'tellmiss'], 0],\n [['glad', 'made'], 0],\n [['wishing', 'family', 'merry', 'happy', 'year', 'advance'], 0],\n [['come', 'pick'], 0],\n [['think', 'saying', 'clearly', 'leave', 'need', 'come'], 0],\n [['finish', 'bathing'], 0],\n [['sent', 'ltgt', 'bucks'], 0],\n [['howz', 'painhope', 'fine'], 0],\n [['finished', 'watching', 'days', 'lives', 'love'], 0],\n [['none', 'thats', 'happening', 'though'], 0],\n [['dawhats', 'plan'], 0],\n [['happens', 'vegas', 'stays', 'vegas'], 0],\n [['engalnd',\n   'telly',\n   'decided',\n   'wont',\n   'watch',\n   'elliot',\n   'kissing',\n   'damn'],\n  0],\n [['want', 'ltgt', 'dado'], 0],\n [['hahahause', 'brain', 'dear'], 0],\n [['wake', 'long', 'already', 'dunno', 'thing'], 0],\n [['bill', '3365', 'thats'], 0],\n [['carlos', 'says', 'pick', 'later', 'yeah'], 0],\n [['sorry', 'hurt'], 0],\n [['studies', 'alone', 'without', 'anyones', 'help', 'cant', 'need', 'study'],\n  0],\n [['thank', 'youve', 'wonderful'], 0],\n [['think'], 0],\n [['kgive', 'back', 'thanks'], 0],\n [['lunch', 'buffet', 'already'], 0],\n [['reach', 'home', 'safe', 'sound', 'liao'], 0],\n [['check', 'detailed', 'message'], 0],\n [['today',\n   'song',\n   'dedicated',\n   'song',\n   'dedicate',\n   'send',\n   'valuable',\n   'frnds',\n   'first',\n   'rply'],\n  0],\n [['might', 'salon', 'boring'], 0],\n [['doesnt', 'need', 'test'], 0],\n [['theres',\n   'ring',\n   'comes',\n   'guys',\n   'costumes',\n   'gift',\n   'future',\n   'yowifes',\n   'hint',\n   'hint'],\n  0],\n [['skip', 'right', 'outside', 'front', 'house', 'house', 'pull'], 0],\n [['come', 'sorting', 'narcotics', 'situation'], 0],\n [['happen', 'dear', 'tell'], 0],\n [['asked', 'call', 'radio'], 0],\n [['cool', 'cool', 'chikku', 'chikkudb'], 0],\n [['office', 'dawhere'], 0],\n [['cramps', 'stopped', 'going', 'back', 'sleep'], 0],\n [['night',\n   'ended',\n   'another',\n   'morning',\n   'come',\n   'special',\n   'smile',\n   'like',\n   'sunny',\n   'rays',\n   'leaves',\n   'worries',\n   'blue',\n   'blue'],\n  0],\n [['thing',\n   'beyond',\n   'joke',\n   'wont',\n   'biro',\n   'dont',\n   'masters',\n   'cant',\n   'ever'],\n  0],\n [['bless', 'hows'], 0],\n [['prabhaim', 'sorydarealyfrm', 'heart', 'sory'], 0],\n [['cant',\n   'feel',\n   'nauseous',\n   'pissed',\n   'didnt',\n   'sweets',\n   'week',\n   'cause',\n   'today',\n   'planning',\n   'dieting',\n   'week',\n   'hungry'],\n  0],\n [['sorry',\n   'call',\n   'later',\n   'meeting',\n   'thing',\n   'related',\n   'trade',\n   'please',\n   'call',\n   'arul',\n   'ltgt'],\n  0],\n [['whats', 'nannys', 'address'], 0],\n [['well', 'night', 'night'], 0],\n [['open', 'door'], 0],\n [['rent', 'expensive', 'save'], 0],\n [['home', 'please', 'call'], 0],\n [['macha',\n   'dont',\n   'feel',\n   'upseti',\n   'assume',\n   'mindsetbelieve',\n   'evening',\n   'wonderful',\n   'plans',\n   'uslet',\n   'life',\n   'begin',\n   'againcall',\n   'anytime'],\n  0],\n [['driving', 'raining', 'caught', 'station'], 0],\n [['sorry', 'call', 'later'], 0],\n [['great'], 0],\n [['says',\n   'hell',\n   'give',\n   'call',\n   'friends',\n   'money',\n   'definitely',\n   'buying',\n   'week'],\n  0],\n [['going', 'ltgt'], 0],\n [['attend', 'driving', 'lesson', 'many', 'times'], 0],\n [['great',\n   'princess',\n   'love',\n   'giving',\n   'receiving',\n   'oral',\n   'doggy',\n   'style',\n   'fave',\n   'position',\n   'enjoy',\n   'making',\n   'love',\n   'ltgt',\n   'times',\n   'night'],\n  0],\n [['kind',\n   'missed',\n   'train',\n   'asthma',\n   'attack',\n   'half',\n   'driving',\n   'sure',\n   'park'],\n  0],\n [['thanx'], 0],\n [['good',\n   'later',\n   'come',\n   'find',\n   'lucky',\n   'told',\n   'earlier',\n   'later',\n   'pple',\n   'take',\n   'finish'],\n  0],\n [['says',\n   'quitting',\n   'least5times',\n   'wudnt',\n   'take',\n   'much',\n   'notice',\n   'didnt',\n   'mind',\n   'gonna',\n   'want',\n   'come',\n   'taunton',\n   'tonight',\n   'tell'],\n  0],\n [['leave', 'friday', 'wait', 'superior', 'tell'], 0],\n [['gonna', 'uterus'], 0],\n [['going'], 0],\n [['never', 'said', 'would', 'said', 'today'], 0],\n [['yesbut', 'said'], 0],\n [['really', 'need', 'kiss', 'miss', 'baby', 'baby', '4eva'], 0],\n [['shopping', 'raining', 'hard', 'leave', 'orchard'], 0],\n [['good', 'well', 'find'], 0],\n [['reached', 'home', 'bathe', 'first', 'using', 'tell', 'finishes'], 0],\n [['long', 'fuckin', 'showr'], 0],\n [['sense', 'foot', 'penis'], 0],\n [['goodmorning', 'sleeping'], 0],\n [['shes', 'later', 'wearing', 'shorts'], 0],\n [['would', 'like', 'birthday'], 0],\n [['love'], 0],\n [['monday', 'next', 'week', 'give', 'full', 'gist'], 0],\n [['created',\n   'btwn',\n   'fingers',\n   'sum1',\n   'special',\n   'fill',\n   'gaps',\n   'holding',\n   'hands',\n   'dont',\n   'created',\n   'much',\n   'legs'],\n  0],\n [['aiyo',\n   'lesson',\n   'early',\n   'still',\n   'sleepin',\n   'haha',\n   'okie',\n   'home',\n   'liao',\n   'confirm'],\n  0],\n [['thinking'], 0],\n [['station'], 0],\n [['happy', 'birthday', 'youdearwith', 'lots', 'loverakhesh'], 0],\n [['fineabsolutly', 'fine'], 0],\n [['youre',\n   'right',\n   'didnt',\n   'mean',\n   'guess',\n   'gave',\n   'boston',\n   'changed',\n   'search',\n   'location',\n   'something',\n   'changed',\n   'signin',\n   'page',\n   'still',\n   'says',\n   'boston'],\n  0],\n [['also',\n   'sorta',\n   'blown',\n   'couple',\n   'times',\n   'recently',\n   'rather',\n   'text',\n   'blue',\n   'looking',\n   'weed'],\n  0],\n [['need', 'tell', 'anything', 'going', 'sleep', 'good', 'night'], 0],\n [['bloo', 'bloo', 'bloo', 'miss', 'first', 'bowl'], 0],\n [['lmao'], 0],\n [['like',\n   'shock',\n   'telling',\n   'shuhui',\n   'like',\n   'telling',\n   'leona',\n   'also',\n   'like',\n   'almost',\n   'know',\n   'liao',\n   'reaction'],\n  0],\n [['probably', 'almost', 'cash', 'tomorrow'], 0],\n [['call', 'time', 'tell'], 0],\n [['want',\n   'nice',\n   'shirt',\n   'hubby',\n   'nice',\n   'fiting',\n   'ones',\n   'budget',\n   'ltgt',\n   'help',\n   'load',\n   'card',\n   'hwkeep',\n   'posted'],\n  0],\n [['prakesh', 'know'], 0],\n [['yeah', 'wheres', 'class'], 0],\n [['babe',\n   'thanks',\n   'coming',\n   'even',\n   'though',\n   'didnt',\n   'welli',\n   'wanted',\n   'hope',\n   'soon',\n   'love',\n   'kisses'],\n  0],\n [['note',\n   'anyone',\n   'calling',\n   'mobile',\n   'asks',\n   'type',\n   'ltgt',\n   'ltgt',\n   'disconnect',\n   'callcoz',\n   'attempt',\n   'terrorist',\n   'make',\n   'card',\n   'confirmd',\n   'nokia',\n   'motorola',\n   'verified'],\n  0],\n [['east', 'coast'], 0],\n [['compliments', 'away', 'system', 'side'], 0],\n [['forced',\n   'slice',\n   'really',\n   'hungry',\n   'sucks',\n   'mark',\n   'getting',\n   'worried',\n   'knows',\n   'sick',\n   'turn',\n   'pizza'],\n  0],\n [['gran', 'onlyfound', 'afew', 'days', 'agocusoon', 'honi'], 0],\n [['onum', 'normal'], 0],\n [['sister', 'placed', 'birla', 'soft'], 0],\n [['practising', 'curtsey'], 0],\n [['sure', 'stomach'], 0],\n [['anything', 'going', 'home', 'dinner'], 0],\n [['guess', 'spent', 'last', 'night', 'phasing', 'fourth', 'dimension'], 0],\n [['still', 'looking', 'gone', '4the', 'driving', 'test'], 0],\n [['plans'], 0],\n [['must', 'book', 'going', 'yoga', 'basic', 'sunday'], 0],\n [['dunno', 'lets', 'learn', 'pilates'], 0],\n [['pizza', 'meat', 'lovers', 'supreme', 'pick'], 0],\n [['gonna', 'call', 'gets', 'work', 'crazy', 'questions'], 0],\n [['sarcasm', 'scarcasim'], 0],\n [['done', 'handed', 'celebrations', 'full', 'swing'], 0],\n [['common', 'hearin', 'something', 'different', 'smile', 'today', 'evng'], 0],\n [['thats', 'cool'], 0],\n [['yummy', 'babe', 'nice', 'jolt', 'suzy'], 0],\n [['sweet', 'dreams'], 0],\n [['much', 'buzy'], 0],\n [['hide', 'anythiing', 'keeping', 'distance'], 0],\n [['waiting', 'letter'], 0],\n [['feeling', 'sleepy', 'today', 'shall', 'dear'], 0],\n [['walked',\n   'moms',\n   'right',\n   'stagwood',\n   'pass',\n   'right',\n   'winterstone',\n   'left',\n   'victors',\n   'hill',\n   'address',\n   'ltgt'],\n  0],\n [['want', 'please', 'inside', 'outside', 'bedroom'], 0],\n [['lover', 'need'], 0],\n [['night', 'going', 'swing'], 0],\n [['haha', 'thinkin'], 0],\n [['aight', 'lemme', 'know', 'whats'], 0],\n [['meeting', 'point'], 0],\n [['like', 'talk', 'able', 'dont', 'know'], 0],\n [['hello',\n   'baby',\n   'back',\n   'moms',\n   'setting',\n   'computer',\n   'filling',\n   'belly',\n   'goes',\n   'loverboy',\n   'miss',\n   'already',\n   'sighs'],\n  0],\n [['hope', 'said', 'would', 'text', 'hasnt', 'seen', 'gently', 'please'], 0],\n [['problem'], 0],\n [[], 0],\n [['studying', 'surfing', 'lazy', 'mode', 'today'], 0],\n [['room'], 0],\n [['class', 'class'], 0],\n [['party',\n   'days',\n   'week',\n   'study',\n   'lightly',\n   'think',\n   'need',\n   'draw',\n   'custom',\n   'checkboxes',\n   'know',\n   'hardcore'],\n  0],\n [['later', 'call'], 0],\n [['picked',\n   'flower',\n   'dippeditinadew',\n   'lovingly',\n   'touched',\n   'itwhichturnedinto',\n   'gifted',\n   'tomeandsaidthis',\n   'friend'],\n  0],\n [['theyre', 'lots', 'places', 'hospitals', 'medical', 'places', 'safe'], 0],\n [['hmmmbut', 'give'], 0],\n [['remain', 'unconvinced', 'isnt', 'elaborate', 'test', 'willpower'], 0],\n [['hello', 'darlin', 'finished', 'college', 'finish', 'love', 'kate'], 0],\n [['mostly', 'sports', 'typelyk', 'footblcrckt'], 0],\n [['auntie', 'huai', 'juan', 'never', 'pick', 'phone'], 0],\n [['like', 'spoiled'], 0],\n [['dear', 'look', 'hugging'], 0],\n [['good', 'morning', 'princess'], 0],\n [['great', 'aunts', 'anniversary', 'party', 'tarpon', 'springs'], 0],\n [['feel',\n   'like',\n   'dick',\n   'keep',\n   'sleeping',\n   'texts',\n   'facebook',\n   'messages',\n   'town'],\n  0],\n [['honey',\n   'find',\n   'much',\n   'sell',\n   'predicte',\n   'nigeria',\n   'many',\n   'times',\n   'used',\n   'important',\n   'reply',\n   'monday'],\n  0],\n [['rumour', 'going', 'apartment', 'chennai'], 0],\n [['aiyah', 'already', 'nydc', 'wheellock'], 0],\n [['stuck', 'middle', 'right', 'hand', 'side'], 0],\n [['evry',\n   'emotion',\n   'dsnt',\n   'wordsevry',\n   'wish',\n   'dsnt',\n   'prayrs',\n   'smiled',\n   'world',\n   'uothrwise',\n   'even',\n   'drop',\n   'tear',\n   'dsnt',\n   'stay',\n   'happy',\n   'good',\n   'morning',\n   'keep',\n   'smiling'],\n  0],\n [['wonder', 'youll', 'text'], 0],\n [['give', 'prometazine', 'syrup', '5mls', 'ltgt', 'mins', 'later', 'feed'],\n  0],\n [['thanx', 'sending', 'home'], 0],\n [['drop', 'tank'], 0],\n [['chase', 'shes', 'crossing', 'street'], 0],\n [['never',\n   'realized',\n   'embarassed',\n   'accomodations',\n   'thought',\n   'liked',\n   'since',\n   'best',\n   'could',\n   'always',\n   'seemed',\n   'happy',\n   'cave',\n   'sorry',\n   'didnt',\n   'dont',\n   'give',\n   'sorry',\n   'offered',\n   'sorry',\n   'room',\n   'embarassing'],\n  0],\n [['dude',\n   'avatar',\n   'point',\n   'thought',\n   'actually',\n   'flies',\n   'room',\n   'almost',\n   'tried',\n   'hittng',\n   'reflex'],\n  0],\n [['gotta'], 0],\n [['bold', 'ltgt'], 0],\n [['kkthis', 'month', 'kotees', 'birthday', 'know'], 0],\n [['hidid', 'asked', 'waheeda', 'fathima', 'leave'], 0],\n [['detroit', 'home', 'snow', 'enjoy'], 0],\n [['send', 'email', 'mind', 'ltgt', 'times', 'night'], 0],\n [['thought', 'thanks'], 0],\n [['asked', 'call'], 0],\n [['dont',\n   'look',\n   'back',\n   'building',\n   'coat',\n   'dont',\n   'want',\n   'sick',\n   'hurry',\n   'home',\n   'wear',\n   'coat'],\n  0],\n [['dude',\n   'makin',\n   'weirdy',\n   'brownies',\n   'sister',\n   'made',\n   'awesome',\n   'cookies',\n   'took',\n   'pics'],\n  0],\n [['probably', 'gonna', 'later', 'tonight'], 0],\n [['aint',\n   'answerin',\n   'phone',\n   'actually',\n   'pretty',\n   'reasonable',\n   'hour',\n   'sleepy'],\n  0],\n [['aight', 'well', 'head'], 0],\n [['kindly', 'send', 'flat', 'ltdecimalgt', 'today'], 0],\n [['anything'], 0],\n [['wake'], 0],\n [['sure', 'check', 'yahoo', 'email', 'sent', 'photos', 'yesterday'], 0],\n [['send', 'number'], 0],\n [['pick', 'bout', '730ish', 'time', 'going'], 0],\n [['ooooooh', 'forgot', 'tell', 'yoville', 'phone'], 0],\n [['finish', 'already', 'keep', 'saying', 'mushy', 'embarrassed'], 0],\n [['sfirst', 'timedhoni', 'rocks'], 0],\n [['happy', 'birthday', 'find', 'prince', 'charming', 'soon', 'work', 'hard'],\n  0],\n [['yagoing', 'restaurant'], 0],\n [['wants', 'talk'], 0],\n [['press', 'conference'], 0],\n [['mathews', 'tait', 'edwards', 'anderson'], 0],\n [['aiyar', 'disturb', 'liao', 'lots', 'cupboard', 'come'], 0],\n [['miles',\n   'smiles',\n   'made',\n   'letters',\n   'know',\n   'difference',\n   'smile',\n   'face',\n   'keeps',\n   'happy',\n   'even',\n   'though',\n   'miles',\n   'away',\n   'keep',\n   'smiling',\n   'good'],\n  0],\n [['hello',\n   'boytoy',\n   'geeee',\n   'missing',\n   'today',\n   'like',\n   'send',\n   'remind',\n   'thinking',\n   'loved',\n   'loving',\n   'kiss'],\n  0],\n [['meet',\n   'town',\n   'home',\n   'could',\n   'text',\n   'stop',\n   'dont',\n   'worry',\n   'well',\n   'finished',\n   'march'],\n  0],\n [['posted', 'facebook'], 0],\n [['sleep', 'early', 'nite'], 0],\n [['shall', 'book', 'chez', 'jules', 'half', 'eight', 'thats'], 0],\n [[], 0],\n [['sleepingand', 'surfing'], 0],\n [['hiding', 'stranger'], 0],\n [['search',\n   'happiness',\n   'main',\n   'sources',\n   'unhappiness',\n   'accept',\n   'life',\n   'comes',\n   'find',\n   'happiness',\n   'every',\n   'moment',\n   'live'],\n  0],\n [['prasanth',\n   'ettans',\n   'mother',\n   'passed',\n   'away',\n   'last',\n   'night',\n   'pray',\n   'family'],\n  0],\n [['tomarrow', 'final', 'hearing', 'laptop', 'case', 'cant'], 0],\n [['thgt', 'clash', 'really', 'mind', 'seen', 'lost', 'weight'], 0],\n [['willing', 'aptitude', 'class'], 0],\n ...]"
     },
     "execution_count": 41,
     "metadata": {},
     "output_type": "execute_result"
    }
   ]
  },
  {
   "cell_type": "markdown",
   "source": [
    "Своя реализация"
   ],
   "metadata": {
    "id": "NJ08yHmNFPND"
   }
  },
  {
   "cell_type": "code",
   "source": [
    "import numpy as np\n",
    "import pickle\n",
    "\n",
    "class NaiveBayesClf:\n",
    "    \n",
    "    def __init__(self, alpha=0.01):\n",
    "        self.classes = {}\n",
    "        self.freq = {}\n",
    "        self.total_in_class = {}\n",
    "        self.total = set()\n",
    "        self.alpha = alpha\n",
    "    \n",
    "    def fit(self, dataset):\n",
    "        self.dataset = dataset\n",
    "        for features, label in self.dataset:\n",
    "            if label not in self.classes:\n",
    "                self.classes[label] = 0\n",
    "                self.total_in_class[label] = 0\n",
    "            self.classes[label] += 1\n",
    "            for feature in features:\n",
    "                if (feature, label) not in self.freq:\n",
    "                    self.freq[(feature, label)] = 0\n",
    "                self.freq[(feature, label)] += 1\n",
    "                self.total_in_class[label] += 1\n",
    "                self.total.add(feature)\n",
    "    \n",
    "        for feature, label in self.freq:\n",
    "            self.freq[(feature, label)] = (self.alpha + self.freq[(feature, label)])/(self.alpha*len(self.total) + self.total_in_class[label])\n",
    "        for cls in self.classes:\n",
    "            self.classes[cls] /= len(self.dataset)\n",
    "        return self\n",
    "        \n",
    "\n",
    "    def predict(self, features):\n",
    "        return max(self.classes.keys(), \n",
    "                   key = lambda cls: np.log10(self.classes[cls]) + \\\n",
    "                   sum(np.log10(self.freq.get((feature, cls), self.alpha/(self.alpha*len(self.total)+self.total_in_class[cls])))\\\n",
    "                                                                             for feature in features))\n",
    "    \n",
    "    def save(self,path:str):\n",
    "        dump = {\n",
    "            'classes':self.classes,\n",
    "            'freq':self.freq,\n",
    "            'total_in_class':self.total_in_class,\n",
    "            'total':self.total,\n",
    "            'alpha':self.alpha\n",
    "        }\n",
    "        with open(path, 'wb') as f:\n",
    "            pickle.dump(dump, f)\n",
    "            \n",
    "    def load(self, path:str):\n",
    "\n",
    "        with open(path, 'rb') as f:\n",
    "            dump = pickle.load(f)\n",
    "        self.classes = dump['classes']\n",
    "        self.freq = dump['freq']\n",
    "        self.total_in_class = dump['total_in_class']\n",
    "        self.total = dump['total']\n",
    "        self.alpha = dump['alpha']\n",
    "        return self"
   ],
   "metadata": {
    "id": "P5X06fBp26OS",
    "ExecuteTime": {
     "start_time": "2023-04-23T12:21:45.123442Z",
     "end_time": "2023-04-23T12:21:45.132842Z"
    }
   },
   "execution_count": 16,
   "outputs": []
  },
  {
   "cell_type": "code",
   "source": [
    "model = NaiveBayesClf(alpha=1).fit(train_dataset)"
   ],
   "metadata": {
    "id": "qwoiwRzx3PJ8",
    "ExecuteTime": {
     "start_time": "2023-04-23T12:21:45.696726Z",
     "end_time": "2023-04-23T12:21:45.710874Z"
    }
   },
   "execution_count": 17,
   "outputs": []
  },
  {
   "cell_type": "code",
   "source": [
    "train_preds = []\n",
    "for item in X_train:\n",
    "  train_preds += [model.predict(item.split())]\n",
    "train_preds = np.array(train_preds)"
   ],
   "metadata": {
    "id": "0a2gbtpt39Yy",
    "ExecuteTime": {
     "start_time": "2023-04-23T12:21:46.396624Z",
     "end_time": "2023-04-23T12:21:46.463093Z"
    }
   },
   "execution_count": 18,
   "outputs": []
  },
  {
   "cell_type": "code",
   "source": [
    "test_preds = []\n",
    "for item in X_test:\n",
    "  test_preds += [model.predict(item.split())]\n",
    "test_preds = np.array(test_preds)"
   ],
   "metadata": {
    "id": "urAtDeRM5BXy",
    "ExecuteTime": {
     "start_time": "2023-04-23T12:21:46.948304Z",
     "end_time": "2023-04-23T12:21:46.963732Z"
    }
   },
   "execution_count": 19,
   "outputs": []
  },
  {
   "cell_type": "code",
   "source": [
    "print(\"Точность на обучающей выборке: \" + str(accuracy_score(y_train, train_preds)))\n",
    "print(\"Точность на тестовой выборке: \" + str(accuracy_score(y_test, test_preds)))"
   ],
   "metadata": {
    "colab": {
     "base_uri": "https://localhost:8080/"
    },
    "id": "byEq2EdTDggb",
    "outputId": "73a09704-1f09-4a53-d09b-3510087c088b"
   },
   "execution_count": 20,
   "outputs": [
    {
     "ename": "NameError",
     "evalue": "name 'accuracy_score' is not defined",
     "output_type": "error",
     "traceback": [
      "\u001B[1;31m---------------------------------------------------------------------------\u001B[0m",
      "\u001B[1;31mNameError\u001B[0m                                 Traceback (most recent call last)",
      "Cell \u001B[1;32mIn[20], line 1\u001B[0m\n\u001B[1;32m----> 1\u001B[0m \u001B[38;5;28mprint\u001B[39m(\u001B[38;5;124m\"\u001B[39m\u001B[38;5;124mТочность на обучающей выборке: \u001B[39m\u001B[38;5;124m\"\u001B[39m \u001B[38;5;241m+\u001B[39m \u001B[38;5;28mstr\u001B[39m(\u001B[43maccuracy_score\u001B[49m(y_train, train_preds)))\n\u001B[0;32m      2\u001B[0m \u001B[38;5;28mprint\u001B[39m(\u001B[38;5;124m\"\u001B[39m\u001B[38;5;124mТочность на тестовой выборке: \u001B[39m\u001B[38;5;124m\"\u001B[39m \u001B[38;5;241m+\u001B[39m \u001B[38;5;28mstr\u001B[39m(accuracy_score(y_test, test_preds)))\n",
      "\u001B[1;31mNameError\u001B[0m: name 'accuracy_score' is not defined"
     ]
    }
   ]
  },
  {
   "cell_type": "code",
   "source": [
    "print(classification_report(y_train, train_preds))"
   ],
   "metadata": {
    "colab": {
     "base_uri": "https://localhost:8080/"
    },
    "id": "g3K7jh73FChZ",
    "outputId": "278dc98b-7592-451e-b725-9d5977bd1ff7"
   },
   "execution_count": null,
   "outputs": [
    {
     "output_type": "stream",
     "name": "stdout",
     "text": [
      "              precision    recall  f1-score   support\n",
      "\n",
      "           0       1.00      0.96      0.98      3859\n",
      "           1       0.79      0.97      0.87       598\n",
      "\n",
      "    accuracy                           0.96      4457\n",
      "   macro avg       0.89      0.97      0.93      4457\n",
      "weighted avg       0.97      0.96      0.96      4457\n",
      "\n"
     ]
    }
   ]
  },
  {
   "cell_type": "code",
   "source": [
    "print(classification_report(y_test, test_preds))"
   ],
   "metadata": {
    "id": "6-kFAHusFrIO",
    "outputId": "25732bce-072f-4e79-eb45-076ae8bfd932",
    "colab": {
     "base_uri": "https://localhost:8080/"
    }
   },
   "execution_count": null,
   "outputs": [
    {
     "output_type": "stream",
     "name": "stdout",
     "text": [
      "              precision    recall  f1-score   support\n",
      "\n",
      "           0       0.99      0.91      0.95       966\n",
      "           1       0.62      0.97      0.75       149\n",
      "\n",
      "    accuracy                           0.92      1115\n",
      "   macro avg       0.81      0.94      0.85      1115\n",
      "weighted avg       0.94      0.92      0.92      1115\n",
      "\n"
     ]
    }
   ]
  },
  {
   "cell_type": "markdown",
   "source": [
    "Проверим на реализции из sklearn"
   ],
   "metadata": {
    "id": "5yTNh-FqEfMf"
   }
  },
  {
   "cell_type": "code",
   "source": [
    "from sklearn.feature_extraction.text import CountVectorizer\n",
    "from sklearn.naive_bayes import MultinomialNB \n",
    "from sklearn.metrics import accuracy_score, confusion_matrix, classification_report\n",
    "\n",
    "vect = CountVectorizer()              \n",
    "vect.fit(X_train)\n",
    "X_train_dtm = vect.transform(X_train)\n",
    "X_test_dtm = vect.transform(X_test) \n",
    "\n",
    "nb = MultinomialNB() \n",
    "nb.fit(X_train_dtm, y_train) \n",
    "\n",
    "y_pred_train = nb.predict(X_train_dtm)\n",
    "print(\"Точность на обучающей выборке: \" + str(accuracy_score(y_train, y_pred_train)))\n",
    "\n",
    "y_pred_test = nb.predict(X_test_dtm)\n",
    "print(\"Точность на тестовой выборке: \" + str(accuracy_score(y_test, y_pred_test)))"
   ],
   "metadata": {
    "colab": {
     "base_uri": "https://localhost:8080/"
    },
    "id": "q1y2FWwkDDWx",
    "outputId": "7c118dcb-89f1-4f1e-d345-03ea342e43f2"
   },
   "execution_count": null,
   "outputs": [
    {
     "output_type": "stream",
     "name": "stdout",
     "text": [
      "Точность на обучающей выборке: 0.9930446488669509\n",
      "Точность на тестовой выборке: 0.9802690582959641\n"
     ]
    }
   ]
  },
  {
   "cell_type": "code",
   "source": [
    "print(classification_report(y_train, y_pred_train))"
   ],
   "metadata": {
    "colab": {
     "base_uri": "https://localhost:8080/"
    },
    "id": "ETtDX3sFEIGw",
    "outputId": "fdbd892a-9e4d-4319-b4d4-af7a0f5e806a"
   },
   "execution_count": null,
   "outputs": [
    {
     "output_type": "stream",
     "name": "stdout",
     "text": [
      "              precision    recall  f1-score   support\n",
      "\n",
      "           0       1.00      1.00      1.00      3859\n",
      "           1       0.97      0.97      0.97       598\n",
      "\n",
      "    accuracy                           0.99      4457\n",
      "   macro avg       0.98      0.99      0.99      4457\n",
      "weighted avg       0.99      0.99      0.99      4457\n",
      "\n"
     ]
    }
   ]
  },
  {
   "cell_type": "code",
   "source": [
    "print(classification_report(y_test, y_pred_test))"
   ],
   "metadata": {
    "colab": {
     "base_uri": "https://localhost:8080/"
    },
    "id": "KQY2RiPDFXgm",
    "outputId": "e6961c6a-b1f0-413d-f1a6-9418d9077c5f"
   },
   "execution_count": null,
   "outputs": [
    {
     "output_type": "stream",
     "name": "stdout",
     "text": [
      "              precision    recall  f1-score   support\n",
      "\n",
      "           0       0.98      1.00      0.99       966\n",
      "           1       0.97      0.88      0.92       149\n",
      "\n",
      "    accuracy                           0.98      1115\n",
      "   macro avg       0.98      0.94      0.96      1115\n",
      "weighted avg       0.98      0.98      0.98      1115\n",
      "\n"
     ]
    }
   ]
  }
 ]
}
