{
 "cells": [
  {
   "cell_type": "code",
   "execution_count": 14,
   "metadata": {
    "ExecuteTime": {
     "end_time": "2023-04-23T14:56:31.696172Z",
     "start_time": "2023-04-23T14:56:31.694274Z"
    },
    "collapsed": false
   },
   "outputs": [
    {
     "name": "stderr",
     "output_type": "stream",
     "text": [
      "[nltk_data] Downloading package stopwords to\n",
      "[nltk_data]     C:\\Users\\vital\\AppData\\Roaming\\nltk_data...\n",
      "[nltk_data]   Package stopwords is already up-to-date!\n"
     ]
    }
   ],
   "source": [
    "import pandas as pd\n",
    "import numpy as np\n",
    "from sklearn.model_selection import train_test_split\n",
    "import nltk.corpus\n",
    "nltk.download('stopwords')\n",
    "from nltk.corpus import stopwords\n",
    "import re\n",
    "from sklearn.metrics import accuracy_score, classification_report"
   ]
  },
  {
   "cell_type": "code",
   "execution_count": 15,
   "metadata": {
    "ExecuteTime": {
     "end_time": "2023-04-23T14:56:32.026956Z",
     "start_time": "2023-04-23T14:56:32.008357Z"
    },
    "collapsed": false
   },
   "outputs": [
    {
     "data": {
      "text/html": [
       "<div>\n",
       "<style scoped>\n",
       "    .dataframe tbody tr th:only-of-type {\n",
       "        vertical-align: middle;\n",
       "    }\n",
       "\n",
       "    .dataframe tbody tr th {\n",
       "        vertical-align: top;\n",
       "    }\n",
       "\n",
       "    .dataframe thead th {\n",
       "        text-align: right;\n",
       "    }\n",
       "</style>\n",
       "<table border=\"1\" class=\"dataframe\">\n",
       "  <thead>\n",
       "    <tr style=\"text-align: right;\">\n",
       "      <th></th>\n",
       "      <th>v1</th>\n",
       "      <th>v2</th>\n",
       "    </tr>\n",
       "  </thead>\n",
       "  <tbody>\n",
       "    <tr>\n",
       "      <th>0</th>\n",
       "      <td>ham</td>\n",
       "      <td>Go until jurong point, crazy.. Available only ...</td>\n",
       "    </tr>\n",
       "    <tr>\n",
       "      <th>1</th>\n",
       "      <td>ham</td>\n",
       "      <td>Ok lar... Joking wif u oni...</td>\n",
       "    </tr>\n",
       "    <tr>\n",
       "      <th>2</th>\n",
       "      <td>spam</td>\n",
       "      <td>Free entry in 2 a wkly comp to win FA Cup fina...</td>\n",
       "    </tr>\n",
       "    <tr>\n",
       "      <th>3</th>\n",
       "      <td>ham</td>\n",
       "      <td>U dun say so early hor... U c already then say...</td>\n",
       "    </tr>\n",
       "    <tr>\n",
       "      <th>4</th>\n",
       "      <td>ham</td>\n",
       "      <td>Nah I don't think he goes to usf, he lives aro...</td>\n",
       "    </tr>\n",
       "    <tr>\n",
       "      <th>...</th>\n",
       "      <td>...</td>\n",
       "      <td>...</td>\n",
       "    </tr>\n",
       "    <tr>\n",
       "      <th>5567</th>\n",
       "      <td>spam</td>\n",
       "      <td>This is the 2nd time we have tried 2 contact u...</td>\n",
       "    </tr>\n",
       "    <tr>\n",
       "      <th>5568</th>\n",
       "      <td>ham</td>\n",
       "      <td>Will Ì_ b going to esplanade fr home?</td>\n",
       "    </tr>\n",
       "    <tr>\n",
       "      <th>5569</th>\n",
       "      <td>ham</td>\n",
       "      <td>Pity, * was in mood for that. So...any other s...</td>\n",
       "    </tr>\n",
       "    <tr>\n",
       "      <th>5570</th>\n",
       "      <td>ham</td>\n",
       "      <td>The guy did some bitching but I acted like i'd...</td>\n",
       "    </tr>\n",
       "    <tr>\n",
       "      <th>5571</th>\n",
       "      <td>ham</td>\n",
       "      <td>Rofl. Its true to its name</td>\n",
       "    </tr>\n",
       "  </tbody>\n",
       "</table>\n",
       "<p>5572 rows × 2 columns</p>\n",
       "</div>"
      ],
      "text/plain": [
       "        v1                                                 v2\n",
       "0      ham  Go until jurong point, crazy.. Available only ...\n",
       "1      ham                      Ok lar... Joking wif u oni...\n",
       "2     spam  Free entry in 2 a wkly comp to win FA Cup fina...\n",
       "3      ham  U dun say so early hor... U c already then say...\n",
       "4      ham  Nah I don't think he goes to usf, he lives aro...\n",
       "...    ...                                                ...\n",
       "5567  spam  This is the 2nd time we have tried 2 contact u...\n",
       "5568   ham              Will Ì_ b going to esplanade fr home?\n",
       "5569   ham  Pity, * was in mood for that. So...any other s...\n",
       "5570   ham  The guy did some bitching but I acted like i'd...\n",
       "5571   ham                         Rofl. Its true to its name\n",
       "\n",
       "[5572 rows x 2 columns]"
      ]
     },
     "execution_count": 15,
     "metadata": {},
     "output_type": "execute_result"
    }
   ],
   "source": [
    "# https://www.kaggle.com/datasets/uciml/sms-spam-collection-dataset\n",
    "data = pd.read_csv('spam.csv', encoding=\"ISO-8859-1\")[['v1', 'v2']]\n",
    "data"
   ]
  },
  {
   "cell_type": "code",
   "execution_count": 16,
   "metadata": {
    "ExecuteTime": {
     "end_time": "2023-04-23T14:56:32.559486Z",
     "start_time": "2023-04-23T14:56:32.516432Z"
    },
    "collapsed": false
   },
   "outputs": [],
   "source": [
    " # 0 - ham, 1 - spam\n",
    "data['class_code'] = data['v1'].apply(lambda x: int(x == 'spam'))\n",
    "bad_message = data.query('class_code == 1')['v2'].to_list()\n",
    "good_message = data.query('class_code == 0')['v2'].to_list()"
   ]
  },
  {
   "cell_type": "code",
   "execution_count": 17,
   "metadata": {
    "ExecuteTime": {
     "end_time": "2023-04-23T14:56:33.106298Z",
     "start_time": "2023-04-23T14:56:33.016290Z"
    },
    "collapsed": false
   },
   "outputs": [],
   "source": [
    "def clean_input_text(input_text):\n",
    "    input_text = input_text.lower()\n",
    "    bad_words = ['www', 'http', '@']\n",
    "    for b_w in bad_words:\n",
    "        input_text = \" \".join([word for word in input_text.split() if word.find(b_w) == -1])\n",
    "    input_text = re.sub(r'[^\\w\\s]', '', input_text)\n",
    "    stop_words = stopwords.words('english')\n",
    "    input_text = \" \".join([word for word in input_text.split() if word not in (stop_words)])\n",
    "    return input_text"
   ]
  },
  {
   "cell_type": "code",
   "execution_count": 18,
   "metadata": {
    "ExecuteTime": {
     "end_time": "2023-04-23T14:56:34.166377Z",
     "start_time": "2023-04-23T14:56:33.434227Z"
    },
    "collapsed": false
   },
   "outputs": [
    {
     "data": {
      "text/html": [
       "<div>\n",
       "<style scoped>\n",
       "    .dataframe tbody tr th:only-of-type {\n",
       "        vertical-align: middle;\n",
       "    }\n",
       "\n",
       "    .dataframe tbody tr th {\n",
       "        vertical-align: top;\n",
       "    }\n",
       "\n",
       "    .dataframe thead th {\n",
       "        text-align: right;\n",
       "    }\n",
       "</style>\n",
       "<table border=\"1\" class=\"dataframe\">\n",
       "  <thead>\n",
       "    <tr style=\"text-align: right;\">\n",
       "      <th></th>\n",
       "      <th>v1</th>\n",
       "      <th>v2</th>\n",
       "      <th>class_code</th>\n",
       "    </tr>\n",
       "  </thead>\n",
       "  <tbody>\n",
       "    <tr>\n",
       "      <th>0</th>\n",
       "      <td>ham</td>\n",
       "      <td>go jurong point crazy available bugis n great ...</td>\n",
       "      <td>0</td>\n",
       "    </tr>\n",
       "    <tr>\n",
       "      <th>1</th>\n",
       "      <td>ham</td>\n",
       "      <td>ok lar joking wif u oni</td>\n",
       "      <td>0</td>\n",
       "    </tr>\n",
       "    <tr>\n",
       "      <th>2</th>\n",
       "      <td>spam</td>\n",
       "      <td>free entry 2 wkly comp win fa cup final tkts 2...</td>\n",
       "      <td>1</td>\n",
       "    </tr>\n",
       "    <tr>\n",
       "      <th>3</th>\n",
       "      <td>ham</td>\n",
       "      <td>u dun say early hor u c already say</td>\n",
       "      <td>0</td>\n",
       "    </tr>\n",
       "    <tr>\n",
       "      <th>4</th>\n",
       "      <td>ham</td>\n",
       "      <td>nah dont think goes usf lives around though</td>\n",
       "      <td>0</td>\n",
       "    </tr>\n",
       "    <tr>\n",
       "      <th>...</th>\n",
       "      <td>...</td>\n",
       "      <td>...</td>\n",
       "      <td>...</td>\n",
       "    </tr>\n",
       "    <tr>\n",
       "      <th>5567</th>\n",
       "      <td>spam</td>\n",
       "      <td>2nd time tried 2 contact u u å750 pound prize ...</td>\n",
       "      <td>1</td>\n",
       "    </tr>\n",
       "    <tr>\n",
       "      <th>5568</th>\n",
       "      <td>ham</td>\n",
       "      <td>ì_ b going esplanade fr home</td>\n",
       "      <td>0</td>\n",
       "    </tr>\n",
       "    <tr>\n",
       "      <th>5569</th>\n",
       "      <td>ham</td>\n",
       "      <td>pity mood soany suggestions</td>\n",
       "      <td>0</td>\n",
       "    </tr>\n",
       "    <tr>\n",
       "      <th>5570</th>\n",
       "      <td>ham</td>\n",
       "      <td>guy bitching acted like id interested buying s...</td>\n",
       "      <td>0</td>\n",
       "    </tr>\n",
       "    <tr>\n",
       "      <th>5571</th>\n",
       "      <td>ham</td>\n",
       "      <td>rofl true name</td>\n",
       "      <td>0</td>\n",
       "    </tr>\n",
       "  </tbody>\n",
       "</table>\n",
       "<p>5572 rows × 3 columns</p>\n",
       "</div>"
      ],
      "text/plain": [
       "        v1                                                 v2  class_code\n",
       "0      ham  go jurong point crazy available bugis n great ...           0\n",
       "1      ham                            ok lar joking wif u oni           0\n",
       "2     spam  free entry 2 wkly comp win fa cup final tkts 2...           1\n",
       "3      ham                u dun say early hor u c already say           0\n",
       "4      ham        nah dont think goes usf lives around though           0\n",
       "...    ...                                                ...         ...\n",
       "5567  spam  2nd time tried 2 contact u u å750 pound prize ...           1\n",
       "5568   ham                       ì_ b going esplanade fr home           0\n",
       "5569   ham                        pity mood soany suggestions           0\n",
       "5570   ham  guy bitching acted like id interested buying s...           0\n",
       "5571   ham                                     rofl true name           0\n",
       "\n",
       "[5572 rows x 3 columns]"
      ]
     },
     "execution_count": 18,
     "metadata": {},
     "output_type": "execute_result"
    }
   ],
   "source": [
    "# Чистим сообщения от ссылок, знаков препинаний, стоп-слов\n",
    "data['v2'] = data['v2'].apply(clean_input_text)\n",
    "data"
   ]
  },
  {
   "cell_type": "code",
   "execution_count": 19,
   "metadata": {
    "ExecuteTime": {
     "end_time": "2023-04-23T14:56:34.173726Z",
     "start_time": "2023-04-23T14:56:34.166377Z"
    },
    "collapsed": false
   },
   "outputs": [],
   "source": [
    "X_train, X_test, y_train, y_test = train_test_split(data['v2'].values, data['class_code'].values, test_size=0.20, stratify=data['class_code'], random_state=42)"
   ]
  },
  {
   "cell_type": "code",
   "execution_count": 20,
   "metadata": {
    "ExecuteTime": {
     "end_time": "2023-04-23T14:56:34.749312Z",
     "start_time": "2023-04-23T14:56:34.742484Z"
    },
    "collapsed": false
   },
   "outputs": [],
   "source": [
    "def create_dataset(ham, spam):\n",
    "    dataset = []\n",
    "    word_len = 4\n",
    "    for text in ham:\n",
    "        text_split = text.split(sep=' ')\n",
    "        temp = []\n",
    "        for word in text_split:\n",
    "            if len(word) >= word_len:\n",
    "                temp += [word]\n",
    "        dataset.append([temp, 0])\n",
    "\n",
    "    for text in spam:\n",
    "        text_split = text.split(sep=' ')\n",
    "        temp = []\n",
    "        for word in text_split:\n",
    "            if len(word) >= word_len:\n",
    "                temp += [word]\n",
    "        dataset.append([temp, 1])\n",
    "    return dataset"
   ]
  },
  {
   "cell_type": "code",
   "execution_count": 21,
   "metadata": {
    "ExecuteTime": {
     "end_time": "2023-04-23T14:56:35.177566Z",
     "start_time": "2023-04-23T14:56:35.166037Z"
    },
    "collapsed": false
   },
   "outputs": [],
   "source": [
    "ham_train = X_train[y_train == 0]\n",
    "spam_train = X_train[y_train == 1]\n",
    "ham_test = X_test[y_test == 0]\n",
    "spam_test = X_test[y_test == 1]\n",
    "train_dataset = create_dataset(ham_train, spam_train)\n",
    "test_dataset = create_dataset(ham_test, spam_test)"
   ]
  },
  {
   "cell_type": "code",
   "execution_count": 22,
   "metadata": {
    "ExecuteTime": {
     "end_time": "2023-04-23T14:56:35.520624Z",
     "start_time": "2023-04-23T14:56:35.516056Z"
    },
    "collapsed": false
   },
   "outputs": [],
   "source": [
    "class NaiveBayesClassifier:\n",
    "\n",
    "    def __init__(self, alpha=1, dataset={}):\n",
    "        self.dataset = dataset\n",
    "        self.alpha = alpha\n",
    "        self.total = set()\n",
    "        self.classes = {}\n",
    "        self.total_in_class = {}\n",
    "        self.frequency = {}\n",
    "\n",
    "    def fit(self):\n",
    "        for items in self.dataset:\n",
    "            if items[1] not in self.classes:\n",
    "                self.classes[items[1]] = 0\n",
    "                self.total_in_class[items[1]] = 0\n",
    "            self.classes[items[1]] += 1\n",
    "            for item in items[0]:\n",
    "                if (item, items[1]) not in self.frequency:\n",
    "                    self.frequency[(item, items[1])] = 0\n",
    "                self.frequency[(item, items[1])] += 1\n",
    "                self.total_in_class[items[1]] += 1\n",
    "                self.total.add(item)\n",
    "\n",
    "        for items in self.frequency:\n",
    "            self.frequency[(items[0], items[1])] = (self.alpha + self.frequency[(items[0], items[1])])/(self.alpha*len(self.total) + self.total_in_class[items[1]])\n",
    "        for cls in self.classes:\n",
    "            self.classes[cls] /= len(self.dataset)\n",
    "        return self\n",
    "\n",
    "    def predict(self, items):\n",
    "        result = max(self.classes.keys(), key = lambda cls: np.log10(self.classes[cls]) + sum(np.log10(self.frequency.get((feature, cls), self.alpha/(self.alpha*len(self.total)+self.total_in_class[cls]))) for feature in items))\n",
    "        return result"
   ]
  },
  {
   "cell_type": "code",
   "execution_count": 23,
   "metadata": {
    "ExecuteTime": {
     "end_time": "2023-04-23T14:56:36.008208Z",
     "start_time": "2023-04-23T14:56:35.986062Z"
    },
    "collapsed": false
   },
   "outputs": [
    {
     "data": {
      "text/plain": [
       "<__main__.NaiveBayesClassifier at 0x280e5fefe50>"
      ]
     },
     "execution_count": 23,
     "metadata": {},
     "output_type": "execute_result"
    }
   ],
   "source": [
    "bayesModel = NaiveBayesClassifier(alpha=1, dataset=train_dataset)\n",
    "bayesModel.fit()"
   ]
  },
  {
   "cell_type": "code",
   "execution_count": 24,
   "metadata": {
    "ExecuteTime": {
     "end_time": "2023-04-23T14:56:36.374201Z",
     "start_time": "2023-04-23T14:56:36.339895Z"
    },
    "collapsed": false
   },
   "outputs": [],
   "source": [
    "train_predicts = []\n",
    "for x_train in X_train:\n",
    "  train_predicts.append(bayesModel.predict(x_train.split()))"
   ]
  },
  {
   "cell_type": "code",
   "execution_count": 25,
   "metadata": {
    "ExecuteTime": {
     "end_time": "2023-04-23T14:56:36.706207Z",
     "start_time": "2023-04-23T14:56:36.676604Z"
    },
    "collapsed": false
   },
   "outputs": [],
   "source": [
    "test_predicts = []\n",
    "for x_test in X_test:\n",
    "  test_predicts.append(bayesModel.predict(x_test.split()))"
   ]
  },
  {
   "cell_type": "code",
   "execution_count": 26,
   "metadata": {
    "ExecuteTime": {
     "end_time": "2023-04-23T14:56:37.116083Z",
     "start_time": "2023-04-23T14:56:37.096593Z"
    },
    "collapsed": false
   },
   "outputs": [
    {
     "name": "stdout",
     "output_type": "stream",
     "text": [
      "Training accuracy: 0.9611846533542742\n",
      "Test accuracy: 0.915695067264574\n",
      "              precision    recall  f1-score   support\n",
      "\n",
      "           0       1.00      0.96      0.98      3859\n",
      "           1       0.79      0.97      0.87       598\n",
      "\n",
      "    accuracy                           0.96      4457\n",
      "   macro avg       0.89      0.97      0.92      4457\n",
      "weighted avg       0.97      0.96      0.96      4457\n",
      "\n",
      "              precision    recall  f1-score   support\n",
      "\n",
      "           0       0.99      0.91      0.95       966\n",
      "           1       0.62      0.97      0.75       149\n",
      "\n",
      "    accuracy                           0.92      1115\n",
      "   macro avg       0.81      0.94      0.85      1115\n",
      "weighted avg       0.94      0.92      0.92      1115\n",
      "\n"
     ]
    }
   ],
   "source": [
    "print(f\"Training accuracy: {accuracy_score(y_train, train_predicts)}\")\n",
    "print(f\"Test accuracy: {accuracy_score(y_test, test_predicts)}\")\n",
    "print(classification_report(y_train, train_predicts))\n",
    "print(classification_report(y_test, test_predicts))"
   ]
  }
 ],
 "metadata": {
  "kernelspec": {
   "display_name": "Python 3",
   "language": "python",
   "name": "python3"
  },
  "language_info": {
   "codemirror_mode": {
    "name": "ipython",
    "version": 3
   },
   "file_extension": ".py",
   "mimetype": "text/x-python",
   "name": "python",
   "nbconvert_exporter": "python",
   "pygments_lexer": "ipython3",
   "version": "3.11.3"
  }
 },
 "nbformat": 4,
 "nbformat_minor": 0
}
