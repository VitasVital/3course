{
 "cells": [
  {
   "cell_type": "code",
   "execution_count": 78,
   "outputs": [
    {
     "name": "stderr",
     "output_type": "stream",
     "text": [
      "[nltk_data] Downloading package stopwords to\n",
      "[nltk_data]     C:\\Users\\vital\\AppData\\Roaming\\nltk_data...\n",
      "[nltk_data]   Package stopwords is already up-to-date!\n"
     ]
    }
   ],
   "source": [
    "import pandas as pd\n",
    "import numpy as np\n",
    "from sklearn.model_selection import train_test_split\n",
    "import nltk.corpus\n",
    "nltk.download('stopwords')\n",
    "from nltk.corpus import stopwords\n",
    "import re\n",
    "from sklearn.metrics import accuracy_score, classification_report"
   ],
   "metadata": {
    "collapsed": false,
    "ExecuteTime": {
     "start_time": "2023-04-23T14:56:31.694274Z",
     "end_time": "2023-04-23T14:56:31.696172Z"
    }
   }
  },
  {
   "cell_type": "code",
   "execution_count": 79,
   "outputs": [
    {
     "data": {
      "text/plain": "        v1                                                 v2\n0      ham  Go until jurong point, crazy.. Available only ...\n1      ham                      Ok lar... Joking wif u oni...\n2     spam  Free entry in 2 a wkly comp to win FA Cup fina...\n3      ham  U dun say so early hor... U c already then say...\n4      ham  Nah I don't think he goes to usf, he lives aro...\n...    ...                                                ...\n5567  spam  This is the 2nd time we have tried 2 contact u...\n5568   ham              Will Ì_ b going to esplanade fr home?\n5569   ham  Pity, * was in mood for that. So...any other s...\n5570   ham  The guy did some bitching but I acted like i'd...\n5571   ham                         Rofl. Its true to its name\n\n[5572 rows x 2 columns]",
      "text/html": "<div>\n<style scoped>\n    .dataframe tbody tr th:only-of-type {\n        vertical-align: middle;\n    }\n\n    .dataframe tbody tr th {\n        vertical-align: top;\n    }\n\n    .dataframe thead th {\n        text-align: right;\n    }\n</style>\n<table border=\"1\" class=\"dataframe\">\n  <thead>\n    <tr style=\"text-align: right;\">\n      <th></th>\n      <th>v1</th>\n      <th>v2</th>\n    </tr>\n  </thead>\n  <tbody>\n    <tr>\n      <th>0</th>\n      <td>ham</td>\n      <td>Go until jurong point, crazy.. Available only ...</td>\n    </tr>\n    <tr>\n      <th>1</th>\n      <td>ham</td>\n      <td>Ok lar... Joking wif u oni...</td>\n    </tr>\n    <tr>\n      <th>2</th>\n      <td>spam</td>\n      <td>Free entry in 2 a wkly comp to win FA Cup fina...</td>\n    </tr>\n    <tr>\n      <th>3</th>\n      <td>ham</td>\n      <td>U dun say so early hor... U c already then say...</td>\n    </tr>\n    <tr>\n      <th>4</th>\n      <td>ham</td>\n      <td>Nah I don't think he goes to usf, he lives aro...</td>\n    </tr>\n    <tr>\n      <th>...</th>\n      <td>...</td>\n      <td>...</td>\n    </tr>\n    <tr>\n      <th>5567</th>\n      <td>spam</td>\n      <td>This is the 2nd time we have tried 2 contact u...</td>\n    </tr>\n    <tr>\n      <th>5568</th>\n      <td>ham</td>\n      <td>Will Ì_ b going to esplanade fr home?</td>\n    </tr>\n    <tr>\n      <th>5569</th>\n      <td>ham</td>\n      <td>Pity, * was in mood for that. So...any other s...</td>\n    </tr>\n    <tr>\n      <th>5570</th>\n      <td>ham</td>\n      <td>The guy did some bitching but I acted like i'd...</td>\n    </tr>\n    <tr>\n      <th>5571</th>\n      <td>ham</td>\n      <td>Rofl. Its true to its name</td>\n    </tr>\n  </tbody>\n</table>\n<p>5572 rows × 2 columns</p>\n</div>"
     },
     "execution_count": 79,
     "metadata": {},
     "output_type": "execute_result"
    }
   ],
   "source": [
    "# https://www.kaggle.com/datasets/uciml/sms-spam-collection-dataset\n",
    "data = pd.read_csv('spam.csv', encoding=\"ISO-8859-1\")[['v1', 'v2']]\n",
    "data"
   ],
   "metadata": {
    "collapsed": false,
    "ExecuteTime": {
     "start_time": "2023-04-23T14:56:32.008357Z",
     "end_time": "2023-04-23T14:56:32.026956Z"
    }
   }
  },
  {
   "cell_type": "code",
   "execution_count": 80,
   "outputs": [],
   "source": [
    " # 0 - ham, 1 - spam\n",
    "data['class_code'] = data['v1'].apply(lambda x: int(x == 'spam'))\n",
    "bad_message = data.query('class_code == 1')['v2'].to_list()\n",
    "good_message = data.query('class_code == 0')['v2'].to_list()"
   ],
   "metadata": {
    "collapsed": false,
    "ExecuteTime": {
     "start_time": "2023-04-23T14:56:32.516432Z",
     "end_time": "2023-04-23T14:56:32.559486Z"
    }
   }
  },
  {
   "cell_type": "code",
   "execution_count": 81,
   "outputs": [],
   "source": [
    "def clean_input_text(input_text):\n",
    "    input_text = input_text.lower()\n",
    "    bad_words = ['www', 'http', '@']\n",
    "    for b_w in bad_words:\n",
    "        input_text = \" \".join([word for word in input_text.split() if word.find(b_w) == -1])\n",
    "    input_text = re.sub(r'[^\\w\\s]', '', input_text)\n",
    "    stop_words = stopwords.words('english')\n",
    "    input_text = \" \".join([word for word in input_text.split() if word not in (stop_words)])\n",
    "    return input_text"
   ],
   "metadata": {
    "collapsed": false,
    "ExecuteTime": {
     "start_time": "2023-04-23T14:56:33.016290Z",
     "end_time": "2023-04-23T14:56:33.106298Z"
    }
   }
  },
  {
   "cell_type": "code",
   "execution_count": 82,
   "outputs": [
    {
     "data": {
      "text/plain": "        v1                                                 v2  class_code\n0      ham  go jurong point crazy available bugis n great ...           0\n1      ham                            ok lar joking wif u oni           0\n2     spam  free entry 2 wkly comp win fa cup final tkts 2...           1\n3      ham                u dun say early hor u c already say           0\n4      ham        nah dont think goes usf lives around though           0\n...    ...                                                ...         ...\n5567  spam  2nd time tried 2 contact u u å750 pound prize ...           1\n5568   ham                       ì_ b going esplanade fr home           0\n5569   ham                        pity mood soany suggestions           0\n5570   ham  guy bitching acted like id interested buying s...           0\n5571   ham                                     rofl true name           0\n\n[5572 rows x 3 columns]",
      "text/html": "<div>\n<style scoped>\n    .dataframe tbody tr th:only-of-type {\n        vertical-align: middle;\n    }\n\n    .dataframe tbody tr th {\n        vertical-align: top;\n    }\n\n    .dataframe thead th {\n        text-align: right;\n    }\n</style>\n<table border=\"1\" class=\"dataframe\">\n  <thead>\n    <tr style=\"text-align: right;\">\n      <th></th>\n      <th>v1</th>\n      <th>v2</th>\n      <th>class_code</th>\n    </tr>\n  </thead>\n  <tbody>\n    <tr>\n      <th>0</th>\n      <td>ham</td>\n      <td>go jurong point crazy available bugis n great ...</td>\n      <td>0</td>\n    </tr>\n    <tr>\n      <th>1</th>\n      <td>ham</td>\n      <td>ok lar joking wif u oni</td>\n      <td>0</td>\n    </tr>\n    <tr>\n      <th>2</th>\n      <td>spam</td>\n      <td>free entry 2 wkly comp win fa cup final tkts 2...</td>\n      <td>1</td>\n    </tr>\n    <tr>\n      <th>3</th>\n      <td>ham</td>\n      <td>u dun say early hor u c already say</td>\n      <td>0</td>\n    </tr>\n    <tr>\n      <th>4</th>\n      <td>ham</td>\n      <td>nah dont think goes usf lives around though</td>\n      <td>0</td>\n    </tr>\n    <tr>\n      <th>...</th>\n      <td>...</td>\n      <td>...</td>\n      <td>...</td>\n    </tr>\n    <tr>\n      <th>5567</th>\n      <td>spam</td>\n      <td>2nd time tried 2 contact u u å750 pound prize ...</td>\n      <td>1</td>\n    </tr>\n    <tr>\n      <th>5568</th>\n      <td>ham</td>\n      <td>ì_ b going esplanade fr home</td>\n      <td>0</td>\n    </tr>\n    <tr>\n      <th>5569</th>\n      <td>ham</td>\n      <td>pity mood soany suggestions</td>\n      <td>0</td>\n    </tr>\n    <tr>\n      <th>5570</th>\n      <td>ham</td>\n      <td>guy bitching acted like id interested buying s...</td>\n      <td>0</td>\n    </tr>\n    <tr>\n      <th>5571</th>\n      <td>ham</td>\n      <td>rofl true name</td>\n      <td>0</td>\n    </tr>\n  </tbody>\n</table>\n<p>5572 rows × 3 columns</p>\n</div>"
     },
     "execution_count": 82,
     "metadata": {},
     "output_type": "execute_result"
    }
   ],
   "source": [
    "# Чистим сообщения от ссылок, знаков препинаний, стоп-слов\n",
    "data['v2'] = data['v2'].apply(clean_input_text)\n",
    "data"
   ],
   "metadata": {
    "collapsed": false,
    "ExecuteTime": {
     "start_time": "2023-04-23T14:56:33.434227Z",
     "end_time": "2023-04-23T14:56:34.166377Z"
    }
   }
  },
  {
   "cell_type": "code",
   "execution_count": 83,
   "outputs": [],
   "source": [
    "X_train, X_test, y_train, y_test = train_test_split(data['v2'].values, data['class_code'].values, test_size=0.20, stratify=data['class_code'], random_state=42)"
   ],
   "metadata": {
    "collapsed": false,
    "ExecuteTime": {
     "start_time": "2023-04-23T14:56:34.166377Z",
     "end_time": "2023-04-23T14:56:34.173726Z"
    }
   }
  },
  {
   "cell_type": "code",
   "execution_count": 84,
   "outputs": [],
   "source": [
    "def create_dataset(ham, spam):\n",
    "    dataset = []\n",
    "    word_len = 4\n",
    "    for text in ham:\n",
    "        text_split = text.split(sep=' ')\n",
    "        temp = []\n",
    "        for word in text_split:\n",
    "            if len(word) >= word_len:\n",
    "                temp += [word]\n",
    "        dataset.append([temp, 0])\n",
    "\n",
    "    for text in spam:\n",
    "        text_split = text.split(sep=' ')\n",
    "        temp = []\n",
    "        for word in text_split:\n",
    "            if len(word) >= word_len:\n",
    "                temp += [word]\n",
    "        dataset.append([temp, 1])\n",
    "    return dataset"
   ],
   "metadata": {
    "collapsed": false,
    "ExecuteTime": {
     "start_time": "2023-04-23T14:56:34.742484Z",
     "end_time": "2023-04-23T14:56:34.749312Z"
    }
   }
  },
  {
   "cell_type": "code",
   "execution_count": 85,
   "outputs": [],
   "source": [
    "ham_train = X_train[y_train == 0]\n",
    "spam_train = X_train[y_train == 1]\n",
    "ham_test = X_test[y_test == 0]\n",
    "spam_test = X_test[y_test == 1]\n",
    "train_dataset = create_dataset(ham_train, spam_train)\n",
    "test_dataset = create_dataset(ham_test, spam_test)"
   ],
   "metadata": {
    "collapsed": false,
    "ExecuteTime": {
     "start_time": "2023-04-23T14:56:35.166037Z",
     "end_time": "2023-04-23T14:56:35.177566Z"
    }
   }
  },
  {
   "cell_type": "code",
   "execution_count": 86,
   "outputs": [],
   "source": [
    "class NaiveBayesClassifier:\n",
    "\n",
    "    def __init__(self, alpha=1, dataset={}):\n",
    "        self.dataset = dataset\n",
    "        self.alpha = alpha\n",
    "        self.total = set()\n",
    "        self.classes = {}\n",
    "        self.total_in_class = {}\n",
    "        self.frequency = {}\n",
    "\n",
    "    def fit(self):\n",
    "        for items in self.dataset:\n",
    "            if items[1] not in self.classes:\n",
    "                self.classes[items[1]] = 0\n",
    "                self.total_in_class[items[1]] = 0\n",
    "            self.classes[items[1]] += 1\n",
    "            for item in items[0]:\n",
    "                if (item, items[1]) not in self.frequency:\n",
    "                    self.frequency[(item, items[1])] = 0\n",
    "                self.frequency[(item, items[1])] += 1\n",
    "                self.total_in_class[items[1]] += 1\n",
    "                self.total.add(item)\n",
    "\n",
    "        for items in self.frequency:\n",
    "            self.frequency[(items[0], items[1])] = (self.alpha + self.frequency[(items[0], items[1])])/(self.alpha*len(self.total) + self.total_in_class[items[1]])\n",
    "        for cls in self.classes:\n",
    "            self.classes[cls] /= len(self.dataset)\n",
    "        return self\n",
    "\n",
    "    def predict(self, items):\n",
    "        result = max(self.classes.keys(), key = lambda cls: np.log10(self.classes[cls]) + sum(np.log10(self.frequency.get((feature, cls), self.alpha/(self.alpha*len(self.total)+self.total_in_class[cls]))) for feature in items))\n",
    "        return result"
   ],
   "metadata": {
    "collapsed": false,
    "ExecuteTime": {
     "start_time": "2023-04-23T14:56:35.516056Z",
     "end_time": "2023-04-23T14:56:35.520624Z"
    }
   }
  },
  {
   "cell_type": "code",
   "execution_count": 87,
   "outputs": [
    {
     "data": {
      "text/plain": "<__main__.NaiveBayesClassifier at 0x25e311b84d0>"
     },
     "execution_count": 87,
     "metadata": {},
     "output_type": "execute_result"
    }
   ],
   "source": [
    "bayesModel = NaiveBayesClassifier(alpha=1, dataset=train_dataset)\n",
    "bayesModel.fit()"
   ],
   "metadata": {
    "collapsed": false,
    "ExecuteTime": {
     "start_time": "2023-04-23T14:56:35.986062Z",
     "end_time": "2023-04-23T14:56:36.008208Z"
    }
   }
  },
  {
   "cell_type": "code",
   "execution_count": 88,
   "outputs": [],
   "source": [
    "train_predicts = []\n",
    "for x_train in X_train:\n",
    "  train_predicts.append(bayesModel.predict(x_train.split()))"
   ],
   "metadata": {
    "collapsed": false,
    "ExecuteTime": {
     "start_time": "2023-04-23T14:56:36.339895Z",
     "end_time": "2023-04-23T14:56:36.374201Z"
    }
   }
  },
  {
   "cell_type": "code",
   "execution_count": 89,
   "outputs": [],
   "source": [
    "test_predicts = []\n",
    "for x_test in X_test:\n",
    "  test_predicts.append(bayesModel.predict(x_test.split()))"
   ],
   "metadata": {
    "collapsed": false,
    "ExecuteTime": {
     "start_time": "2023-04-23T14:56:36.676604Z",
     "end_time": "2023-04-23T14:56:36.706207Z"
    }
   }
  },
  {
   "cell_type": "code",
   "execution_count": 90,
   "outputs": [
    {
     "name": "stdout",
     "output_type": "stream",
     "text": [
      "Training accuracy: 0.9611846533542742\n",
      "Test accuracy: 0.915695067264574\n",
      "              precision    recall  f1-score   support\n",
      "\n",
      "           0       1.00      0.96      0.98      3859\n",
      "           1       0.79      0.97      0.87       598\n",
      "\n",
      "    accuracy                           0.96      4457\n",
      "   macro avg       0.89      0.97      0.92      4457\n",
      "weighted avg       0.97      0.96      0.96      4457\n",
      "\n",
      "              precision    recall  f1-score   support\n",
      "\n",
      "           0       0.99      0.91      0.95       966\n",
      "           1       0.62      0.97      0.75       149\n",
      "\n",
      "    accuracy                           0.92      1115\n",
      "   macro avg       0.81      0.94      0.85      1115\n",
      "weighted avg       0.94      0.92      0.92      1115\n",
      "\n"
     ]
    }
   ],
   "source": [
    "print(f\"Training accuracy: {accuracy_score(y_train, train_predicts)}\")\n",
    "print(f\"Test accuracy: {accuracy_score(y_test, test_predicts)}\")\n",
    "print(classification_report(y_train, train_predicts))\n",
    "print(classification_report(y_test, test_predicts))"
   ],
   "metadata": {
    "collapsed": false,
    "ExecuteTime": {
     "start_time": "2023-04-23T14:56:37.096593Z",
     "end_time": "2023-04-23T14:56:37.116083Z"
    }
   }
  }
 ],
 "metadata": {
  "kernelspec": {
   "display_name": "Python 3",
   "language": "python",
   "name": "python3"
  },
  "language_info": {
   "codemirror_mode": {
    "name": "ipython",
    "version": 2
   },
   "file_extension": ".py",
   "mimetype": "text/x-python",
   "name": "python",
   "nbconvert_exporter": "python",
   "pygments_lexer": "ipython2",
   "version": "2.7.6"
  }
 },
 "nbformat": 4,
 "nbformat_minor": 0
}
