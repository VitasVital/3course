{
 "cells": [
  {
   "cell_type": "markdown",
   "source": [
    "# Классификатор LDA для glass.csv"
   ],
   "metadata": {
    "collapsed": false
   }
  },
  {
   "cell_type": "code",
   "execution_count": 90,
   "outputs": [],
   "source": [
    "import pandas as pd\n",
    "import numpy as np\n",
    "from sklearn.model_selection import train_test_split\n",
    "from sklearn.metrics import accuracy_score, classification_report\n",
    "# from sklearn.discriminant_analysis import LinearDiscriminantAnalysis\n",
    "import matplotlib.pyplot as plt\n",
    "from pandas import DataFrame, Series\n",
    "from sklearn.metrics import confusion_matrix"
   ],
   "metadata": {
    "collapsed": false,
    "ExecuteTime": {
     "end_time": "2023-05-02T05:52:18.016616500Z",
     "start_time": "2023-05-02T05:52:18.001550100Z"
    }
   }
  },
  {
   "cell_type": "code",
   "execution_count": 91,
   "outputs": [
    {
     "data": {
      "text/plain": "          RI     Na    Mg    Al     Si     K    Ca    Ba   Fe  Type\n0    1.52101  13.64  4.49  1.10  71.78  0.06  8.75  0.00  0.0     1\n1    1.51761  13.89  3.60  1.36  72.73  0.48  7.83  0.00  0.0     1\n2    1.51618  13.53  3.55  1.54  72.99  0.39  7.78  0.00  0.0     1\n3    1.51766  13.21  3.69  1.29  72.61  0.57  8.22  0.00  0.0     1\n4    1.51742  13.27  3.62  1.24  73.08  0.55  8.07  0.00  0.0     1\n..       ...    ...   ...   ...    ...   ...   ...   ...  ...   ...\n209  1.51623  14.14  0.00  2.88  72.61  0.08  9.18  1.06  0.0     7\n210  1.51685  14.92  0.00  1.99  73.06  0.00  8.40  1.59  0.0     7\n211  1.52065  14.36  0.00  2.02  73.42  0.00  8.44  1.64  0.0     7\n212  1.51651  14.38  0.00  1.94  73.61  0.00  8.48  1.57  0.0     7\n213  1.51711  14.23  0.00  2.08  73.36  0.00  8.62  1.67  0.0     7\n\n[214 rows x 10 columns]",
      "text/html": "<div>\n<style scoped>\n    .dataframe tbody tr th:only-of-type {\n        vertical-align: middle;\n    }\n\n    .dataframe tbody tr th {\n        vertical-align: top;\n    }\n\n    .dataframe thead th {\n        text-align: right;\n    }\n</style>\n<table border=\"1\" class=\"dataframe\">\n  <thead>\n    <tr style=\"text-align: right;\">\n      <th></th>\n      <th>RI</th>\n      <th>Na</th>\n      <th>Mg</th>\n      <th>Al</th>\n      <th>Si</th>\n      <th>K</th>\n      <th>Ca</th>\n      <th>Ba</th>\n      <th>Fe</th>\n      <th>Type</th>\n    </tr>\n  </thead>\n  <tbody>\n    <tr>\n      <th>0</th>\n      <td>1.52101</td>\n      <td>13.64</td>\n      <td>4.49</td>\n      <td>1.10</td>\n      <td>71.78</td>\n      <td>0.06</td>\n      <td>8.75</td>\n      <td>0.00</td>\n      <td>0.0</td>\n      <td>1</td>\n    </tr>\n    <tr>\n      <th>1</th>\n      <td>1.51761</td>\n      <td>13.89</td>\n      <td>3.60</td>\n      <td>1.36</td>\n      <td>72.73</td>\n      <td>0.48</td>\n      <td>7.83</td>\n      <td>0.00</td>\n      <td>0.0</td>\n      <td>1</td>\n    </tr>\n    <tr>\n      <th>2</th>\n      <td>1.51618</td>\n      <td>13.53</td>\n      <td>3.55</td>\n      <td>1.54</td>\n      <td>72.99</td>\n      <td>0.39</td>\n      <td>7.78</td>\n      <td>0.00</td>\n      <td>0.0</td>\n      <td>1</td>\n    </tr>\n    <tr>\n      <th>3</th>\n      <td>1.51766</td>\n      <td>13.21</td>\n      <td>3.69</td>\n      <td>1.29</td>\n      <td>72.61</td>\n      <td>0.57</td>\n      <td>8.22</td>\n      <td>0.00</td>\n      <td>0.0</td>\n      <td>1</td>\n    </tr>\n    <tr>\n      <th>4</th>\n      <td>1.51742</td>\n      <td>13.27</td>\n      <td>3.62</td>\n      <td>1.24</td>\n      <td>73.08</td>\n      <td>0.55</td>\n      <td>8.07</td>\n      <td>0.00</td>\n      <td>0.0</td>\n      <td>1</td>\n    </tr>\n    <tr>\n      <th>...</th>\n      <td>...</td>\n      <td>...</td>\n      <td>...</td>\n      <td>...</td>\n      <td>...</td>\n      <td>...</td>\n      <td>...</td>\n      <td>...</td>\n      <td>...</td>\n      <td>...</td>\n    </tr>\n    <tr>\n      <th>209</th>\n      <td>1.51623</td>\n      <td>14.14</td>\n      <td>0.00</td>\n      <td>2.88</td>\n      <td>72.61</td>\n      <td>0.08</td>\n      <td>9.18</td>\n      <td>1.06</td>\n      <td>0.0</td>\n      <td>7</td>\n    </tr>\n    <tr>\n      <th>210</th>\n      <td>1.51685</td>\n      <td>14.92</td>\n      <td>0.00</td>\n      <td>1.99</td>\n      <td>73.06</td>\n      <td>0.00</td>\n      <td>8.40</td>\n      <td>1.59</td>\n      <td>0.0</td>\n      <td>7</td>\n    </tr>\n    <tr>\n      <th>211</th>\n      <td>1.52065</td>\n      <td>14.36</td>\n      <td>0.00</td>\n      <td>2.02</td>\n      <td>73.42</td>\n      <td>0.00</td>\n      <td>8.44</td>\n      <td>1.64</td>\n      <td>0.0</td>\n      <td>7</td>\n    </tr>\n    <tr>\n      <th>212</th>\n      <td>1.51651</td>\n      <td>14.38</td>\n      <td>0.00</td>\n      <td>1.94</td>\n      <td>73.61</td>\n      <td>0.00</td>\n      <td>8.48</td>\n      <td>1.57</td>\n      <td>0.0</td>\n      <td>7</td>\n    </tr>\n    <tr>\n      <th>213</th>\n      <td>1.51711</td>\n      <td>14.23</td>\n      <td>0.00</td>\n      <td>2.08</td>\n      <td>73.36</td>\n      <td>0.00</td>\n      <td>8.62</td>\n      <td>1.67</td>\n      <td>0.0</td>\n      <td>7</td>\n    </tr>\n  </tbody>\n</table>\n<p>214 rows × 10 columns</p>\n</div>"
     },
     "execution_count": 91,
     "metadata": {},
     "output_type": "execute_result"
    }
   ],
   "source": [
    "data = pd.read_csv('glass.csv')\n",
    "data"
   ],
   "metadata": {
    "collapsed": false,
    "ExecuteTime": {
     "end_time": "2023-05-02T05:52:18.267817400Z",
     "start_time": "2023-05-02T05:52:18.244257800Z"
    }
   }
  },
  {
   "cell_type": "code",
   "execution_count": 92,
   "outputs": [],
   "source": [
    "Y = data['Type']\n",
    "X = data.drop(['Type'], axis=1)"
   ],
   "metadata": {
    "collapsed": false,
    "ExecuteTime": {
     "end_time": "2023-05-02T05:52:18.601522Z",
     "start_time": "2023-05-02T05:52:18.590404700Z"
    }
   }
  },
  {
   "cell_type": "code",
   "execution_count": 107,
   "outputs": [],
   "source": [
    "class LinearDiscriminantAnalysis:\n",
    "\n",
    "    def __init__(self):\n",
    "        self.frequency_classes = None\n",
    "        self.cov = None\n",
    "        self.class_name = None\n",
    "        self.mu_c = None\n",
    "        self.beta = None\n",
    "        self.gamma = None\n",
    "\n",
    "    def fit(self, X, Y):\n",
    "        X, Y = self.check_data(X, Y)\n",
    "        self.class_name, count = np.unique(Y, return_counts=True)\n",
    "        self.frequency_classes = count / count.sum()\n",
    "        self.cov = self.calculate_cov(X, Y)\n",
    "        self.mu_c = data.groupby(['Type']).mean()\n",
    "        self.beta = np.matmul(np.linalg.inv(self.cov), self.mu_c.T).T\n",
    "        self.gamma = -(1/2) * np.diag(np.dot(self.mu_c, self.beta.T)) + np.log(self.frequency_classes)\n",
    "\n",
    "    def check_data(self, X, Y=None):\n",
    "        if isinstance(X, DataFrame):\n",
    "            X = X.values\n",
    "        if isinstance(Y, (DataFrame, Series)):\n",
    "            Y = Y.values\n",
    "        return X if Y is None else (X, Y)\n",
    "\n",
    "    def calculate_cov(self, X, Y):\n",
    "        cov = np.zeros(shape=(X.shape[1], X.shape[1]))\n",
    "        for i, cls in enumerate(self.class_name):\n",
    "            cov += self.frequency_classes[i] * np.cov(X[Y == cls, :].T)\n",
    "        return cov\n",
    "\n",
    "    def predict(self, X):\n",
    "        predicted_values = []\n",
    "        X = self.check_data(X)\n",
    "        for x in X:\n",
    "            mu = np.matmul(self.beta, x.T) + self.gamma\n",
    "            predicted_values.append(self.class_name[np.argmax(self.softmax(mu))])\n",
    "        return predicted_values\n",
    "\n",
    "    def softmax(self, X):\n",
    "        exp_x = np.exp(X - np.max(X))\n",
    "        return exp_x / exp_x.sum(axis=0)"
   ],
   "metadata": {
    "collapsed": false,
    "ExecuteTime": {
     "end_time": "2023-05-02T05:53:21.252471100Z",
     "start_time": "2023-05-02T05:53:21.238836900Z"
    }
   }
  },
  {
   "cell_type": "code",
   "execution_count": 108,
   "outputs": [],
   "source": [
    "lda = LinearDiscriminantAnalysis()\n",
    "lda.fit(X,Y)\n",
    "lda_predict = lda.predict(X)"
   ],
   "metadata": {
    "collapsed": false,
    "ExecuteTime": {
     "end_time": "2023-05-02T05:53:21.657049200Z",
     "start_time": "2023-05-02T05:53:21.600846600Z"
    }
   }
  },
  {
   "cell_type": "code",
   "execution_count": 109,
   "outputs": [
    {
     "data": {
      "text/plain": "array([[52, 15,  3,  0,  0,  0],\n       [17, 54,  0,  3,  2,  0],\n       [11,  6,  0,  0,  0,  0],\n       [ 0,  5,  0,  7,  0,  1],\n       [ 1,  2,  0,  0,  6,  0],\n       [ 1,  2,  0,  1,  0, 25]], dtype=int64)"
     },
     "execution_count": 109,
     "metadata": {},
     "output_type": "execute_result"
    }
   ],
   "source": [
    "confusion_matrix(Y, lda_predict)"
   ],
   "metadata": {
    "collapsed": false,
    "ExecuteTime": {
     "end_time": "2023-05-02T05:53:21.957072100Z",
     "start_time": "2023-05-02T05:53:21.933475900Z"
    }
   }
  },
  {
   "cell_type": "markdown",
   "source": [
    "### Вычисленная confusion matrix для glass.csv"
   ],
   "metadata": {
    "collapsed": false
   }
  },
  {
   "cell_type": "markdown",
   "source": [
    "# Классификатор LDA и QDA для admission.csv"
   ],
   "metadata": {
    "collapsed": false
   }
  },
  {
   "cell_type": "code",
   "execution_count": 110,
   "outputs": [
    {
     "data": {
      "text/plain": "     GPA  GMAT      De\n0   2.96   596   admit\n1   3.14   473   admit\n2   3.22   482   admit\n3   3.29   527   admit\n4   3.69   505   admit\n..   ...   ...     ...\n80  3.05   399  border\n81  2.85   483  border\n82  3.01   453  border\n83  3.03   414  border\n84  3.04   446  border\n\n[85 rows x 3 columns]",
      "text/html": "<div>\n<style scoped>\n    .dataframe tbody tr th:only-of-type {\n        vertical-align: middle;\n    }\n\n    .dataframe tbody tr th {\n        vertical-align: top;\n    }\n\n    .dataframe thead th {\n        text-align: right;\n    }\n</style>\n<table border=\"1\" class=\"dataframe\">\n  <thead>\n    <tr style=\"text-align: right;\">\n      <th></th>\n      <th>GPA</th>\n      <th>GMAT</th>\n      <th>De</th>\n    </tr>\n  </thead>\n  <tbody>\n    <tr>\n      <th>0</th>\n      <td>2.96</td>\n      <td>596</td>\n      <td>admit</td>\n    </tr>\n    <tr>\n      <th>1</th>\n      <td>3.14</td>\n      <td>473</td>\n      <td>admit</td>\n    </tr>\n    <tr>\n      <th>2</th>\n      <td>3.22</td>\n      <td>482</td>\n      <td>admit</td>\n    </tr>\n    <tr>\n      <th>3</th>\n      <td>3.29</td>\n      <td>527</td>\n      <td>admit</td>\n    </tr>\n    <tr>\n      <th>4</th>\n      <td>3.69</td>\n      <td>505</td>\n      <td>admit</td>\n    </tr>\n    <tr>\n      <th>...</th>\n      <td>...</td>\n      <td>...</td>\n      <td>...</td>\n    </tr>\n    <tr>\n      <th>80</th>\n      <td>3.05</td>\n      <td>399</td>\n      <td>border</td>\n    </tr>\n    <tr>\n      <th>81</th>\n      <td>2.85</td>\n      <td>483</td>\n      <td>border</td>\n    </tr>\n    <tr>\n      <th>82</th>\n      <td>3.01</td>\n      <td>453</td>\n      <td>border</td>\n    </tr>\n    <tr>\n      <th>83</th>\n      <td>3.03</td>\n      <td>414</td>\n      <td>border</td>\n    </tr>\n    <tr>\n      <th>84</th>\n      <td>3.04</td>\n      <td>446</td>\n      <td>border</td>\n    </tr>\n  </tbody>\n</table>\n<p>85 rows × 3 columns</p>\n</div>"
     },
     "execution_count": 110,
     "metadata": {},
     "output_type": "execute_result"
    }
   ],
   "source": [
    "data = pd.read_csv('admission.csv')\n",
    "data"
   ],
   "metadata": {
    "collapsed": false,
    "ExecuteTime": {
     "end_time": "2023-05-02T05:53:41.533298800Z",
     "start_time": "2023-05-02T05:53:41.520199700Z"
    }
   }
  },
  {
   "cell_type": "code",
   "execution_count": 111,
   "outputs": [],
   "source": [
    "Y = data['De']\n",
    "X = data.drop(['De'], axis=1)"
   ],
   "metadata": {
    "collapsed": false,
    "ExecuteTime": {
     "end_time": "2023-05-02T05:56:26.172484500Z",
     "start_time": "2023-05-02T05:56:26.151778100Z"
    }
   }
  },
  {
   "cell_type": "code",
   "execution_count": 113,
   "outputs": [
    {
     "data": {
      "text/plain": "   GPA  GMAT\n0  2.9   400\n1  2.5   515\n2  3.4   487",
      "text/html": "<div>\n<style scoped>\n    .dataframe tbody tr th:only-of-type {\n        vertical-align: middle;\n    }\n\n    .dataframe tbody tr th {\n        vertical-align: top;\n    }\n\n    .dataframe thead th {\n        text-align: right;\n    }\n</style>\n<table border=\"1\" class=\"dataframe\">\n  <thead>\n    <tr style=\"text-align: right;\">\n      <th></th>\n      <th>GPA</th>\n      <th>GMAT</th>\n    </tr>\n  </thead>\n  <tbody>\n    <tr>\n      <th>0</th>\n      <td>2.9</td>\n      <td>400</td>\n    </tr>\n    <tr>\n      <th>1</th>\n      <td>2.5</td>\n      <td>515</td>\n    </tr>\n    <tr>\n      <th>2</th>\n      <td>3.4</td>\n      <td>487</td>\n    </tr>\n  </tbody>\n</table>\n</div>"
     },
     "execution_count": 113,
     "metadata": {},
     "output_type": "execute_result"
    }
   ],
   "source": [
    "classify_points = pd.DataFrame({'GPA':[2.9, 2.5, 3.4], 'GMAT':[400, 515, 487]})\n",
    "classify_points"
   ],
   "metadata": {
    "collapsed": false,
    "ExecuteTime": {
     "end_time": "2023-05-02T05:59:27.693701200Z",
     "start_time": "2023-05-02T05:59:27.669957600Z"
    }
   }
  },
  {
   "cell_type": "code",
   "execution_count": null,
   "outputs": [],
   "source": [],
   "metadata": {
    "collapsed": false
   }
  }
 ],
 "metadata": {
  "kernelspec": {
   "display_name": "Python 3",
   "language": "python",
   "name": "python3"
  },
  "language_info": {
   "codemirror_mode": {
    "name": "ipython",
    "version": 2
   },
   "file_extension": ".py",
   "mimetype": "text/x-python",
   "name": "python",
   "nbconvert_exporter": "python",
   "pygments_lexer": "ipython2",
   "version": "2.7.6"
  }
 },
 "nbformat": 4,
 "nbformat_minor": 0
}
