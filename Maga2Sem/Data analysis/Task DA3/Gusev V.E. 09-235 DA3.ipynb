{
 "cells": [
  {
   "cell_type": "code",
   "execution_count": 232,
   "outputs": [],
   "source": [
    "import pandas as pd\n",
    "import numpy as np\n",
    "from sklearn.model_selection import train_test_split\n",
    "from sklearn.metrics import accuracy_score, classification_report\n",
    "# from sklearn.discriminant_analysis import LinearDiscriminantAnalysis\n",
    "import matplotlib.pyplot as plt\n",
    "from pandas import DataFrame, Series\n",
    "from sklearn.metrics import confusion_matrix"
   ],
   "metadata": {
    "collapsed": false,
    "ExecuteTime": {
     "end_time": "2023-05-01T10:58:05.158571900Z",
     "start_time": "2023-05-01T10:58:05.154047900Z"
    }
   }
  },
  {
   "cell_type": "code",
   "execution_count": 233,
   "outputs": [
    {
     "data": {
      "text/plain": "          RI     Na    Mg    Al     Si     K    Ca    Ba   Fe  Type\n0    1.52101  13.64  4.49  1.10  71.78  0.06  8.75  0.00  0.0     1\n1    1.51761  13.89  3.60  1.36  72.73  0.48  7.83  0.00  0.0     1\n2    1.51618  13.53  3.55  1.54  72.99  0.39  7.78  0.00  0.0     1\n3    1.51766  13.21  3.69  1.29  72.61  0.57  8.22  0.00  0.0     1\n4    1.51742  13.27  3.62  1.24  73.08  0.55  8.07  0.00  0.0     1\n..       ...    ...   ...   ...    ...   ...   ...   ...  ...   ...\n209  1.51623  14.14  0.00  2.88  72.61  0.08  9.18  1.06  0.0     7\n210  1.51685  14.92  0.00  1.99  73.06  0.00  8.40  1.59  0.0     7\n211  1.52065  14.36  0.00  2.02  73.42  0.00  8.44  1.64  0.0     7\n212  1.51651  14.38  0.00  1.94  73.61  0.00  8.48  1.57  0.0     7\n213  1.51711  14.23  0.00  2.08  73.36  0.00  8.62  1.67  0.0     7\n\n[214 rows x 10 columns]",
      "text/html": "<div>\n<style scoped>\n    .dataframe tbody tr th:only-of-type {\n        vertical-align: middle;\n    }\n\n    .dataframe tbody tr th {\n        vertical-align: top;\n    }\n\n    .dataframe thead th {\n        text-align: right;\n    }\n</style>\n<table border=\"1\" class=\"dataframe\">\n  <thead>\n    <tr style=\"text-align: right;\">\n      <th></th>\n      <th>RI</th>\n      <th>Na</th>\n      <th>Mg</th>\n      <th>Al</th>\n      <th>Si</th>\n      <th>K</th>\n      <th>Ca</th>\n      <th>Ba</th>\n      <th>Fe</th>\n      <th>Type</th>\n    </tr>\n  </thead>\n  <tbody>\n    <tr>\n      <th>0</th>\n      <td>1.52101</td>\n      <td>13.64</td>\n      <td>4.49</td>\n      <td>1.10</td>\n      <td>71.78</td>\n      <td>0.06</td>\n      <td>8.75</td>\n      <td>0.00</td>\n      <td>0.0</td>\n      <td>1</td>\n    </tr>\n    <tr>\n      <th>1</th>\n      <td>1.51761</td>\n      <td>13.89</td>\n      <td>3.60</td>\n      <td>1.36</td>\n      <td>72.73</td>\n      <td>0.48</td>\n      <td>7.83</td>\n      <td>0.00</td>\n      <td>0.0</td>\n      <td>1</td>\n    </tr>\n    <tr>\n      <th>2</th>\n      <td>1.51618</td>\n      <td>13.53</td>\n      <td>3.55</td>\n      <td>1.54</td>\n      <td>72.99</td>\n      <td>0.39</td>\n      <td>7.78</td>\n      <td>0.00</td>\n      <td>0.0</td>\n      <td>1</td>\n    </tr>\n    <tr>\n      <th>3</th>\n      <td>1.51766</td>\n      <td>13.21</td>\n      <td>3.69</td>\n      <td>1.29</td>\n      <td>72.61</td>\n      <td>0.57</td>\n      <td>8.22</td>\n      <td>0.00</td>\n      <td>0.0</td>\n      <td>1</td>\n    </tr>\n    <tr>\n      <th>4</th>\n      <td>1.51742</td>\n      <td>13.27</td>\n      <td>3.62</td>\n      <td>1.24</td>\n      <td>73.08</td>\n      <td>0.55</td>\n      <td>8.07</td>\n      <td>0.00</td>\n      <td>0.0</td>\n      <td>1</td>\n    </tr>\n    <tr>\n      <th>...</th>\n      <td>...</td>\n      <td>...</td>\n      <td>...</td>\n      <td>...</td>\n      <td>...</td>\n      <td>...</td>\n      <td>...</td>\n      <td>...</td>\n      <td>...</td>\n      <td>...</td>\n    </tr>\n    <tr>\n      <th>209</th>\n      <td>1.51623</td>\n      <td>14.14</td>\n      <td>0.00</td>\n      <td>2.88</td>\n      <td>72.61</td>\n      <td>0.08</td>\n      <td>9.18</td>\n      <td>1.06</td>\n      <td>0.0</td>\n      <td>7</td>\n    </tr>\n    <tr>\n      <th>210</th>\n      <td>1.51685</td>\n      <td>14.92</td>\n      <td>0.00</td>\n      <td>1.99</td>\n      <td>73.06</td>\n      <td>0.00</td>\n      <td>8.40</td>\n      <td>1.59</td>\n      <td>0.0</td>\n      <td>7</td>\n    </tr>\n    <tr>\n      <th>211</th>\n      <td>1.52065</td>\n      <td>14.36</td>\n      <td>0.00</td>\n      <td>2.02</td>\n      <td>73.42</td>\n      <td>0.00</td>\n      <td>8.44</td>\n      <td>1.64</td>\n      <td>0.0</td>\n      <td>7</td>\n    </tr>\n    <tr>\n      <th>212</th>\n      <td>1.51651</td>\n      <td>14.38</td>\n      <td>0.00</td>\n      <td>1.94</td>\n      <td>73.61</td>\n      <td>0.00</td>\n      <td>8.48</td>\n      <td>1.57</td>\n      <td>0.0</td>\n      <td>7</td>\n    </tr>\n    <tr>\n      <th>213</th>\n      <td>1.51711</td>\n      <td>14.23</td>\n      <td>0.00</td>\n      <td>2.08</td>\n      <td>73.36</td>\n      <td>0.00</td>\n      <td>8.62</td>\n      <td>1.67</td>\n      <td>0.0</td>\n      <td>7</td>\n    </tr>\n  </tbody>\n</table>\n<p>214 rows × 10 columns</p>\n</div>"
     },
     "execution_count": 233,
     "metadata": {},
     "output_type": "execute_result"
    }
   ],
   "source": [
    "data = pd.read_csv('glass.csv')\n",
    "data"
   ],
   "metadata": {
    "collapsed": false,
    "ExecuteTime": {
     "end_time": "2023-05-01T10:58:05.608194600Z",
     "start_time": "2023-05-01T10:58:05.558125200Z"
    }
   }
  },
  {
   "cell_type": "code",
   "execution_count": 234,
   "outputs": [],
   "source": [
    "Y = data['Type']\n",
    "X = data.drop(['Type'], axis=1)"
   ],
   "metadata": {
    "collapsed": false,
    "ExecuteTime": {
     "end_time": "2023-05-01T10:58:06.350272400Z",
     "start_time": "2023-05-01T10:58:06.343102600Z"
    }
   }
  },
  {
   "cell_type": "code",
   "execution_count": 238,
   "outputs": [],
   "source": [
    "class LinearDiscriminantAnalysis:\n",
    "\n",
    "    def __init__(self):\n",
    "        self.classes_ =     None # Названия классов\n",
    "        self.priors_ =      None # Частоты классов (априорная вероятность класса)\n",
    "        self.covariance_ =  None # Матрица ковариации\n",
    "        self.mu_c =         None # Средние параметров по классам\n",
    "        self.beta =        None # Бета\n",
    "        self.gamma =   None # Гамма\n",
    "\n",
    "    def validate_data(self, X, y=None):\n",
    "      if isinstance(X, DataFrame):\n",
    "        X = X.values\n",
    "      if isinstance(y, (DataFrame, Series)):\n",
    "        y = y.values\n",
    "      if y is None:\n",
    "        return X\n",
    "      else:\n",
    "        return X, y\n",
    "\n",
    "    def fit(self, X, Y):\n",
    "        X, y = self.validate_data(X, Y)\n",
    "        self.classes_, counts = np.unique(Y, return_counts=True)\n",
    "        self.priors_ = counts / counts.sum()\n",
    "        self.covariance_ = self._get_weighted_covariance(X, Y)\n",
    "        self.mu_c = data.groupby(['Type']).mean()\n",
    "        self.beta = np.matmul(np.linalg.inv(self.covariance_), self.mu_c.T).T\n",
    "        self.gamma = -0.5 * np.diag(np.dot(self.mu_c, self.beta.T)) + np.log(self.priors_)\n",
    "\n",
    "    def _get_weighted_covariance(self, X, Y):\n",
    "        covariance_ = np.zeros(shape=(X.shape[1], X.shape[1]))\n",
    "        for i, cls in enumerate(self.classes_):\n",
    "            covariance_ += self.priors_[i] * np.cov(X[Y == cls, :].T)\n",
    "        return covariance_\n",
    "\n",
    "    def predict(self, X):\n",
    "        result = []\n",
    "        X = self.validate_data(X)\n",
    "        for x in X:\n",
    "            mu = np.matmul(self.beta, x.T) + self.gamma\n",
    "            result += [self.classes_[np.argmax(self.softmax(mu))]]\n",
    "        return result\n",
    "\n",
    "    def softmax(self, x):\n",
    "        e_x = np.exp(x - np.max(x))\n",
    "        return e_x / e_x.sum(axis=0)"
   ],
   "metadata": {
    "collapsed": false,
    "ExecuteTime": {
     "end_time": "2023-05-01T10:59:03.570802900Z",
     "start_time": "2023-05-01T10:59:03.568771200Z"
    }
   }
  },
  {
   "cell_type": "code",
   "execution_count": 239,
   "outputs": [],
   "source": [
    "lda = LinearDiscriminantAnalysis()\n",
    "lda.fit(X,Y)\n",
    "lda_predict = lda.predict(X)"
   ],
   "metadata": {
    "collapsed": false,
    "ExecuteTime": {
     "end_time": "2023-05-01T10:59:03.974736700Z",
     "start_time": "2023-05-01T10:59:03.918288300Z"
    }
   }
  },
  {
   "cell_type": "code",
   "execution_count": 240,
   "outputs": [
    {
     "data": {
      "text/plain": "array([[52, 15,  3,  0,  0,  0],\n       [17, 54,  0,  3,  2,  0],\n       [11,  6,  0,  0,  0,  0],\n       [ 0,  5,  0,  7,  0,  1],\n       [ 1,  2,  0,  0,  6,  0],\n       [ 1,  2,  0,  1,  0, 25]], dtype=int64)"
     },
     "execution_count": 240,
     "metadata": {},
     "output_type": "execute_result"
    }
   ],
   "source": [
    "confusion_matrix(Y, lda_predict)"
   ],
   "metadata": {
    "collapsed": false,
    "ExecuteTime": {
     "end_time": "2023-05-01T10:59:04.968128800Z",
     "start_time": "2023-05-01T10:59:04.963000200Z"
    }
   }
  }
 ],
 "metadata": {
  "kernelspec": {
   "display_name": "Python 3",
   "language": "python",
   "name": "python3"
  },
  "language_info": {
   "codemirror_mode": {
    "name": "ipython",
    "version": 2
   },
   "file_extension": ".py",
   "mimetype": "text/x-python",
   "name": "python",
   "nbconvert_exporter": "python",
   "pygments_lexer": "ipython2",
   "version": "2.7.6"
  }
 },
 "nbformat": 4,
 "nbformat_minor": 0
}
