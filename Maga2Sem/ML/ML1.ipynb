{
 "cells": [
  {
   "cell_type": "code",
   "execution_count": 63,
   "outputs": [],
   "source": [
    "import pandas as pd\n",
    "import numpy as np\n",
    "import matplotlib.pyplot as plt\n",
    "from sklearn.linear_model import LinearRegression, LogisticRegression\n",
    "from sklearn.model_selection import train_test_split"
   ],
   "metadata": {
    "collapsed": false,
    "pycharm": {
     "name": "#%%\n"
    }
   }
  },
  {
   "cell_type": "code",
   "execution_count": 64,
   "outputs": [],
   "source": [
    "data = pd.read_csv('datasets/top 100 streamed songs.csv').drop(columns=['id', 'name'])"
   ],
   "metadata": {
    "collapsed": false,
    "pycharm": {
     "name": "#%%\n"
    }
   }
  },
  {
   "cell_type": "code",
   "execution_count": 65,
   "outputs": [],
   "source": [
    "Y = data['duration']\n",
    "X = data.drop(['duration'], axis=1)"
   ],
   "metadata": {
    "collapsed": false,
    "pycharm": {
     "name": "#%%\n"
    }
   }
  },
  {
   "cell_type": "code",
   "execution_count": 66,
   "outputs": [],
   "source": [
    "training_samples = data.values[:80]\n",
    "validation_sapmles = data.values[80:90]\n",
    "test_samples = data.values[90:100]"
   ],
   "metadata": {
    "collapsed": false,
    "pycharm": {
     "name": "#%%\n"
    }
   }
  },
  {
   "cell_type": "code",
   "execution_count": 67,
   "outputs": [],
   "source": [
    "def calculate_RMSE(input_a, input_y):\n",
    "    MSE = sum((input_a - input_y) ** 2) / len(input_y)\n",
    "    RMSE = np.sqrt(MSE)\n",
    "    return RMSE\n",
    "\n",
    "def calculate_sqrR(input_a, input_y):\n",
    "    numerator = sum((input_a - input_y) ** 2)\n",
    "    denominator = sum((input_y - sum(input_y) / len(input_y)) ** 2)\n",
    "    sqrR = 1 - numerator / denominator\n",
    "    return sqrR\n",
    "\n",
    "def calculate_MSLE(input_a, input_y):\n",
    "    MSLE = sum((np.log(input_a + 1) - np.log(input_y + 1)) ** 2) / len(input_y)\n",
    "    return MSLE\n",
    "\n",
    "def calculate_MAE(input_a, input_y):\n",
    "    MAE = sum(abs(input_a - input_y)) / len(input_y)\n",
    "    return MAE\n",
    "\n",
    "def calculate_MAPE(input_a, input_y):\n",
    "    MAPE = sum(abs(input_y - input_a) / abs(input_y)) / len(input_y)\n",
    "    return MAPE\n",
    "\n",
    "def calculate_SMAPE(input_a, input_y):\n",
    "    SMAPE = sum(abs(input_y - input_a) * 2 / (abs(input_y) + abs(input_a))) / len(input_y)\n",
    "    return SMAPE"
   ],
   "metadata": {
    "collapsed": false,
    "pycharm": {
     "name": "#%%\n"
    }
   }
  },
  {
   "cell_type": "code",
   "execution_count": 68,
   "outputs": [],
   "source": [
    "X_train, X_test, y_train, y_test = train_test_split(X, Y, test_size=0.33, random_state=42)\n",
    "train_model = LinearRegression().fit(X_train, y_train) # веса\n",
    "# train_model.coef_\n",
    "# train_model.intercept_\n",
    "\n",
    "train_predict = train_model.predict(X_train) # предсказывает значение для выборки\n",
    "test_predict = train_model.predict(X_test)"
   ],
   "metadata": {
    "collapsed": false,
    "pycharm": {
     "name": "#%%\n"
    }
   }
  },
  {
   "cell_type": "code",
   "execution_count": 69,
   "outputs": [
    {
     "data": {
      "text/plain": "'RMSE train = 0.43852321199835537 | RMSE test = 1.2896450976755365'"
     },
     "execution_count": 69,
     "metadata": {},
     "output_type": "execute_result"
    }
   ],
   "source": [
    "RMSE_train = calculate_RMSE(train_predict, y_train)\n",
    "RMSE_test = calculate_RMSE(test_predict, y_test)\n",
    "f'RMSE train = {RMSE_train} | RMSE test = {RMSE_test}'"
   ],
   "metadata": {
    "collapsed": false,
    "pycharm": {
     "name": "#%%\n"
    }
   }
  },
  {
   "cell_type": "code",
   "execution_count": 70,
   "outputs": [
    {
     "data": {
      "text/plain": "'sqrR train = 0.4820535037244782 | sqrR test = 0.0819511653589452'"
     },
     "execution_count": 70,
     "metadata": {},
     "output_type": "execute_result"
    }
   ],
   "source": [
    "sqrR_train = calculate_sqrR(train_predict, y_train)\n",
    "sqrR_test = calculate_sqrR(test_predict, y_test)\n",
    "f'sqrR train = {sqrR_train} | sqrR test = {sqrR_test}'"
   ],
   "metadata": {
    "collapsed": false,
    "pycharm": {
     "name": "#%%\n"
    }
   }
  },
  {
   "cell_type": "code",
   "execution_count": 71,
   "outputs": [
    {
     "data": {
      "text/plain": "'MSLE train = 0.012949583421173935 | MSLE test = 0.049397728860954004'"
     },
     "execution_count": 71,
     "metadata": {},
     "output_type": "execute_result"
    }
   ],
   "source": [
    "MSLE_train = calculate_MSLE(train_predict, y_train)\n",
    "MSLE_test = calculate_MSLE(test_predict, y_test)\n",
    "f'MSLE train = {MSLE_train} | MSLE test = {MSLE_test}'"
   ],
   "metadata": {
    "collapsed": false,
    "pycharm": {
     "name": "#%%\n"
    }
   }
  },
  {
   "cell_type": "code",
   "execution_count": 72,
   "outputs": [
    {
     "data": {
      "text/plain": "'MAE train = 0.34034825566392685 | MAE test = 0.775693462935253'"
     },
     "execution_count": 72,
     "metadata": {},
     "output_type": "execute_result"
    }
   ],
   "source": [
    "MAE_train = calculate_MAE(train_predict, y_train)\n",
    "MAE_test = calculate_MAE(test_predict, y_test)\n",
    "f'MAE train = {MAE_train} | MAE test = {MAE_test}'"
   ],
   "metadata": {
    "collapsed": false,
    "pycharm": {
     "name": "#%%\n"
    }
   }
  },
  {
   "cell_type": "code",
   "execution_count": 73,
   "outputs": [
    {
     "data": {
      "text/plain": "'MAPE train = 0.12005342427791248 | MAPE test = 0.20876965696996266'"
     },
     "execution_count": 73,
     "metadata": {},
     "output_type": "execute_result"
    }
   ],
   "source": [
    "MAPE_train = calculate_MAPE(train_predict, y_train)\n",
    "MAPE_test = calculate_MAPE(test_predict, y_test)\n",
    "f'MAPE train = {MAPE_train} | MAPE test = {MAPE_test}'"
   ],
   "metadata": {
    "collapsed": false,
    "pycharm": {
     "name": "#%%\n"
    }
   }
  },
  {
   "cell_type": "code",
   "execution_count": 74,
   "outputs": [
    {
     "data": {
      "text/plain": "'SMAPE train = 0.10900678853705673 | SMAPE test = 0.20476980525773295'"
     },
     "execution_count": 74,
     "metadata": {},
     "output_type": "execute_result"
    }
   ],
   "source": [
    "SMAPE_train = calculate_SMAPE(train_predict, y_train)\n",
    "SMAPE_test = calculate_SMAPE(test_predict, y_test)\n",
    "f'SMAPE train = {SMAPE_train} | SMAPE test = {SMAPE_test}'"
   ],
   "metadata": {
    "collapsed": false,
    "pycharm": {
     "name": "#%%\n"
    }
   }
  },
  {
   "cell_type": "code",
   "execution_count": null,
   "outputs": [],
   "source": [],
   "metadata": {
    "collapsed": false,
    "pycharm": {
     "name": "#%%\n"
    }
   }
  }
 ],
 "metadata": {
  "kernelspec": {
   "display_name": "Python 3",
   "language": "python",
   "name": "python3"
  },
  "language_info": {
   "codemirror_mode": {
    "name": "ipython",
    "version": 2
   },
   "file_extension": ".py",
   "mimetype": "text/x-python",
   "name": "python",
   "nbconvert_exporter": "python",
   "pygments_lexer": "ipython2",
   "version": "2.7.6"
  }
 },
 "nbformat": 4,
 "nbformat_minor": 0
}