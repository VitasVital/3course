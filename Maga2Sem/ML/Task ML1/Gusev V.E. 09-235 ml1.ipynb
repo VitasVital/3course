{
 "cells": [
  {
   "cell_type": "code",
   "execution_count": 2,
   "outputs": [],
   "source": [
    "import pandas as pd\n",
    "import numpy as np\n",
    "import matplotlib.pyplot as plt\n",
    "from sklearn.linear_model import LinearRegression, LogisticRegression\n",
    "from sklearn.model_selection import train_test_split"
   ],
   "metadata": {
    "collapsed": false,
    "ExecuteTime": {
     "start_time": "2023-04-28T10:27:57.272981Z",
     "end_time": "2023-04-28T10:27:57.285965Z"
    }
   }
  },
  {
   "cell_type": "code",
   "execution_count": 16,
   "outputs": [
    {
     "data": {
      "text/plain": "    duration  energy  key  loudness  mode  speechiness  acousticness   \n0       2.97   0.664    9    -5.044     1       0.1540       0.33500  \\\n1       2.30   0.506    8   -11.275     1       0.0589       0.37900   \n2       3.38   0.825    6    -3.787     0       0.0601       0.00883   \n3       3.30   0.696    0    -6.181     1       0.1190       0.32100   \n4       2.30   0.503    8    -6.725     0       0.2200       0.29300   \n..       ...     ...  ...       ...   ...          ...           ...   \n95      3.30   0.696    0    -6.181     1       0.1190       0.32100   \n96      3.37   0.748   11    -5.922     0       0.0589       0.30500   \n97      2.91   0.340   11    -7.773     0       0.0697       0.21800   \n98      3.45   0.754    1    -6.684     1       0.0615       0.01510   \n99      2.30   0.503    8    -6.725     0       0.2200       0.29300   \n\n    instrumentalness  liveness  valence    tempo  danceability  \n0              0.000    0.0849    0.688  166.928         0.563  \n1              0.868    0.1100    0.454  170.054         0.564  \n2              0.000    0.0674    0.915  102.977         0.702  \n3              0.000    0.4200    0.464   90.030         0.677  \n4              0.000    0.4050    0.710  178.781         0.593  \n..               ...       ...      ...      ...           ...  \n95             0.000    0.4200    0.464   90.030         0.677  \n96             0.000    0.0811    0.964  163.984         0.672  \n97             0.130    0.0550    0.716   94.009         0.889  \n98             0.000    0.0486    0.755  149.789         0.752  \n99             0.000    0.4050    0.710  178.781         0.593  \n\n[100 rows x 12 columns]",
      "text/html": "<div>\n<style scoped>\n    .dataframe tbody tr th:only-of-type {\n        vertical-align: middle;\n    }\n\n    .dataframe tbody tr th {\n        vertical-align: top;\n    }\n\n    .dataframe thead th {\n        text-align: right;\n    }\n</style>\n<table border=\"1\" class=\"dataframe\">\n  <thead>\n    <tr style=\"text-align: right;\">\n      <th></th>\n      <th>duration</th>\n      <th>energy</th>\n      <th>key</th>\n      <th>loudness</th>\n      <th>mode</th>\n      <th>speechiness</th>\n      <th>acousticness</th>\n      <th>instrumentalness</th>\n      <th>liveness</th>\n      <th>valence</th>\n      <th>tempo</th>\n      <th>danceability</th>\n    </tr>\n  </thead>\n  <tbody>\n    <tr>\n      <th>0</th>\n      <td>2.97</td>\n      <td>0.664</td>\n      <td>9</td>\n      <td>-5.044</td>\n      <td>1</td>\n      <td>0.1540</td>\n      <td>0.33500</td>\n      <td>0.000</td>\n      <td>0.0849</td>\n      <td>0.688</td>\n      <td>166.928</td>\n      <td>0.563</td>\n    </tr>\n    <tr>\n      <th>1</th>\n      <td>2.30</td>\n      <td>0.506</td>\n      <td>8</td>\n      <td>-11.275</td>\n      <td>1</td>\n      <td>0.0589</td>\n      <td>0.37900</td>\n      <td>0.868</td>\n      <td>0.1100</td>\n      <td>0.454</td>\n      <td>170.054</td>\n      <td>0.564</td>\n    </tr>\n    <tr>\n      <th>2</th>\n      <td>3.38</td>\n      <td>0.825</td>\n      <td>6</td>\n      <td>-3.787</td>\n      <td>0</td>\n      <td>0.0601</td>\n      <td>0.00883</td>\n      <td>0.000</td>\n      <td>0.0674</td>\n      <td>0.915</td>\n      <td>102.977</td>\n      <td>0.702</td>\n    </tr>\n    <tr>\n      <th>3</th>\n      <td>3.30</td>\n      <td>0.696</td>\n      <td>0</td>\n      <td>-6.181</td>\n      <td>1</td>\n      <td>0.1190</td>\n      <td>0.32100</td>\n      <td>0.000</td>\n      <td>0.4200</td>\n      <td>0.464</td>\n      <td>90.030</td>\n      <td>0.677</td>\n    </tr>\n    <tr>\n      <th>4</th>\n      <td>2.30</td>\n      <td>0.503</td>\n      <td>8</td>\n      <td>-6.725</td>\n      <td>0</td>\n      <td>0.2200</td>\n      <td>0.29300</td>\n      <td>0.000</td>\n      <td>0.4050</td>\n      <td>0.710</td>\n      <td>178.781</td>\n      <td>0.593</td>\n    </tr>\n    <tr>\n      <th>...</th>\n      <td>...</td>\n      <td>...</td>\n      <td>...</td>\n      <td>...</td>\n      <td>...</td>\n      <td>...</td>\n      <td>...</td>\n      <td>...</td>\n      <td>...</td>\n      <td>...</td>\n      <td>...</td>\n      <td>...</td>\n    </tr>\n    <tr>\n      <th>95</th>\n      <td>3.30</td>\n      <td>0.696</td>\n      <td>0</td>\n      <td>-6.181</td>\n      <td>1</td>\n      <td>0.1190</td>\n      <td>0.32100</td>\n      <td>0.000</td>\n      <td>0.4200</td>\n      <td>0.464</td>\n      <td>90.030</td>\n      <td>0.677</td>\n    </tr>\n    <tr>\n      <th>96</th>\n      <td>3.37</td>\n      <td>0.748</td>\n      <td>11</td>\n      <td>-5.922</td>\n      <td>0</td>\n      <td>0.0589</td>\n      <td>0.30500</td>\n      <td>0.000</td>\n      <td>0.0811</td>\n      <td>0.964</td>\n      <td>163.984</td>\n      <td>0.672</td>\n    </tr>\n    <tr>\n      <th>97</th>\n      <td>2.91</td>\n      <td>0.340</td>\n      <td>11</td>\n      <td>-7.773</td>\n      <td>0</td>\n      <td>0.0697</td>\n      <td>0.21800</td>\n      <td>0.130</td>\n      <td>0.0550</td>\n      <td>0.716</td>\n      <td>94.009</td>\n      <td>0.889</td>\n    </tr>\n    <tr>\n      <th>98</th>\n      <td>3.45</td>\n      <td>0.754</td>\n      <td>1</td>\n      <td>-6.684</td>\n      <td>1</td>\n      <td>0.0615</td>\n      <td>0.01510</td>\n      <td>0.000</td>\n      <td>0.0486</td>\n      <td>0.755</td>\n      <td>149.789</td>\n      <td>0.752</td>\n    </tr>\n    <tr>\n      <th>99</th>\n      <td>2.30</td>\n      <td>0.503</td>\n      <td>8</td>\n      <td>-6.725</td>\n      <td>0</td>\n      <td>0.2200</td>\n      <td>0.29300</td>\n      <td>0.000</td>\n      <td>0.4050</td>\n      <td>0.710</td>\n      <td>178.781</td>\n      <td>0.593</td>\n    </tr>\n  </tbody>\n</table>\n<p>100 rows × 12 columns</p>\n</div>"
     },
     "execution_count": 16,
     "metadata": {},
     "output_type": "execute_result"
    }
   ],
   "source": [
    "data = pd.read_csv('top 100 streamed songs.csv').drop(columns=['id', 'name'])\n",
    "data"
   ],
   "metadata": {
    "collapsed": false,
    "ExecuteTime": {
     "start_time": "2023-04-28T10:41:15.012684Z",
     "end_time": "2023-04-28T10:41:15.030720Z"
    }
   }
  },
  {
   "cell_type": "code",
   "execution_count": 17,
   "outputs": [],
   "source": [
    "Y = data['duration']\n",
    "X = data.drop(['duration'], axis=1)"
   ],
   "metadata": {
    "collapsed": false,
    "ExecuteTime": {
     "start_time": "2023-04-28T10:41:15.361951Z",
     "end_time": "2023-04-28T10:41:15.382149Z"
    }
   }
  },
  {
   "cell_type": "code",
   "execution_count": 18,
   "outputs": [],
   "source": [
    "training_samples = data.values[:80]\n",
    "validation_sapmles = data.values[80:90]\n",
    "test_samples = data.values[90:100]"
   ],
   "metadata": {
    "collapsed": false,
    "ExecuteTime": {
     "start_time": "2023-04-28T10:41:15.701870Z",
     "end_time": "2023-04-28T10:41:15.725418Z"
    }
   }
  },
  {
   "cell_type": "code",
   "execution_count": 19,
   "outputs": [],
   "source": [
    "def calculate_RMSE(input_a, input_y):\n",
    "    MSE = sum((input_a - input_y) ** 2) / len(input_y)\n",
    "    RMSE = np.sqrt(MSE)\n",
    "    return RMSE\n",
    "\n",
    "def calculate_sqrR(input_a, input_y):\n",
    "    numerator = sum((input_a - input_y) ** 2)\n",
    "    denominator = sum((input_y - sum(input_y) / len(input_y)) ** 2)\n",
    "    sqrR = 1 - numerator / denominator\n",
    "    return sqrR\n",
    "\n",
    "def calculate_MSLE(input_a, input_y):\n",
    "    MSLE = sum((np.log(input_a + 1) - np.log(input_y + 1)) ** 2) / len(input_y)\n",
    "    return MSLE\n",
    "\n",
    "def calculate_MAE(input_a, input_y):\n",
    "    MAE = sum(abs(input_a - input_y)) / len(input_y)\n",
    "    return MAE\n",
    "\n",
    "def calculate_MAPE(input_a, input_y):\n",
    "    MAPE = sum(abs(input_y - input_a) / abs(input_y)) / len(input_y)\n",
    "    return MAPE\n",
    "\n",
    "def calculate_SMAPE(input_a, input_y):\n",
    "    SMAPE = sum(abs(input_y - input_a) * 2 / (abs(input_y) + abs(input_a))) / len(input_y)\n",
    "    return SMAPE"
   ],
   "metadata": {
    "collapsed": false,
    "ExecuteTime": {
     "start_time": "2023-04-28T10:41:15.962468Z",
     "end_time": "2023-04-28T10:41:15.967987Z"
    }
   }
  },
  {
   "cell_type": "code",
   "execution_count": 20,
   "outputs": [],
   "source": [
    "X_train, X_test, y_train, y_test = train_test_split(X, Y, test_size=0.33, random_state=42)\n",
    "train_model = LinearRegression().fit(X_train, y_train) # веса\n",
    "# train_model.coef_\n",
    "# train_model.intercept_\n",
    "\n",
    "train_predict = train_model.predict(X_train) # предсказывает значение для выборки\n",
    "test_predict = train_model.predict(X_test)"
   ],
   "metadata": {
    "collapsed": false,
    "ExecuteTime": {
     "start_time": "2023-04-28T10:41:16.211391Z",
     "end_time": "2023-04-28T10:41:16.218573Z"
    }
   }
  },
  {
   "cell_type": "code",
   "execution_count": 21,
   "outputs": [
    {
     "data": {
      "text/plain": "'RMSE train = 0.43852321199835526 | RMSE test = 1.2896450976755365'"
     },
     "execution_count": 21,
     "metadata": {},
     "output_type": "execute_result"
    }
   ],
   "source": [
    "RMSE_train = calculate_RMSE(train_predict, y_train)\n",
    "RMSE_test = calculate_RMSE(test_predict, y_test)\n",
    "f'RMSE train = {RMSE_train} | RMSE test = {RMSE_test}'"
   ],
   "metadata": {
    "collapsed": false,
    "ExecuteTime": {
     "start_time": "2023-04-28T10:41:16.496872Z",
     "end_time": "2023-04-28T10:41:16.503267Z"
    }
   }
  },
  {
   "cell_type": "code",
   "execution_count": 22,
   "outputs": [
    {
     "data": {
      "text/plain": "'sqrR train = 0.4820535037244784 | sqrR test = 0.08195116535894531'"
     },
     "execution_count": 22,
     "metadata": {},
     "output_type": "execute_result"
    }
   ],
   "source": [
    "sqrR_train = calculate_sqrR(train_predict, y_train)\n",
    "sqrR_test = calculate_sqrR(test_predict, y_test)\n",
    "f'sqrR train = {sqrR_train} | sqrR test = {sqrR_test}'"
   ],
   "metadata": {
    "collapsed": false,
    "ExecuteTime": {
     "start_time": "2023-04-28T10:41:16.711433Z",
     "end_time": "2023-04-28T10:41:16.719959Z"
    }
   }
  },
  {
   "cell_type": "code",
   "execution_count": 23,
   "outputs": [
    {
     "data": {
      "text/plain": "'MSLE train = 0.012949583421173935 | MSLE test = 0.049397728860954'"
     },
     "execution_count": 23,
     "metadata": {},
     "output_type": "execute_result"
    }
   ],
   "source": [
    "MSLE_train = calculate_MSLE(train_predict, y_train)\n",
    "MSLE_test = calculate_MSLE(test_predict, y_test)\n",
    "f'MSLE train = {MSLE_train} | MSLE test = {MSLE_test}'"
   ],
   "metadata": {
    "collapsed": false,
    "ExecuteTime": {
     "start_time": "2023-04-28T10:41:17.124779Z",
     "end_time": "2023-04-28T10:41:17.140059Z"
    }
   }
  },
  {
   "cell_type": "code",
   "execution_count": 24,
   "outputs": [
    {
     "data": {
      "text/plain": "'MAE train = 0.34034825566392707 | MAE test = 0.7756934629352532'"
     },
     "execution_count": 24,
     "metadata": {},
     "output_type": "execute_result"
    }
   ],
   "source": [
    "MAE_train = calculate_MAE(train_predict, y_train)\n",
    "MAE_test = calculate_MAE(test_predict, y_test)\n",
    "f'MAE train = {MAE_train} | MAE test = {MAE_test}'"
   ],
   "metadata": {
    "collapsed": false,
    "ExecuteTime": {
     "start_time": "2023-04-28T10:41:17.460894Z",
     "end_time": "2023-04-28T10:41:17.465584Z"
    }
   }
  },
  {
   "cell_type": "code",
   "execution_count": 25,
   "outputs": [
    {
     "data": {
      "text/plain": "'MAPE train = 0.12005342427791259 | MAPE test = 0.20876965696996264'"
     },
     "execution_count": 25,
     "metadata": {},
     "output_type": "execute_result"
    }
   ],
   "source": [
    "MAPE_train = calculate_MAPE(train_predict, y_train)\n",
    "MAPE_test = calculate_MAPE(test_predict, y_test)\n",
    "f'MAPE train = {MAPE_train} | MAPE test = {MAPE_test}'"
   ],
   "metadata": {
    "collapsed": false,
    "ExecuteTime": {
     "start_time": "2023-04-28T10:41:17.781965Z",
     "end_time": "2023-04-28T10:41:17.786867Z"
    }
   }
  },
  {
   "cell_type": "code",
   "execution_count": 26,
   "outputs": [
    {
     "data": {
      "text/plain": "'SMAPE train = 0.10900678853705678 | SMAPE test = 0.20476980525773295'"
     },
     "execution_count": 26,
     "metadata": {},
     "output_type": "execute_result"
    }
   ],
   "source": [
    "SMAPE_train = calculate_SMAPE(train_predict, y_train)\n",
    "SMAPE_test = calculate_SMAPE(test_predict, y_test)\n",
    "f'SMAPE train = {SMAPE_train} | SMAPE test = {SMAPE_test}'"
   ],
   "metadata": {
    "collapsed": false,
    "ExecuteTime": {
     "start_time": "2023-04-28T10:41:18.172271Z",
     "end_time": "2023-04-28T10:41:18.217551Z"
    }
   }
  }
 ],
 "metadata": {
  "kernelspec": {
   "display_name": "Python 3",
   "language": "python",
   "name": "python3"
  },
  "language_info": {
   "codemirror_mode": {
    "name": "ipython",
    "version": 2
   },
   "file_extension": ".py",
   "mimetype": "text/x-python",
   "name": "python",
   "nbconvert_exporter": "python",
   "pygments_lexer": "ipython2",
   "version": "2.7.6"
  }
 },
 "nbformat": 4,
 "nbformat_minor": 0
}
