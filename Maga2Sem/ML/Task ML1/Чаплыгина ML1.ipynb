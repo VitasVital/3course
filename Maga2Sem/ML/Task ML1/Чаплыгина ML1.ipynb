{
 "cells": [
  {
   "cell_type": "code",
   "execution_count": 35,
   "outputs": [],
   "source": [
    "import pandas as pd\n",
    "import numpy as np\n",
    "import matplotlib.pyplot as plt\n",
    "from sklearn.linear_model import LinearRegression, LogisticRegression\n",
    "from sklearn.model_selection import train_test_split"
   ],
   "metadata": {
    "collapsed": false,
    "pycharm": {
     "name": "#%%\n"
    }
   }
  },
  {
   "cell_type": "code",
   "execution_count": 36,
   "outputs": [
    {
     "data": {
      "text/plain": "      Age  Annual Income ($)  Spending Score (1-100)  Work Experience  \\\n0      19              15000                      39                1   \n1      21              35000                      81                3   \n2      20              86000                       6                1   \n3      23              59000                      77                0   \n4      31              38000                      40                2   \n...   ...                ...                     ...              ...   \n1995   71             184387                      40                8   \n1996   91              73158                      32                7   \n1997   87              90961                      14                9   \n1998   77             182109                       4                7   \n1999   90             110610                      52                5   \n\n      Family Size  \n0               4  \n1               3  \n2               1  \n3               2  \n4               6  \n...           ...  \n1995            7  \n1996            7  \n1997            2  \n1998            2  \n1999            2  \n\n[2000 rows x 5 columns]",
      "text/html": "<div>\n<style scoped>\n    .dataframe tbody tr th:only-of-type {\n        vertical-align: middle;\n    }\n\n    .dataframe tbody tr th {\n        vertical-align: top;\n    }\n\n    .dataframe thead th {\n        text-align: right;\n    }\n</style>\n<table border=\"1\" class=\"dataframe\">\n  <thead>\n    <tr style=\"text-align: right;\">\n      <th></th>\n      <th>Age</th>\n      <th>Annual Income ($)</th>\n      <th>Spending Score (1-100)</th>\n      <th>Work Experience</th>\n      <th>Family Size</th>\n    </tr>\n  </thead>\n  <tbody>\n    <tr>\n      <th>0</th>\n      <td>19</td>\n      <td>15000</td>\n      <td>39</td>\n      <td>1</td>\n      <td>4</td>\n    </tr>\n    <tr>\n      <th>1</th>\n      <td>21</td>\n      <td>35000</td>\n      <td>81</td>\n      <td>3</td>\n      <td>3</td>\n    </tr>\n    <tr>\n      <th>2</th>\n      <td>20</td>\n      <td>86000</td>\n      <td>6</td>\n      <td>1</td>\n      <td>1</td>\n    </tr>\n    <tr>\n      <th>3</th>\n      <td>23</td>\n      <td>59000</td>\n      <td>77</td>\n      <td>0</td>\n      <td>2</td>\n    </tr>\n    <tr>\n      <th>4</th>\n      <td>31</td>\n      <td>38000</td>\n      <td>40</td>\n      <td>2</td>\n      <td>6</td>\n    </tr>\n    <tr>\n      <th>...</th>\n      <td>...</td>\n      <td>...</td>\n      <td>...</td>\n      <td>...</td>\n      <td>...</td>\n    </tr>\n    <tr>\n      <th>1995</th>\n      <td>71</td>\n      <td>184387</td>\n      <td>40</td>\n      <td>8</td>\n      <td>7</td>\n    </tr>\n    <tr>\n      <th>1996</th>\n      <td>91</td>\n      <td>73158</td>\n      <td>32</td>\n      <td>7</td>\n      <td>7</td>\n    </tr>\n    <tr>\n      <th>1997</th>\n      <td>87</td>\n      <td>90961</td>\n      <td>14</td>\n      <td>9</td>\n      <td>2</td>\n    </tr>\n    <tr>\n      <th>1998</th>\n      <td>77</td>\n      <td>182109</td>\n      <td>4</td>\n      <td>7</td>\n      <td>2</td>\n    </tr>\n    <tr>\n      <th>1999</th>\n      <td>90</td>\n      <td>110610</td>\n      <td>52</td>\n      <td>5</td>\n      <td>2</td>\n    </tr>\n  </tbody>\n</table>\n<p>2000 rows × 5 columns</p>\n</div>"
     },
     "execution_count": 36,
     "metadata": {},
     "output_type": "execute_result"
    }
   ],
   "source": [
    "data = pd.read_csv('datasets/Customers.csv').drop(columns=['CustomerID', 'Gender', 'Profession'])\n",
    "data"
   ],
   "metadata": {
    "collapsed": false,
    "pycharm": {
     "name": "#%%\n"
    }
   }
  },
  {
   "cell_type": "code",
   "execution_count": 37,
   "outputs": [],
   "source": [
    "Y = data['Annual Income ($)']\n",
    "X = data.drop(['Annual Income ($)'], axis=1)"
   ],
   "metadata": {
    "collapsed": false,
    "pycharm": {
     "name": "#%%\n"
    }
   }
  },
  {
   "cell_type": "code",
   "execution_count": 38,
   "outputs": [],
   "source": [
    "training_samples = data.values[:80]\n",
    "validation_sapmles = data.values[80:90]\n",
    "test_samples = data.values[90:100]"
   ],
   "metadata": {
    "collapsed": false,
    "pycharm": {
     "name": "#%%\n"
    }
   }
  },
  {
   "cell_type": "code",
   "execution_count": 39,
   "outputs": [],
   "source": [
    "def calculate_RMSE(input_a, input_y):\n",
    "    MSE = sum((input_a - input_y) ** 2) / len(input_y)\n",
    "    RMSE = np.sqrt(MSE)\n",
    "    return RMSE\n",
    "\n",
    "def calculate_sqrR(input_a, input_y):\n",
    "    numerator = sum((input_a - input_y) ** 2)\n",
    "    denominator = sum((input_y - sum(input_y) / len(input_y)) ** 2)\n",
    "    sqrR = 1 - numerator / denominator\n",
    "    return sqrR\n",
    "\n",
    "def calculate_MSLE(input_a, input_y):\n",
    "    MSLE = sum((np.log(input_a + 1) - np.log(input_y + 1)) ** 2) / len(input_y)\n",
    "    return MSLE\n",
    "\n",
    "def calculate_MAE(input_a, input_y):\n",
    "    MAE = sum(abs(input_a - input_y)) / len(input_y)\n",
    "    return MAE\n",
    "\n",
    "def calculate_MAPE(input_a, input_y):\n",
    "    MAPE = sum(abs(input_y - input_a) / abs(input_y)) / len(input_y)\n",
    "    return MAPE\n",
    "\n",
    "def calculate_SMAPE(input_a, input_y):\n",
    "    SMAPE = sum(abs(input_y - input_a) * 2 / (abs(input_y) + abs(input_a))) / len(input_y)\n",
    "    return SMAPE"
   ],
   "metadata": {
    "collapsed": false,
    "pycharm": {
     "name": "#%%\n"
    }
   }
  },
  {
   "cell_type": "code",
   "execution_count": 40,
   "outputs": [],
   "source": [
    "X_train, X_test, y_train, y_test = train_test_split(X, Y, test_size=0.33, random_state=42)\n",
    "train_model = LinearRegression().fit(X_train, y_train) # веса\n",
    "# train_model.coef_\n",
    "# train_model.intercept_\n",
    "\n",
    "train_predict = train_model.predict(X_train) # предсказывает значение для выборки\n",
    "test_predict = train_model.predict(X_test)"
   ],
   "metadata": {
    "collapsed": false,
    "pycharm": {
     "name": "#%%\n"
    }
   }
  },
  {
   "cell_type": "code",
   "execution_count": 41,
   "outputs": [
    {
     "data": {
      "text/plain": "'RMSE train = 45058.02640530957 | RMSE test = 45884.84497246086'"
     },
     "execution_count": 41,
     "metadata": {},
     "output_type": "execute_result"
    }
   ],
   "source": [
    "RMSE_train = calculate_RMSE(train_predict, y_train)\n",
    "RMSE_test = calculate_RMSE(test_predict, y_test)\n",
    "f'RMSE train = {RMSE_train} | RMSE test = {RMSE_test}'"
   ],
   "metadata": {
    "collapsed": false,
    "pycharm": {
     "name": "#%%\n"
    }
   }
  },
  {
   "cell_type": "code",
   "execution_count": 42,
   "outputs": [
    {
     "data": {
      "text/plain": "'sqrR train = 0.01924262542877364 | sqrR test = 0.013018569119899737'"
     },
     "execution_count": 42,
     "metadata": {},
     "output_type": "execute_result"
    }
   ],
   "source": [
    "sqrR_train = calculate_sqrR(train_predict, y_train)\n",
    "sqrR_test = calculate_sqrR(test_predict, y_test)\n",
    "f'sqrR train = {sqrR_train} | sqrR test = {sqrR_test}'"
   ],
   "metadata": {
    "collapsed": false,
    "pycharm": {
     "name": "#%%\n"
    }
   }
  },
  {
   "cell_type": "code",
   "execution_count": 43,
   "outputs": [
    {
     "data": {
      "text/plain": "'MSLE train = 0.5504528438427299 | MSLE test = 0.42045118185006225'"
     },
     "execution_count": 43,
     "metadata": {},
     "output_type": "execute_result"
    }
   ],
   "source": [
    "MSLE_train = calculate_MSLE(train_predict, y_train)\n",
    "MSLE_test = calculate_MSLE(test_predict, y_test)\n",
    "f'MSLE train = {MSLE_train} | MSLE test = {MSLE_test}'"
   ],
   "metadata": {
    "collapsed": false,
    "pycharm": {
     "name": "#%%\n"
    }
   }
  },
  {
   "cell_type": "code",
   "execution_count": 44,
   "outputs": [
    {
     "data": {
      "text/plain": "'MAE train = 38117.40612579462 | MAE test = 38987.23549421621'"
     },
     "execution_count": 44,
     "metadata": {},
     "output_type": "execute_result"
    }
   ],
   "source": [
    "MAE_train = calculate_MAE(train_predict, y_train)\n",
    "MAE_test = calculate_MAE(test_predict, y_test)\n",
    "f'MAE train = {MAE_train} | MAE test = {MAE_test}'"
   ],
   "metadata": {
    "collapsed": false,
    "pycharm": {
     "name": "#%%\n"
    }
   }
  },
  {
   "cell_type": "code",
   "execution_count": 45,
   "outputs": [
    {
     "data": {
      "text/plain": "'MAPE train = inf | MAPE test = 0.9851757605926352'"
     },
     "execution_count": 45,
     "metadata": {},
     "output_type": "execute_result"
    }
   ],
   "source": [
    "MAPE_train = calculate_MAPE(train_predict, y_train)\n",
    "MAPE_test = calculate_MAPE(test_predict, y_test)\n",
    "f'MAPE train = {MAPE_train} | MAPE test = {MAPE_test}'"
   ],
   "metadata": {
    "collapsed": false,
    "pycharm": {
     "name": "#%%\n"
    }
   }
  },
  {
   "cell_type": "code",
   "execution_count": 33,
   "outputs": [
    {
     "ename": "NameError",
     "evalue": "name 'train_predict' is not defined",
     "output_type": "error",
     "traceback": [
      "\u001B[1;31m---------------------------------------------------------------------------\u001B[0m",
      "\u001B[1;31mNameError\u001B[0m                                 Traceback (most recent call last)",
      "\u001B[1;32m~\\AppData\\Local\\Temp\\ipykernel_2380\\793817380.py\u001B[0m in \u001B[0;36m<module>\u001B[1;34m\u001B[0m\n\u001B[1;32m----> 1\u001B[1;33m \u001B[0mSMAPE_train\u001B[0m \u001B[1;33m=\u001B[0m \u001B[0mcalculate_SMAPE\u001B[0m\u001B[1;33m(\u001B[0m\u001B[0mtrain_predict\u001B[0m\u001B[1;33m,\u001B[0m \u001B[0my_train\u001B[0m\u001B[1;33m)\u001B[0m\u001B[1;33m\u001B[0m\u001B[0m\n\u001B[0m\u001B[0;32m      2\u001B[0m \u001B[0mSMAPE_test\u001B[0m \u001B[1;33m=\u001B[0m \u001B[0mcalculate_SMAPE\u001B[0m\u001B[1;33m(\u001B[0m\u001B[0mtest_predict\u001B[0m\u001B[1;33m,\u001B[0m \u001B[0my_test\u001B[0m\u001B[1;33m)\u001B[0m\u001B[1;33m\u001B[0m\u001B[0m\n\u001B[0;32m      3\u001B[0m \u001B[1;34mf'SMAPE train = {SMAPE_train} | SMAPE test = {SMAPE_test}'\u001B[0m\u001B[1;33m\u001B[0m\u001B[0m\n",
      "\u001B[1;31mNameError\u001B[0m: name 'train_predict' is not defined"
     ]
    }
   ],
   "source": [
    "SMAPE_train = calculate_SMAPE(train_predict, y_train)\n",
    "SMAPE_test = calculate_SMAPE(test_predict, y_test)\n",
    "f'SMAPE train = {SMAPE_train} | SMAPE test = {SMAPE_test}'"
   ],
   "metadata": {
    "collapsed": false,
    "pycharm": {
     "name": "#%%\n"
    }
   }
  },
  {
   "cell_type": "code",
   "execution_count": null,
   "outputs": [],
   "source": [],
   "metadata": {
    "collapsed": false,
    "pycharm": {
     "name": "#%%\n"
    }
   }
  }
 ],
 "metadata": {
  "kernelspec": {
   "display_name": "Python 3",
   "language": "python",
   "name": "python3"
  },
  "language_info": {
   "codemirror_mode": {
    "name": "ipython",
    "version": 2
   },
   "file_extension": ".py",
   "mimetype": "text/x-python",
   "name": "python",
   "nbconvert_exporter": "python",
   "pygments_lexer": "ipython2",
   "version": "2.7.6"
  }
 },
 "nbformat": 4,
 "nbformat_minor": 0
}