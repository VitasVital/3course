{
 "cells": [
  {
   "cell_type": "code",
   "execution_count": 2,
   "outputs": [],
   "source": [
    "import pandas as pd\n",
    "import numpy as np\n",
    "import matplotlib.pyplot as plt\n",
    "from sklearn.tree import DecisionTreeClassifier, export_graphviz\n",
    "from sklearn.model_selection import train_test_split\n",
    "from sklearn import tree\n",
    "from IPython.display import SVG\n",
    "from graphviz import Source\n",
    "from IPython.display import display\n",
    "from sklearn.metrics import classification_report, confusion_matrix"
   ],
   "metadata": {
    "collapsed": false,
    "ExecuteTime": {
     "start_time": "2023-04-09T12:00:19.386430Z",
     "end_time": "2023-04-09T12:00:19.417980Z"
    }
   }
  },
  {
   "cell_type": "code",
   "execution_count": 3,
   "outputs": [
    {
     "data": {
      "text/plain": "     Age Sex      BP Cholesterol  Na_to_K   Drug\n0     23   F    HIGH        HIGH   25.355  drugY\n1     47   M     LOW        HIGH   13.093  drugC\n2     47   M     LOW        HIGH   10.114  drugC\n3     28   F  NORMAL        HIGH    7.798  drugX\n4     61   F     LOW        HIGH   18.043  drugY\n..   ...  ..     ...         ...      ...    ...\n195   56   F     LOW        HIGH   11.567  drugC\n196   16   M     LOW        HIGH   12.006  drugC\n197   52   M  NORMAL        HIGH    9.894  drugX\n198   23   M  NORMAL      NORMAL   14.020  drugX\n199   40   F     LOW      NORMAL   11.349  drugX\n\n[200 rows x 6 columns]",
      "text/html": "<div>\n<style scoped>\n    .dataframe tbody tr th:only-of-type {\n        vertical-align: middle;\n    }\n\n    .dataframe tbody tr th {\n        vertical-align: top;\n    }\n\n    .dataframe thead th {\n        text-align: right;\n    }\n</style>\n<table border=\"1\" class=\"dataframe\">\n  <thead>\n    <tr style=\"text-align: right;\">\n      <th></th>\n      <th>Age</th>\n      <th>Sex</th>\n      <th>BP</th>\n      <th>Cholesterol</th>\n      <th>Na_to_K</th>\n      <th>Drug</th>\n    </tr>\n  </thead>\n  <tbody>\n    <tr>\n      <th>0</th>\n      <td>23</td>\n      <td>F</td>\n      <td>HIGH</td>\n      <td>HIGH</td>\n      <td>25.355</td>\n      <td>drugY</td>\n    </tr>\n    <tr>\n      <th>1</th>\n      <td>47</td>\n      <td>M</td>\n      <td>LOW</td>\n      <td>HIGH</td>\n      <td>13.093</td>\n      <td>drugC</td>\n    </tr>\n    <tr>\n      <th>2</th>\n      <td>47</td>\n      <td>M</td>\n      <td>LOW</td>\n      <td>HIGH</td>\n      <td>10.114</td>\n      <td>drugC</td>\n    </tr>\n    <tr>\n      <th>3</th>\n      <td>28</td>\n      <td>F</td>\n      <td>NORMAL</td>\n      <td>HIGH</td>\n      <td>7.798</td>\n      <td>drugX</td>\n    </tr>\n    <tr>\n      <th>4</th>\n      <td>61</td>\n      <td>F</td>\n      <td>LOW</td>\n      <td>HIGH</td>\n      <td>18.043</td>\n      <td>drugY</td>\n    </tr>\n    <tr>\n      <th>...</th>\n      <td>...</td>\n      <td>...</td>\n      <td>...</td>\n      <td>...</td>\n      <td>...</td>\n      <td>...</td>\n    </tr>\n    <tr>\n      <th>195</th>\n      <td>56</td>\n      <td>F</td>\n      <td>LOW</td>\n      <td>HIGH</td>\n      <td>11.567</td>\n      <td>drugC</td>\n    </tr>\n    <tr>\n      <th>196</th>\n      <td>16</td>\n      <td>M</td>\n      <td>LOW</td>\n      <td>HIGH</td>\n      <td>12.006</td>\n      <td>drugC</td>\n    </tr>\n    <tr>\n      <th>197</th>\n      <td>52</td>\n      <td>M</td>\n      <td>NORMAL</td>\n      <td>HIGH</td>\n      <td>9.894</td>\n      <td>drugX</td>\n    </tr>\n    <tr>\n      <th>198</th>\n      <td>23</td>\n      <td>M</td>\n      <td>NORMAL</td>\n      <td>NORMAL</td>\n      <td>14.020</td>\n      <td>drugX</td>\n    </tr>\n    <tr>\n      <th>199</th>\n      <td>40</td>\n      <td>F</td>\n      <td>LOW</td>\n      <td>NORMAL</td>\n      <td>11.349</td>\n      <td>drugX</td>\n    </tr>\n  </tbody>\n</table>\n<p>200 rows × 6 columns</p>\n</div>"
     },
     "execution_count": 3,
     "metadata": {},
     "output_type": "execute_result"
    }
   ],
   "source": [
    "data = pd.read_csv('drug200.csv')\n",
    "data"
   ],
   "metadata": {
    "collapsed": false,
    "ExecuteTime": {
     "start_time": "2023-04-09T12:00:19.959977Z",
     "end_time": "2023-04-09T12:00:19.991242Z"
    }
   }
  },
  {
   "cell_type": "code",
   "execution_count": 4,
   "outputs": [],
   "source": [
    "def changeParameterValues(data_frame):\n",
    "    data_with_codes = data_frame.copy()\n",
    "    data_with_codes['Sex'] = data_with_codes['Sex'].astype('category').cat.codes\n",
    "    data_with_codes['BP'] = data_with_codes['BP'].astype('category').cat.codes\n",
    "    data_with_codes['Cholesterol'] = data_with_codes['Cholesterol'].astype('category').cat.codes\n",
    "    # data_with_codes['Drug'] = data_with_codes['Drug'].astype('category').cat.codes\n",
    "    return data_with_codes"
   ],
   "metadata": {
    "collapsed": false,
    "ExecuteTime": {
     "start_time": "2023-04-09T12:00:20.590473Z",
     "end_time": "2023-04-09T12:00:20.622111Z"
    }
   }
  },
  {
   "cell_type": "code",
   "execution_count": 5,
   "outputs": [],
   "source": [
    "new_data = changeParameterValues(data)\n",
    "Y = new_data['Drug']\n",
    "X = new_data.drop(['Drug'], axis=1)"
   ],
   "metadata": {
    "collapsed": false,
    "ExecuteTime": {
     "start_time": "2023-04-09T12:00:21.033698Z",
     "end_time": "2023-04-09T12:00:21.033698Z"
    }
   }
  },
  {
   "cell_type": "code",
   "execution_count": 6,
   "outputs": [],
   "source": [
    "training_samples = data.values[:160]\n",
    "test_samples = data.values[160:200]\n",
    "\n",
    "max_depth = 2"
   ],
   "metadata": {
    "collapsed": false,
    "ExecuteTime": {
     "start_time": "2023-04-09T12:00:21.351273Z",
     "end_time": "2023-04-09T12:00:21.380759Z"
    }
   }
  },
  {
   "cell_type": "code",
   "execution_count": 7,
   "outputs": [],
   "source": [
    "X_train, X_test, y_train, y_test = train_test_split(X, Y, test_size=0.33, random_state=42)\n",
    "tree_clf = DecisionTreeClassifier(max_depth=max_depth, random_state = 42).fit(X_train, y_train)\n",
    "train_predict = tree_clf.predict(X_train)\n",
    "test_predict = tree_clf.predict(X_test)"
   ],
   "metadata": {
    "collapsed": false,
    "ExecuteTime": {
     "start_time": "2023-04-09T12:00:22.092879Z",
     "end_time": "2023-04-09T12:00:22.108698Z"
    }
   }
  },
  {
   "cell_type": "code",
   "execution_count": 8,
   "outputs": [
    {
     "data": {
      "text/plain": "<IPython.core.display.SVG object>",
      "image/svg+xml": "<svg xmlns=\"http://www.w3.org/2000/svg\" xmlns:xlink=\"http://www.w3.org/1999/xlink\" width=\"437pt\" height=\"314pt\" viewBox=\"0.00 0.00 436.50 314.00\">\n<g id=\"graph0\" class=\"graph\" transform=\"scale(1 1) rotate(0) translate(4 310)\">\n<title>Tree</title>\n<polygon fill=\"white\" stroke=\"none\" points=\"-4,4 -4,-310 432.5,-310 432.5,4 -4,4\"/>\n<!-- 0 -->\n<g id=\"node1\" class=\"node\">\n<title>0</title>\n<polygon fill=\"#f8c9ee\" stroke=\"black\" points=\"353,-306 168,-306 168,-223 353,-223 353,-306\"/>\n<text text-anchor=\"middle\" x=\"260.5\" y=\"-290.8\" font-family=\"Helvetica,sans-Serif\" font-size=\"14.00\">Na_to_K &lt;= 14.829</text>\n<text text-anchor=\"middle\" x=\"260.5\" y=\"-275.8\" font-family=\"Helvetica,sans-Serif\" font-size=\"14.00\">gini = 0.692</text>\n<text text-anchor=\"middle\" x=\"260.5\" y=\"-260.8\" font-family=\"Helvetica,sans-Serif\" font-size=\"14.00\">samples = 134</text>\n<text text-anchor=\"middle\" x=\"260.5\" y=\"-245.8\" font-family=\"Helvetica,sans-Serif\" font-size=\"14.00\">value = [15, 12, 10, 35, 62]</text>\n<text text-anchor=\"middle\" x=\"260.5\" y=\"-230.8\" font-family=\"Helvetica,sans-Serif\" font-size=\"14.00\">class = drugB</text>\n</g>\n<!-- 1 -->\n<g id=\"node2\" class=\"node\">\n<title>1</title>\n<polygon fill=\"#bbbaf6\" stroke=\"black\" points=\"258,-187 81,-187 81,-104 258,-104 258,-187\"/>\n<text text-anchor=\"middle\" x=\"169.5\" y=\"-171.8\" font-family=\"Helvetica,sans-Serif\" font-size=\"14.00\">BP &lt;= 0.5</text>\n<text text-anchor=\"middle\" x=\"169.5\" y=\"-156.8\" font-family=\"Helvetica,sans-Serif\" font-size=\"14.00\">gini = 0.673</text>\n<text text-anchor=\"middle\" x=\"169.5\" y=\"-141.8\" font-family=\"Helvetica,sans-Serif\" font-size=\"14.00\">samples = 72</text>\n<text text-anchor=\"middle\" x=\"169.5\" y=\"-126.8\" font-family=\"Helvetica,sans-Serif\" font-size=\"14.00\">value = [15, 12, 10, 35, 0]</text>\n<text text-anchor=\"middle\" x=\"169.5\" y=\"-111.8\" font-family=\"Helvetica,sans-Serif\" font-size=\"14.00\">class = drugA</text>\n</g>\n<!-- 0&#45;&gt;1 -->\n<g id=\"edge1\" class=\"edge\">\n<title>0-&gt;1</title>\n<path fill=\"none\" stroke=\"black\" d=\"M228.67,-222.58C221.91,-213.89 214.71,-204.63 207.74,-195.67\"/>\n<polygon fill=\"black\" stroke=\"black\" points=\"210.06,-193.94 201.16,-188.2 204.53,-198.24 210.06,-193.94\"/>\n<text text-anchor=\"middle\" x=\"198.05\" y=\"-208.31\" font-family=\"Helvetica,sans-Serif\" font-size=\"14.00\">True</text>\n</g>\n<!-- 4 -->\n<g id=\"node5\" class=\"node\">\n<title>4</title>\n<polygon fill=\"#e539c0\" stroke=\"black\" points=\"428.5,-179.5 276.5,-179.5 276.5,-111.5 428.5,-111.5 428.5,-179.5\"/>\n<text text-anchor=\"middle\" x=\"352.5\" y=\"-164.3\" font-family=\"Helvetica,sans-Serif\" font-size=\"14.00\">gini = 0.0</text>\n<text text-anchor=\"middle\" x=\"352.5\" y=\"-149.3\" font-family=\"Helvetica,sans-Serif\" font-size=\"14.00\">samples = 62</text>\n<text text-anchor=\"middle\" x=\"352.5\" y=\"-134.3\" font-family=\"Helvetica,sans-Serif\" font-size=\"14.00\">value = [0, 0, 0, 0, 62]</text>\n<text text-anchor=\"middle\" x=\"352.5\" y=\"-119.3\" font-family=\"Helvetica,sans-Serif\" font-size=\"14.00\">class = drugB</text>\n</g>\n<!-- 0&#45;&gt;4 -->\n<g id=\"edge4\" class=\"edge\">\n<title>0-&gt;4</title>\n<path fill=\"none\" stroke=\"black\" d=\"M292.68,-222.58C301.43,-211.45 310.92,-199.38 319.71,-188.2\"/>\n<polygon fill=\"black\" stroke=\"black\" points=\"322.84,-190.89 326.27,-180.86 317.33,-186.56 322.84,-190.89\"/>\n<text text-anchor=\"middle\" x=\"329.24\" y=\"-200.98\" font-family=\"Helvetica,sans-Serif\" font-size=\"14.00\">False</text>\n</g>\n<!-- 2 -->\n<g id=\"node3\" class=\"node\">\n<title>2</title>\n<polygon fill=\"#fae6d7\" stroke=\"black\" points=\"161,-68 0,-68 0,0 161,0 161,-68\"/>\n<text text-anchor=\"middle\" x=\"80.5\" y=\"-52.8\" font-family=\"Helvetica,sans-Serif\" font-size=\"14.00\">gini = 0.494</text>\n<text text-anchor=\"middle\" x=\"80.5\" y=\"-37.8\" font-family=\"Helvetica,sans-Serif\" font-size=\"14.00\">samples = 27</text>\n<text text-anchor=\"middle\" x=\"80.5\" y=\"-22.8\" font-family=\"Helvetica,sans-Serif\" font-size=\"14.00\">value = [15, 12, 0, 0, 0]</text>\n<text text-anchor=\"middle\" x=\"80.5\" y=\"-7.8\" font-family=\"Helvetica,sans-Serif\" font-size=\"14.00\">class = drugY</text>\n</g>\n<!-- 1&#45;&gt;2 -->\n<g id=\"edge2\" class=\"edge\">\n<title>1-&gt;2</title>\n<path fill=\"none\" stroke=\"black\" d=\"M136.36,-103.73C129.17,-94.88 121.55,-85.51 114.34,-76.63\"/>\n<polygon fill=\"black\" stroke=\"black\" points=\"116.59,-74.85 107.57,-69.3 111.16,-79.27 116.59,-74.85\"/>\n</g>\n<!-- 3 -->\n<g id=\"node4\" class=\"node\">\n<title>3</title>\n<polygon fill=\"#7472ec\" stroke=\"black\" points=\"340,-68 179,-68 179,0 340,0 340,-68\"/>\n<text text-anchor=\"middle\" x=\"259.5\" y=\"-52.8\" font-family=\"Helvetica,sans-Serif\" font-size=\"14.00\">gini = 0.346</text>\n<text text-anchor=\"middle\" x=\"259.5\" y=\"-37.8\" font-family=\"Helvetica,sans-Serif\" font-size=\"14.00\">samples = 45</text>\n<text text-anchor=\"middle\" x=\"259.5\" y=\"-22.8\" font-family=\"Helvetica,sans-Serif\" font-size=\"14.00\">value = [0, 0, 10, 35, 0]</text>\n<text text-anchor=\"middle\" x=\"259.5\" y=\"-7.8\" font-family=\"Helvetica,sans-Serif\" font-size=\"14.00\">class = drugA</text>\n</g>\n<!-- 1&#45;&gt;3 -->\n<g id=\"edge3\" class=\"edge\">\n<title>1-&gt;3</title>\n<path fill=\"none\" stroke=\"black\" d=\"M203.01,-103.73C210.28,-94.88 217.98,-85.51 225.28,-76.63\"/>\n<polygon fill=\"black\" stroke=\"black\" points=\"228.48,-79.25 232.13,-69.3 223.08,-74.8 228.48,-79.25\"/>\n</g>\n</g>\n</svg>"
     },
     "metadata": {},
     "output_type": "display_data"
    }
   ],
   "source": [
    "labels = X.columns\n",
    "graph = Source(tree.export_graphviz(tree_clf ,feature_names = labels, class_names = Y.unique(), max_depth = max_depth, filled = True))\n",
    "display(SVG(graph.pipe(format='svg')))"
   ],
   "metadata": {
    "collapsed": false,
    "ExecuteTime": {
     "start_time": "2023-04-09T12:00:22.466673Z",
     "end_time": "2023-04-09T12:00:27.807919Z"
    }
   }
  },
  {
   "cell_type": "code",
   "execution_count": 9,
   "outputs": [
    {
     "name": "stdout",
     "output_type": "stream",
     "text": [
      "confusion_matrix\n",
      " [[ 8  0  0  0  0]\n",
      " [ 4  0  0  0  0]\n",
      " [ 0  0  0  6  0]\n",
      " [ 0  0  0 19  0]\n",
      " [ 0  0  0  0 29]]\n",
      "              precision    recall  f1-score   support\n",
      "\n",
      "       drugA       0.67      1.00      0.80         8\n",
      "       drugB       0.00      0.00      0.00         4\n",
      "       drugC       0.00      0.00      0.00         6\n",
      "       drugX       0.76      1.00      0.86        19\n",
      "       drugY       1.00      1.00      1.00        29\n",
      "\n",
      "    accuracy                           0.85        66\n",
      "   macro avg       0.49      0.60      0.53        66\n",
      "weighted avg       0.74      0.85      0.78        66\n",
      "\n"
     ]
    },
    {
     "name": "stderr",
     "output_type": "stream",
     "text": [
      "C:\\Users\\vital\\AppData\\Local\\Programs\\Python\\Python311\\Lib\\site-packages\\sklearn\\metrics\\_classification.py:1344: UndefinedMetricWarning: Precision and F-score are ill-defined and being set to 0.0 in labels with no predicted samples. Use `zero_division` parameter to control this behavior.\n",
      "  _warn_prf(average, modifier, msg_start, len(result))\n",
      "C:\\Users\\vital\\AppData\\Local\\Programs\\Python\\Python311\\Lib\\site-packages\\sklearn\\metrics\\_classification.py:1344: UndefinedMetricWarning: Precision and F-score are ill-defined and being set to 0.0 in labels with no predicted samples. Use `zero_division` parameter to control this behavior.\n",
      "  _warn_prf(average, modifier, msg_start, len(result))\n",
      "C:\\Users\\vital\\AppData\\Local\\Programs\\Python\\Python311\\Lib\\site-packages\\sklearn\\metrics\\_classification.py:1344: UndefinedMetricWarning: Precision and F-score are ill-defined and being set to 0.0 in labels with no predicted samples. Use `zero_division` parameter to control this behavior.\n",
      "  _warn_prf(average, modifier, msg_start, len(result))\n"
     ]
    }
   ],
   "source": [
    "print('confusion_matrix\\n', confusion_matrix(y_test, test_predict))\n",
    "print(classification_report(y_test, test_predict))"
   ],
   "metadata": {
    "collapsed": false,
    "ExecuteTime": {
     "start_time": "2023-04-09T12:00:29.004829Z",
     "end_time": "2023-04-09T12:00:29.020779Z"
    }
   }
  },
  {
   "cell_type": "code",
   "execution_count": null,
   "outputs": [],
   "source": [],
   "metadata": {
    "collapsed": false
   }
  }
 ],
 "metadata": {
  "kernelspec": {
   "display_name": "Python 3",
   "language": "python",
   "name": "python3"
  },
  "language_info": {
   "codemirror_mode": {
    "name": "ipython",
    "version": 2
   },
   "file_extension": ".py",
   "mimetype": "text/x-python",
   "name": "python",
   "nbconvert_exporter": "python",
   "pygments_lexer": "ipython2",
   "version": "2.7.6"
  }
 },
 "nbformat": 4,
 "nbformat_minor": 0
}
